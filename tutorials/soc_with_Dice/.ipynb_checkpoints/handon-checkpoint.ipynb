{
 "cells": [
  {
   "cell_type": "code",
   "execution_count": 3,
   "metadata": {
    "collapsed": true
   },
   "outputs": [],
   "source": [
    "import os,sys,numpy"
   ]
  },
  {
   "cell_type": "code",
   "execution_count": 4,
   "metadata": {},
   "outputs": [
    {
     "name": "stdout",
     "output_type": "stream",
     "text": [
      "System: ('Linux', 'shci', '4.4.0-124-generic', '#148-Ubuntu SMP Wed May 2 13:00:18 UTC 2018', 'x86_64', 'x86_64')  Threads 8\n",
      "Python 2.7.14 |Anaconda custom (64-bit)| (default, Oct 16 2017, 17:29:19) \n",
      "[GCC 7.2.0]\n",
      "numpy 1.13.3  scipy 0.19.1\n",
      "Date: Wed May 16 17:21:53 2018\n",
      "PySCF version 1.4.3\n",
      "PySCF path  /home/xubo/Documents/pyscf/pyscf\n",
      "GIT HEAD      a153fc27dc6a4d5287189baf7417757404c4a2b4\n",
      "\n",
      "[INPUT] VERBOSE 4\n",
      "[INPUT] num atoms = 1\n",
      "[INPUT] num electrons = 53\n",
      "[INPUT] charge = 0\n",
      "[INPUT] spin (= nelec alpha-beta = 2S) = 1\n",
      "[INPUT] symmetry 1 subgroup None\n",
      "[INPUT]  1 I      0.000000000000   0.000000000000   0.000000000000 AA    0.000000000000   0.000000000000   0.000000000000 Bohr\n",
      "[INPUT] ---------------- BASIS SET ---------------- \n",
      "[INPUT] l, kappa, [nprim/nctr], expnt,             c_1 c_2 ...\n",
      "[INPUT] I\n",
      "[INPUT] 0    0    [22   /10  ]  34197758.5        0.00029811 -0.00010344 4.628e-05 -2.088e-05 7.23e-06 -1.007e-05 1.539e-05 -1.755e-05 2.805e-05 -2.443e-05\n",
      "                                5458858.97        0.0007515 -0.00026112 0.00011685 -5.272e-05 1.825e-05 -2.542e-05 3.887e-05 -4.416e-05 7.006e-05 -6.146e-05\n",
      "                                1186554.75        0.00204048 -0.0007107 0.00031815 -0.00014357 4.97e-05 -6.923e-05 0.00010578 -0.00012106 0.00019488 -0.00016857\n",
      "                                307137.412        0.00494682 -0.00173095 0.0007754 -0.00034985 0.00012107 -0.00016872 0.00025812 -0.00029125 0.00045563 -0.00040526\n",
      "                                90681.6879        0.01166838 -0.00411742 0.00184666 -0.00083394 0.00028884 -0.00040207 0.00061371 -0.0007116 0.00117502 -0.00099254\n",
      "                                29665.7961        0.02696849 -0.00965731 0.0043411 -0.00195905 0.0006776 -0.00094532 0.00144932 -0.00160027 0.00238914 -0.00222216\n",
      "                                10541.545         0.06199163 -0.02283201 0.01030438 -0.00466308 0.00161709 -0.00224802 0.00342224 -0.00409147 0.00715141 -0.00574052\n",
      "                                4001.16417        0.13798997 -0.05359047 0.02438817 -0.0110235 0.00380997 -0.00532767 0.00820424 -0.00869162 0.01174499 -0.01201689\n",
      "                                1599.03111        0.27096588 -0.11772152 0.05448735 -0.02482323 0.00863192 -0.01197552 0.01815882 -0.02286561 0.04358161 -0.03253145\n",
      "                                667.002937        0.37776263 -0.20528199 0.09864537 -0.04499307 0.01553824 -0.02186754 0.03406799 -0.03249189 0.03133861 -0.04455611\n",
      "                                288.234477        0.25120251 -0.17436829 0.08885264 -0.04181132 0.01478964 -0.0201618 0.02956209 -0.05215754 0.14378755 -0.07948983\n",
      "                                123.614796        0.03716088 0.26618006 -0.17918349 0.08989165 -0.032347 0.04410179 -0.06445761 0.12797796 -0.38709579 0.21116022\n",
      "                                56.5829476        -0.00014615 0.65324846 -0.61503156 0.32132281 -0.11298851 0.16542 -0.27813496 0.19614847 0.08269805 0.3227723\n",
      "                                26.3774552        -0.00029864 0.25649876 -0.21605038 0.13879379 -0.05593799 0.06359009 -0.04631629 0.36646199 -1.60477258 0.44083\n",
      "                                12.4441726        0.00032427 0.01092539 0.85216247 -0.76780953 0.31701591 -0.44181157 0.6790182 -1.71215073 6.24533157 -4.09641371\n",
      "                                5.89297206        -0.00028187 0.0011054 0.49924984 -0.64187717 0.25496299 -0.47408801 0.98335353 0.58857606 -9.57137636 7.64212474\n",
      "                                2.6953325         0.00016897 -0.00046791 0.01024878 0.919837 -0.48556764 1.23445893 -3.74778958 3.21820295 8.31152832 -8.1305845\n",
      "                                1.17717452        -7.999e-05 2.51e-05 0.00923713 0.63354299 -0.66402434 0.44995503 3.41521932 -5.71436692 -4.60434688 6.35945878\n",
      "                                0.45871729        3.494e-05 -1.017e-05 -0.00348501 0.002998 0.60845384 -2.15718179 -0.39239494 5.44709474 1.39364786 -4.57415988\n",
      "                                0.15667348        -1.723e-05 6.38e-06 0.00165176 0.00977927 0.78950698 0.92023136 -2.0796156 -4.23797962 0.82922685 4.41559421\n",
      "                                0.06266939        9.1e-06 -2.07e-06 -0.00089596 -0.00510836 -0.00760457 0.56819856 1.91068652 2.07723496 -2.24023661 -4.42581444\n",
      "                                0.02506775        -2.74e-06 6.1e-07 0.00026973 0.00158445 0.02326753 -0.00421253 -0.17403929 -0.01838085 1.62970835 2.33492747\n",
      "[INPUT] 1    0    [19   /9   ]  1299065.81        3.874e-05 -1.818e-05 7.94e-06 -2.34e-06 3.01e-06 -5.08e-06 6.73e-06 -7.64e-06 1.449e-05\n",
      "                                187865.25         0.00015929 -7.486e-05 3.269e-05 -9.61e-06 1.239e-05 -2.101e-05 2.765e-05 -2.992e-05 5.724e-05\n",
      "                                39958.5855        0.00063025 -0.00029702 0.00012995 -3.822e-05 4.928e-05 -8.268e-05 0.00011056 -0.00013339 0.00025135\n",
      "                                10832.1862        0.00245323 -0.00116015 0.00050677 -0.00014898 0.00019214 -0.00032848 0.00042742 -0.00042163 0.00081602\n",
      "                                3536.36612        0.00926192 -0.00441644 0.00193887 -0.00057054 0.00073568 -0.00122414 0.0016571 -0.00215639 0.00404677\n",
      "                                1325.48101        0.03253482 -0.01572281 0.00689141 -0.00202706 0.00261517 -0.00450372 0.00581128 -0.00528175 0.01034508\n",
      "                                549.032522        0.09862991 -0.04915236 0.0217895 -0.00642248 0.0082831 -0.01370604 0.01876785 -0.02580404 0.04855211\n",
      "                                244.486136        0.23354179 -0.12190565 0.05421094 -0.01598517 0.02064171 -0.03593342 0.04589281 -0.0368494 0.07416747\n",
      "                                114.464314        0.37694557 -0.21011708 0.0958285 -0.02838414 0.03667157 -0.05955188 0.08548552 -0.14116011 0.26762791\n",
      "                                55.4357363        0.32739915 -0.1485237 0.0610151 -0.01770794 0.02289824 -0.0456398 0.04524301 0.06157994 -0.11733705\n",
      "                                26.8008008        0.10521637 0.23728675 -0.14803817 0.0460671 -0.0606995 0.12614297 -0.159163 -0.04382355 -0.06541456\n",
      "                                13.2396634        0.004235 0.57227503 -0.40550731 0.12980654 -0.17059004 0.2565273 -0.43408493 1.13924435 -2.39878438\n",
      "                                6.62235173        0.00154329 0.3076367 -0.10888325 0.02459942 -0.04324784 0.17167643 0.01309806 -1.61498241 5.61468306\n",
      "                                3.09133726        -0.00080186 0.03371043 0.58905888 -0.24245527 0.41891883 -1.2285724 1.99083376 0.0168923 -6.22838153\n",
      "                                1.41508599        0.00027057 0.00025139 0.53844849 -0.25130441 0.24147652 0.57401327 -2.76135546 1.79857525 4.52225968\n",
      "                                0.53504738        -0.00013907 0.00023463 0.07193446 0.25177572 -0.83429137 1.33359098 1.66179914 -2.89910781 -2.88978752\n",
      "                                0.22275475        7.227e-05 -0.00012361 -0.00664908 0.61504477 -0.30226578 -1.64404334 -0.03730327 3.20715849 2.00794083\n",
      "                                0.08313935        -3.094e-05 3.279e-05 0.00336954 0.31173934 0.78197712 0.28583526 -1.27219399 -2.67670057 -1.18744139\n",
      "                                0.03325574        1.041e-05 -1.332e-05 -0.00093819 0.02128218 0.29338614 0.59430234 1.11717971 1.40680843 0.50742127\n",
      "[INPUT] 2    0    [13   /8   ]  1599.03111        0.00086578 -0.00035726 0.00019587 -0.00043387 0.00058788 -0.0007517 0.00056954 -0.00029805\n",
      "                                667.002937        0.00301631 -0.00124179 0.00066802 -0.00137567 0.00124374 -0.00136173 0.00353306 0.01454523\n",
      "                                288.234477        0.01769495 -0.00736148 0.00403385 -0.00890169 0.01171463 -0.01492944 0.01319588 0.00513435\n",
      "                                123.614796        0.07019215 -0.02944887 0.0159991 -0.03403718 0.03637321 -0.04337132 0.07548171 0.2462331\n",
      "                                56.5829476        0.19882811 -0.08502547 0.04698459 -0.10548282 0.13961041 -0.18218339 0.18350111 0.2051365\n",
      "                                26.3774552        0.37502252 -0.15690859 0.08434164 -0.16997069 0.1555505 -0.1498966 0.29741361 0.89988215\n",
      "                                12.4441726        0.3910663 -0.13412574 0.06874365 -0.11605977 0.13729012 -0.10024185 -0.36179133 -3.04361886\n",
      "                                5.89297206        0.160971 0.15918364 -0.12127083 0.39226714 -0.80427032 1.29953825 -0.95762074 3.72973271\n",
      "                                2.6953325         0.0159016 0.48907478 -0.33093615 0.63050395 0.08592017 -1.66334642 2.19579797 -2.88002045\n",
      "                                1.17717452        0.00035879 0.42591076 -0.06966516 -0.87373743 1.1571386 0.79988778 -2.40122401 1.71321514\n",
      "                                0.45871729        -0.00014135 0.10984668 0.58930334 -0.36937104 -1.43694584 0.39297341 2.16526823 -0.9518524\n",
      "                                0.18348691        5.167e-05 -0.00147952 0.47029435 0.73354229 0.5363907 -1.26352083 -1.82697185 0.5567459\n",
      "                                0.07339476        -2.151e-05 0.00242557 0.05544006 0.12168166 0.44932217 1.16092915 1.0170804 -0.23340677\n",
      "[INPUT] 3    0    [5    /5   ]  3.945209          0.47046768 -0.34613639 0.84805401 -0.85477268 0.14880806\n",
      "                                1.578083          0.54047827 -0.15607712 -0.71683286 1.20797744 -0.27311635\n",
      "                                0.445947          0.21604061 0.76675575 -0.44463128 -1.2351456 0.58215997\n",
      "                                0.178379          -0.01426013 0.28257779 0.91985143 0.99226133 -1.21218101\n",
      "                                0.0713515         0.01794154 0.02345444 -0.08429512 0.00751731 1.39521186\n",
      "[INPUT] 4    0    [3    /3   ]  1.972603          0.57455266 -0.83822982 0.39125023\n",
      "                                0.557433          0.557226 0.55942259 -1.06443465\n",
      "                                0.222973          0.15224571 0.35699683 1.17849315\n",
      "nuclear repulsion = 0\n"
     ]
    },
    {
     "name": "stdout",
     "output_type": "stream",
     "text": [
      "point group symmetry = SO3, use subgroup Dooh\n",
      "num. orbitals of irrep A1g = 21\n",
      "num. orbitals of irrep E1gx = 11\n",
      "num. orbitals of irrep E1gy = 11\n",
      "num. orbitals of irrep A1u = 14\n",
      "num. orbitals of irrep E1uy = 14\n",
      "num. orbitals of irrep E1ux = 14\n",
      "num. orbitals of irrep E2gx = 11\n",
      "num. orbitals of irrep E2gy = 11\n",
      "num. orbitals of irrep E3gx = 3\n",
      "num. orbitals of irrep E3gy = 3\n",
      "num. orbitals of irrep E2uy = 5\n",
      "num. orbitals of irrep E2ux = 5\n",
      "num. orbitals of irrep E3uy = 5\n",
      "num. orbitals of irrep E3ux = 5\n",
      "num. orbitals of irrep E4gx = 3\n",
      "num. orbitals of irrep E4gy = 3\n",
      "number of shells = 5\n",
      "number of NR pGTOs = 206\n",
      "number of NR cGTOs = 139\n",
      "basis = ano\n",
      "ecp = {}\n",
      "CPU time:        62.28\n",
      "\n",
      "\n",
      "******** <class 'pyscf.scf.hf_symm.ROHF'> flags ********\n",
      "method = ROHF\n",
      "initial guess = minao\n",
      "damping factor = 0\n",
      "level shift factor = 0\n",
      "DIIS = <class 'pyscf.scf.diis.CDIIS'>\n",
      "DIIS start cycle = 1\n",
      "DIIS space = 8\n",
      "SCF tol = 1e-09\n",
      "SCF gradient tol = None\n",
      "max. SCF cycles = 50\n",
      "direct_scf = True\n",
      "direct_scf_tol = 1e-13\n",
      "chkfile to save SCF result = /home/xubo/HandOn/dice:/tmphkHYtT\n",
      "max_memory 4000 MB (current use 90 MB)\n",
      "num. doubly occ = 26  num. singly occ = 1\n",
      "irrep_nelec {'A1u': (4, 3), 'E1ux': (4, 4), 'A1g': (7, 7), 'E1gy': (2, 2), 'E1gx': (2, 2), 'E2gx': (2, 2), 'E2gy': (2, 2), 'E1uy': (4, 4)}\n",
      "Freeze 53 electrons in irreps ['A1u', 'E1ux', 'A1g', 'E1gy', 'E1gx', 'E2gx', 'E2gy', 'E1uy']\n",
      "    0 free electrons in irreps E3gx E3gy E2uy E2ux E3uy E3ux E4gx E4gy\n",
      "Set gradient conv threshold to 3.16228e-05\n"
     ]
    },
    {
     "name": "stderr",
     "output_type": "stream",
     "text": [
      "Warn: Ipython shell catchs sys.args\n"
     ]
    },
    {
     "name": "stdout",
     "output_type": "stream",
     "text": [
      "init E= -6672.97424969183\n",
      "HOMO (E1uy) = -0.318425057752712  LUMO (E1uy) = 0.0955538447166124\n",
      "cycle= 1 E= -6681.23842532672  delta_E= -8.26  |g|= 3.81  |ddm|=  1.1\n",
      "HOMO (A1u) = -0.31338830237243  LUMO (A1u) = 0.0886888710224466\n",
      "cycle= 2 E= -6681.39636607861  delta_E= -0.158  |g|= 1.54  |ddm|= 0.332\n",
      "HOMO (A1u) = -0.258028232389951  LUMO (A1u) = 0.0897497308445429\n",
      "cycle= 3 E= -6681.44404279088  delta_E= -0.0477  |g|= 0.116  |ddm|= 0.131\n",
      "HOMO (A1u) = -0.265760520381146  LUMO (A1u) = 0.0895240250809111\n",
      "cycle= 4 E= -6681.44468242239  delta_E= -0.00064  |g|= 0.0205  |ddm|= 0.0221\n",
      "HOMO (A1u) = -0.263776957794897  LUMO (A1u) = 0.0895377865002155\n",
      "cycle= 5 E= -6681.44470703459  delta_E= -2.46e-05  |g|= 0.00108  |ddm|= 0.00415\n",
      "HOMO (A1u) = -0.26388298075081  LUMO (A1u) = 0.0895558841375474\n",
      "cycle= 6 E= -6681.44470751477  delta_E= -4.8e-07  |g|= 0.000115  |ddm|= 0.00107\n",
      "HOMO (A1u) = -0.263833793310352  LUMO (A1u) = 0.0895591065363213\n",
      "cycle= 7 E= -6681.44470752124  delta_E= -6.46e-09  |g|= 2.18e-05  |ddm|= 0.000136\n",
      "HOMO (A1u) = -0.263835618453807  LUMO (A1u) = 0.0895610775059392\n",
      "cycle= 8 E= -6681.44470752145  delta_E= -2.11e-10  |g|= 1.7e-06  |ddm|= 2.79e-05\n",
      "HOMO (A1u) = -0.263834822878134  LUMO (A1u) = 0.0895610683699436\n",
      "Extra cycle  E= -6681.44470752146  delta_E= -1.09e-11  |g|= 6.34e-07  |ddm|= 2.35e-06\n",
      "converged SCF energy = -6681.44470752146\n"
     ]
    },
    {
     "data": {
      "text/plain": [
       "-6681.4447075214612"
      ]
     },
     "execution_count": 4,
     "metadata": {},
     "output_type": "execute_result"
    }
   ],
   "source": [
    "from pyscf import gto\n",
    "from pyscf import scf\n",
    "mol = gto.M(\n",
    "    atom = 'I 0 0 0',\n",
    "    basis = 'ano',\n",
    "    verbose = 4,\n",
    "    symmetry = 1,\n",
    "    spin = 1)\n",
    "myhf = scf.RHF(mol)\n",
    "myhf.irrep_nelec = {'A1g':(7,7), 'A1u':(4,3), 'E1ux':(4,4), 'E1uy':(4,4), 'E2gx':(2,2), 'E2gy':(2,2), 'E1gx':(2,2), 'E1gy':(2,2)}\n",
    "myhf.kernel()"
   ]
  },
  {
   "cell_type": "code",
   "execution_count": 8,
   "metadata": {},
   "outputs": [],
   "source": [
    "from pyscf.shciscf import shci, settings\n",
    "shci1 = shci.SHCI(mol)\n",
    "shci1.irrep_nelec = {'A1g':(1,1),'A1u':(1,1),'E1ux':(1,1),'E1uy':(1,0)}\n",
    "shci1.prefix = os.environ['PWD']+'/'+str(os.getpid())+'shci1'\n",
    "shci1.nPTiter = 0\n",
    "shci1.sweep_iter = [0]\n",
    "shci1.sweep_epsilon = [1e-8]"
   ]
  },
  {
   "cell_type": "code",
   "execution_count": 9,
   "metadata": {
    "collapsed": true
   },
   "outputs": [],
   "source": [
    "shci2 = shci.SHCI(mol)\n",
    "shci2.irrep_nelec = {'A1g':(1,1),'A1u':(1,1),'E1ux':(1,0),'E1uy':(1,1)}\n",
    "shci2.prefix = os.environ['PWD']+'/'+str(os.getpid())+'shci2'\n",
    "shci2.nPTiter = 0\n",
    "shci2.sweep_iter = [0]\n",
    "shci2.sweep_epsilon = [1e-8]"
   ]
  },
  {
   "cell_type": "code",
   "execution_count": 10,
   "metadata": {
    "collapsed": true
   },
   "outputs": [],
   "source": [
    "shci3 = shci.SHCI(mol)\n",
    "shci3.irrep_nelec = {'A1g':(1,1),'A1u':(1,0),'E1ux':(1,1),'E1uy':(1,1)}\n",
    "shci3.prefix = os.environ['PWD']+'/'+str(os.getpid())+'shci1'\n",
    "shci3.nPTiter = 0\n",
    "shci3.sweep_iter = [0]\n",
    "shci3.sweep_epsilon = [1e-8]"
   ]
  },
  {
   "cell_type": "code",
   "execution_count": 11,
   "metadata": {},
   "outputs": [
    {
     "name": "stdout",
     "output_type": "stream",
     "text": [
      "ncore for each irreps {'A1u': 3, 'E4gy': 0, 'E3gy': 0, 'E3gx': 0, 'E1gy': 2, 'E1gx': 2, 'E2gx': 2, 'E2gy': 2, 'E1uy': 3, 'E1ux': 3, 'A1g': 6, 'E4gx': 0, 'E2ux': 0, 'E2uy': 0, 'E3uy': 0, 'E3ux': 0}\n",
      "ncas for each irreps {'A1u': 1, 'E1uy': 1, 'A1g': 1, 'E1ux': 1}\n",
      "(0-based) caslst = [23 24 25 26]\n",
      "\n",
      "******** <class 'pyscf.mcscf.mc1step_symm.CASSCF'> flags ********\n",
      "CAS (4e+3e, 4o), ncore = 23, nvir = 112\n",
      "max_cycle_macro = 50\n",
      "max_cycle_micro = 4\n",
      "conv_tol = 1e-07\n",
      "conv_tol_grad = None\n",
      "orbital rotation max_stepsize = 0.02\n",
      "augmented hessian ah_max_cycle = 30\n",
      "augmented hessian ah_conv_tol = 1e-12\n",
      "augmented hessian ah_linear dependence = 1e-14\n",
      "augmented hessian ah_level shift = 0\n",
      "augmented hessian ah_start_tol = 2.5\n",
      "augmented hessian ah_start_cycle = 3\n",
      "augmented hessian ah_grad_trust_region = 3\n",
      "kf_trust_region = 3\n",
      "kf_interval = 4\n",
      "ci_response_space = 4\n",
      "ci_grad_trust_region = 3\n",
      "with_dep4 0\n",
      "natorb = False\n",
      "canonicalization = True\n",
      "sorting_mo_energy = False\n",
      "chkfile = /home/xubo/scratch/tmpXO6p0p\n",
      "max_memory 4000 MB (current use 540 MB)\n",
      "internal_rotation = False\n",
      "******** SHCI flags ********\n",
      "executable = /home/xubo/local/bin/Dice\n",
      "CASCI E = -6681.43928900966  S^2 = 0.7500000\n",
      "Set conv_tol_grad to 0.000316228\n",
      "macro iter 1 (9 JK  3 micro), CASSCF E = -6681.43900018099  dE = 0.00028882867  S^2 = 0.7500000\n",
      "               |grad[o]|=0.0592  |grad[c]|= None  |ddm|=    0\n",
      "macro iter 2 (7 JK  2 micro), CASSCF E = -6681.43976028578  dE = -0.00076010479  S^2 = 0.7500000\n",
      "               |grad[o]|=0.000889  |grad[c]|= None  |ddm|=    0\n",
      "macro iter 3 (7 JK  2 micro), CASSCF E = -6681.42764377528  dE = 0.012116511  S^2 = 0.7500000\n",
      "               |grad[o]|=0.00066  |grad[c]|= None  |ddm|=    0\n",
      "macro iter 4 (17 JK  4 micro), CASSCF E = -6681.37727484237  dE = 0.050368933  S^2 = 0.7500000\n",
      "               |grad[o]|=0.00173  |grad[c]|= None  |ddm|=    0\n",
      "macro iter 5 (12 JK  3 micro), CASSCF E = -6681.28698448721  dE = 0.090290355  S^2 = 0.7500000\n",
      "               |grad[o]|=0.00278  |grad[c]|= None  |ddm|=    0\n",
      "macro iter 6 (14 JK  3 micro), CASSCF E = -6681.201622575  dE = 0.085361912  S^2 = 0.7500000\n",
      "               |grad[o]|=0.00205  |grad[c]|= None  |ddm|=    0\n",
      "macro iter 7 (26 JK  4 micro), CASSCF E = -6681.08986467285  dE = 0.1117579  S^2 = 0.7500000\n",
      "               |grad[o]|=0.0017  |grad[c]|= None  |ddm|=    0\n",
      "macro iter 8 (29 JK  4 micro), CASSCF E = -6681.00989616204  dE = 0.079968511  S^2 = 0.7500000\n",
      "               |grad[o]|=0.0016  |grad[c]|= None  |ddm|=    0\n",
      "macro iter 9 (30 JK  4 micro), CASSCF E = -6680.9567078504  dE = 0.053188312  S^2 = 0.7500000\n",
      "               |grad[o]|=0.00148  |grad[c]|= None  |ddm|=    0\n",
      "macro iter 10 (8 JK  1 micro), CASSCF E = -6680.95158091761  dE = 0.0051269328  S^2 = 0.7500000\n",
      "               |grad[o]|=0.00142  |grad[c]|= None  |ddm|=    0\n",
      "macro iter 11 (33 JK  4 micro), CASSCF E = -6680.93898432914  dE = 0.012596588  S^2 = 0.7500000\n",
      "               |grad[o]|=0.00141  |grad[c]|= None  |ddm|=    0\n",
      "macro iter 12 (5 JK  1 micro), CASSCF E = -6680.93857243128  dE = 0.00041189787  S^2 = 0.7500000\n",
      "               |grad[o]|=0.0014  |grad[c]|= None  |ddm|=    0\n",
      "macro iter 13 (11 JK  1 micro), CASSCF E = -6680.93810494589  dE = 0.00046748539  S^2 = 0.7500000\n",
      "               |grad[o]|=0.0014  |grad[c]|= None  |ddm|=    0\n",
      "macro iter 14 (10 JK  1 micro), CASSCF E = -6680.93794738343  dE = 0.00015756246  S^2 = 0.7500000\n",
      "               |grad[o]|=0.00139  |grad[c]|= None  |ddm|=    0\n",
      "macro iter 15 (12 JK  1 micro), CASSCF E = -6680.93785138003  dE = 9.6003405e-05  S^2 = 0.7500000\n",
      "               |grad[o]|=0.00139  |grad[c]|= None  |ddm|=    0\n",
      "macro iter 16 (12 JK  1 micro), CASSCF E = -6680.93779869256  dE = 5.2687471e-05  S^2 = 0.7500000\n",
      "               |grad[o]|=0.00139  |grad[c]|= None  |ddm|=    0\n",
      "macro iter 17 (13 JK  1 micro), CASSCF E = -6680.93776994615  dE = 2.8746407e-05  S^2 = 0.7500000\n",
      "               |grad[o]|=0.00139  |grad[c]|= None  |ddm|=    0\n",
      "macro iter 18 (13 JK  1 micro), CASSCF E = -6680.93775560854  dE = 1.4337606e-05  S^2 = 0.7500000\n",
      "               |grad[o]|=0.00139  |grad[c]|= None  |ddm|=    0\n",
      "macro iter 19 (15 JK  1 micro), CASSCF E = -6680.93774783229  dE = 7.7762506e-06  S^2 = 0.7500000\n",
      "               |grad[o]|=0.00139  |grad[c]|= None  |ddm|=    0\n",
      "macro iter 20 (14 JK  1 micro), CASSCF E = -6680.93774394087  dE = 3.8914277e-06  S^2 = 0.7500000\n",
      "               |grad[o]|=0.00139  |grad[c]|= None  |ddm|=    0\n",
      "macro iter 21 (15 JK  1 micro), CASSCF E = -6680.93774184518  dE = 2.0956822e-06  S^2 = 0.7500000\n",
      "               |grad[o]|=0.00139  |grad[c]|= None  |ddm|=    0\n",
      "macro iter 22 (1 JK  1 micro), CASSCF E = -6680.93774177032  dE = 7.4859599e-08  S^2 = 0.7500000\n",
      "               |grad[o]|=0.00139  |grad[c]|= None  |ddm|=    0\n",
      "macro iter 23 (1 JK  1 micro), CASSCF E = -6680.89693205566  dE = 0.040809715  S^2 = 0.7500000\n",
      "               |grad[o]|=0.00139  |grad[c]|= None  |ddm|=    0\n",
      "macro iter 24 (7 JK  2 micro), CASSCF E = -6680.81555688558  dE = 0.08137517  S^2 = 0.7500000\n",
      "               |grad[o]|=0.00121  |grad[c]|= None  |ddm|=    0\n",
      "macro iter 25 (8 JK  2 micro), CASSCF E = -6680.78666489991  dE = 0.028891986  S^2 = 0.7500000\n",
      "               |grad[o]|=0.000924  |grad[c]|= None  |ddm|=    0\n",
      "macro iter 26 (15 JK  3 micro), CASSCF E = -6680.75363839334  dE = 0.033026507  S^2 = 0.7500000\n",
      "               |grad[o]|=0.000724  |grad[c]|= None  |ddm|=    0\n",
      "macro iter 27 (14 JK  3 micro), CASSCF E = -6680.71587506645  dE = 0.037763327  S^2 = 0.7500000\n",
      "               |grad[o]|=0.00062  |grad[c]|= None  |ddm|=    0\n",
      "macro iter 28 (29 JK  4 micro), CASSCF E = -6680.65278454435  dE = 0.063090522  S^2 = 0.7500000\n",
      "               |grad[o]|=0.000637  |grad[c]|= None  |ddm|=    0\n",
      "macro iter 29 (21 JK  3 micro), CASSCF E = -6680.63560936444  dE = 0.01717518  S^2 = 0.7500000\n",
      "               |grad[o]|=0.00059  |grad[c]|= None  |ddm|=    0\n",
      "macro iter 30 (11 JK  2 micro), CASSCF E = -6680.63459114811  dE = 0.0010182163  S^2 = 0.7500000\n",
      "               |grad[o]|=0.000577  |grad[c]|= None  |ddm|=    0\n",
      "macro iter 31 (11 JK  2 micro), CASSCF E = -6680.63352328988  dE = 0.0010678582  S^2 = 0.7500000\n",
      "               |grad[o]|=0.000576  |grad[c]|= None  |ddm|=    0\n",
      "macro iter 32 (11 JK  2 micro), CASSCF E = -6680.63352530134  dE = -2.0114649e-06  S^2 = 0.7500000\n",
      "               |grad[o]|=0.000576  |grad[c]|= None  |ddm|=    0\n",
      "macro iter 33 (7 JK  2 micro), CASSCF E = -6680.63383318782  dE = -0.00030788648  S^2 = 0.7500000\n",
      "               |grad[o]|=0.000575  |grad[c]|= None  |ddm|=    0\n",
      "macro iter 34 (7 JK  2 micro), CASSCF E = -6680.53769194095  dE = 0.096141247  S^2 = 0.7500000\n",
      "               |grad[o]|=0.000621  |grad[c]|= None  |ddm|=    0\n",
      "macro iter 35 (7 JK  2 micro), CASSCF E = -6680.57293808655  dE = -0.035246146  S^2 = 0.7500000\n",
      "               |grad[o]|=0.000167  |grad[c]|= None  |ddm|=    0\n",
      "macro iter 36 (6 JK  1 micro), CASSCF E = -6680.66101938264  dE = -0.088081296  S^2 = 0.7500000\n",
      "               |grad[o]|=0.000127  |grad[c]|= None  |ddm|=    0\n",
      "macro iter 37 (4 JK  2 micro), CASSCF E = -6680.69135774475  dE = -0.030338362  S^2 = 0.7500000\n",
      "               |grad[o]|=0.000162  |grad[c]|= None  |ddm|=    0\n",
      "macro iter 38 (4 JK  1 micro), CASSCF E = -6681.02252754338  dE = -0.3311698  S^2 = 0.7500000\n",
      "               |grad[o]|=9.57e-05  |grad[c]|= None  |ddm|=    0\n",
      "macro iter 39 (4 JK  1 micro), CASSCF E = -6681.10160012054  dE = -0.079072577  S^2 = 0.7500000\n",
      "               |grad[o]|=0.000114  |grad[c]|= None  |ddm|=    0\n",
      "macro iter 40 (1 JK  1 micro), CASSCF E = -6681.10160012054  dE = 0  S^2 = 0.7500000\n",
      "               |grad[o]|=1.83e-05  |grad[c]|= None  |ddm|=    0\n",
      "1-step CASSCF converged in 40 macro (481 JK 81 micro) steps\n",
      "CASSCF canonicalization\n",
      "CASSCF energy = -6681.10160012054\n"
     ]
    },
    {
     "data": {
      "text/plain": [
       "(-6681.1016001205444,\n",
       " -25.804936598327004,\n",
       " [0, 0, 0],\n",
       " NPArrayWithTag([[  9.96057938e-01,   0.00000000e+00,   0.00000000e+00, ...,\n",
       "                    0.00000000e+00,   0.00000000e+00,   0.00000000e+00],\n",
       "                 [  7.58569738e-02,   0.00000000e+00,   0.00000000e+00, ...,\n",
       "                    0.00000000e+00,   0.00000000e+00,   0.00000000e+00],\n",
       "                 [ -2.95752135e-02,   0.00000000e+00,   0.00000000e+00, ...,\n",
       "                    0.00000000e+00,   0.00000000e+00,   0.00000000e+00],\n",
       "                 ..., \n",
       "                 [  0.00000000e+00,   0.00000000e+00,   0.00000000e+00, ...,\n",
       "                    0.00000000e+00,  -1.01083185e-07,   0.00000000e+00],\n",
       "                 [  0.00000000e+00,   0.00000000e+00,   0.00000000e+00, ...,\n",
       "                    0.00000000e+00,   0.00000000e+00,   0.00000000e+00],\n",
       "                 [  0.00000000e+00,   0.00000000e+00,   0.00000000e+00, ...,\n",
       "                    0.00000000e+00,   0.00000000e+00,   0.00000000e+00]]),\n",
       " NPArrayWithTag([ -1.08033289e+03,  -1.68986216e+02,  -1.68985906e+02,\n",
       "                  -1.68138926e+02,  -1.58615686e+02,  -3.38910128e+01,\n",
       "                  -3.31740661e+01,  -3.31728251e+01,  -3.30063942e+01,\n",
       "                  -2.46583989e+01,  -2.46597138e+01,  -2.46581201e+01,\n",
       "                  -2.46567399e+01,  -2.46567399e+01,  -6.34089281e+00,\n",
       "                  -5.51934698e+00,  -5.51683809e+00,  -5.50193515e+00,\n",
       "                  -2.49517655e+00,  -2.49298510e+00,  -2.49793389e+00,\n",
       "                  -2.48933784e+00,  -2.48933784e+00,  -7.26860574e+00,\n",
       "                  -3.61003674e-01,  -1.42901165e+00,  -3.12520755e-01,\n",
       "                   9.13314818e-02,   9.42295813e-02,   9.26475858e-02,\n",
       "                   1.19769452e-01,   1.79411558e-01,   1.80991655e-01,\n",
       "                   1.79169194e-01,   1.82338231e-01,   1.82338231e-01,\n",
       "                   2.83896284e-01,   2.83291143e-01,   2.85459020e-01,\n",
       "                   2.85811204e-01,   2.85811204e-01,   2.88204615e-01,\n",
       "                   2.88204615e-01,   3.78133084e-01,   4.40324332e-01,\n",
       "                   4.46727710e-01,   4.43020171e-01,   5.11549282e-01,\n",
       "                   5.14032458e-01,   5.11305039e-01,   5.15906919e-01,\n",
       "                   5.15906919e-01,   7.30938461e-01,   7.34734725e-01,\n",
       "                   7.29435516e-01,   7.35496428e-01,   7.35496428e-01,\n",
       "                   7.41210307e-01,   7.41210307e-01,   1.06922038e+00,\n",
       "                   1.06704666e+00,   1.07291712e+00,   1.07226655e+00,\n",
       "                   1.07226655e+00,   1.07609764e+00,   1.07609764e+00,\n",
       "                   1.08150582e+00,   1.08150582e+00,   1.32283885e+00,\n",
       "                   1.32767124e+00,   1.32090312e+00,   1.32861920e+00,\n",
       "                   1.32861920e+00,   1.33585884e+00,   1.33585884e+00,\n",
       "                   1.53862572e+00,   1.60036691e+00,   1.59960509e+00,\n",
       "                   1.60578843e+00,   1.61046653e+00,   1.61046653e+00,\n",
       "                   1.73118226e+00,   1.74448236e+00,   1.73669344e+00,\n",
       "                   2.70038426e+00,   2.70595150e+00,   2.69707720e+00,\n",
       "                   2.70490344e+00,   2.70490344e+00,   2.71058521e+00,\n",
       "                   2.71058521e+00,   2.71860377e+00,   2.71860377e+00,\n",
       "                   2.98629185e+00,   2.98440271e+00,   2.99087563e+00,\n",
       "                   2.99168382e+00,   2.99168382e+00,   2.99844962e+00,\n",
       "                   2.99844962e+00,   5.29316254e+00,   5.29966267e+00,\n",
       "                   5.29254075e+00,   5.30492575e+00,   5.30492575e+00,\n",
       "                   6.54342263e+00,   6.79890363e+00,   6.80459275e+00,\n",
       "                   6.81281303e+00,   7.24760388e+00,   7.24491951e+00,\n",
       "                   7.25200851e+00,   7.25104515e+00,   7.25104515e+00,\n",
       "                   7.25536247e+00,   7.25536247e+00,   7.26143683e+00,\n",
       "                   7.26143683e+00,   8.51643675e+00,   8.51472366e+00,\n",
       "                   8.52043475e+00,   8.52101324e+00,   8.52101324e+00,\n",
       "                   8.52676723e+00,   8.52676723e+00,   1.67609915e+01,\n",
       "                   1.67655177e+01,   1.67604947e+01,   1.67690804e+01,\n",
       "                   1.67690804e+01,   2.59727963e+01,   2.59802417e+01,\n",
       "                   2.59757399e+01,   3.30434073e+01,   5.34960736e+01,\n",
       "                   5.34958591e+01,   5.34985200e+01,   5.35005431e+01,\n",
       "                   5.35005431e+01]))"
      ]
     },
     "execution_count": 11,
     "metadata": {},
     "output_type": "execute_result"
    }
   ],
   "source": [
    "from pyscf import mcscf\n",
    "mycas = shci.SHCISCF(myhf, 4, 7)\n",
    "mycas.mo_coeff = 1.*myhf.mo_coeff\n",
    "mcscf.state_average_mix_(mycas, [shci1, shci2, shci3], numpy.ones(3)/3)\n",
    "mo = mcscf.addons.sort_mo_by_irrep(mycas, mycas.mo_coeff, {'A1g':1, 'A1u':1, 'E1ux':1, 'E1uy':1})\n",
    "mycas.kernel(mo)"
   ]
  },
  {
   "cell_type": "code",
   "execution_count": 12,
   "metadata": {},
   "outputs": [
    {
     "name": "stdout",
     "output_type": "stream",
     "text": [
      "\n",
      "\n",
      "********Writing SOC integrals*******\n",
      "\n"
     ]
    },
    {
     "data": {
      "text/plain": [
       "0"
      ]
     },
     "execution_count": 12,
     "metadata": {},
     "output_type": "execute_result"
    }
   ],
   "source": [
    "print ''\n",
    "print ''\n",
    "print '********Writing SOC integrals*******'\n",
    "print ''\n",
    "os.system('cp FCIDUMP FCIDUMP_bp')"
   ]
  },
  {
   "cell_type": "code",
   "execution_count": 22,
   "metadata": {},
   "outputs": [
    {
     "ename": "AttributeError",
     "evalue": "'SpinFreeX2C' object has no attribute 'get_hxr'",
     "output_type": "error",
     "traceback": [
      "\u001b[0;31m---------------------------------------------------------------------------\u001b[0m",
      "\u001b[0;31mAttributeError\u001b[0m                            Traceback (most recent call last)",
      "\u001b[0;32m<ipython-input-22-aef942113681>\u001b[0m in \u001b[0;36m<module>\u001b[0;34m()\u001b[0m\n\u001b[1;32m      1\u001b[0m \u001b[0msys\u001b[0m\u001b[0;34m.\u001b[0m\u001b[0mstdout\u001b[0m\u001b[0;34m.\u001b[0m\u001b[0mflush\u001b[0m\u001b[0;34m(\u001b[0m\u001b[0;34m)\u001b[0m\u001b[0;34m\u001b[0m\u001b[0m\n\u001b[0;32m----> 2\u001b[0;31m \u001b[0mshci\u001b[0m\u001b[0;34m.\u001b[0m\u001b[0mwriteSOCIntegrals\u001b[0m\u001b[0;34m(\u001b[0m\u001b[0mmycas\u001b[0m\u001b[0;34m,\u001b[0m \u001b[0mpictureChange1e\u001b[0m\u001b[0;34m=\u001b[0m\u001b[0;34m'bp'\u001b[0m\u001b[0;34m,\u001b[0m \u001b[0mpictureChange2e\u001b[0m\u001b[0;34m=\u001b[0m\u001b[0;34m'bp'\u001b[0m\u001b[0;34m)\u001b[0m\u001b[0;34m\u001b[0m\u001b[0m\n\u001b[0m",
      "\u001b[0;32m/home/xubo/Documents/pyscf/pyscf/shciscf/shci.pyc\u001b[0m in \u001b[0;36mwriteSOCIntegrals\u001b[0;34m(mc, ncasorbs, rdm1, pictureChange1e, pictureChange2e, uncontract)\u001b[0m\n\u001b[1;32m    944\u001b[0m \u001b[0;34m\u001b[0m\u001b[0m\n\u001b[1;32m    945\u001b[0m        \u001b[0mhso1e\u001b[0m \u001b[0;34m=\u001b[0m \u001b[0mnumpy\u001b[0m\u001b[0;34m.\u001b[0m\u001b[0mzeros\u001b[0m\u001b[0;34m(\u001b[0m\u001b[0;34m(\u001b[0m\u001b[0;36m3\u001b[0m\u001b[0;34m,\u001b[0m \u001b[0mnp\u001b[0m\u001b[0;34m,\u001b[0m \u001b[0mnp\u001b[0m\u001b[0;34m)\u001b[0m\u001b[0;34m)\u001b[0m\u001b[0;34m\u001b[0m\u001b[0m\n\u001b[0;32m--> 946\u001b[0;31m        \u001b[0mh1e_1c\u001b[0m\u001b[0;34m,\u001b[0m \u001b[0mx\u001b[0m\u001b[0;34m,\u001b[0m \u001b[0mrp\u001b[0m \u001b[0;34m=\u001b[0m \u001b[0mscf\u001b[0m\u001b[0;34m.\u001b[0m\u001b[0mx2c\u001b[0m\u001b[0;34m.\u001b[0m\u001b[0mSpinFreeX2C\u001b[0m\u001b[0;34m(\u001b[0m\u001b[0mmc\u001b[0m\u001b[0;34m.\u001b[0m\u001b[0mmol\u001b[0m\u001b[0;34m)\u001b[0m\u001b[0;34m.\u001b[0m\u001b[0mget_hxr\u001b[0m\u001b[0;34m(\u001b[0m\u001b[0mmc\u001b[0m\u001b[0;34m.\u001b[0m\u001b[0mmol\u001b[0m\u001b[0;34m,\u001b[0m \u001b[0muncontract\u001b[0m\u001b[0;34m=\u001b[0m\u001b[0muncontract\u001b[0m\u001b[0;34m)\u001b[0m\u001b[0;34m\u001b[0m\u001b[0m\n\u001b[0m\u001b[1;32m    947\u001b[0m \u001b[0;34m\u001b[0m\u001b[0m\n\u001b[1;32m    948\u001b[0m        \u001b[0;31m#two electron terms\u001b[0m\u001b[0;34m\u001b[0m\u001b[0;34m\u001b[0m\u001b[0m\n",
      "\u001b[0;31mAttributeError\u001b[0m: 'SpinFreeX2C' object has no attribute 'get_hxr'"
     ]
    }
   ],
   "source": [
    "sys.stdout.flush()\n",
    "shci.writeSOCIntegrals(mycas, pictureChange1e='bp', pictureChange2e='bp')"
   ]
  },
  {
   "cell_type": "code",
   "execution_count": null,
   "metadata": {
    "collapsed": true
   },
   "outputs": [],
   "source": []
  }
 ],
 "metadata": {
  "kernelspec": {
   "display_name": "Python 2",
   "language": "python",
   "name": "python2"
  },
  "language_info": {
   "codemirror_mode": {
    "name": "ipython",
    "version": 2
   },
   "file_extension": ".py",
   "mimetype": "text/x-python",
   "name": "python",
   "nbconvert_exporter": "python",
   "pygments_lexer": "ipython2",
   "version": "2.7.14"
  },
  "widgets": {
   "application/vnd.jupyter.widget-state+json": {
    "state": {},
    "version_major": 2,
    "version_minor": 0
   }
  }
 },
 "nbformat": 4,
 "nbformat_minor": 2
}
