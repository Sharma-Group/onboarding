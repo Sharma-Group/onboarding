{
 "cells": [
  {
   "cell_type": "markdown",
   "metadata": {},
   "source": [
    "# Multireference Perturbation theory equations with symbolic algebra"
   ]
  },
  {
   "cell_type": "markdown",
   "metadata": {},
   "source": [
    "In this notebook we will show that the multireference perturbation theory (more specifically, NEVPT) equations can be automatically derived with the use of symbolic algebra. Some knowledge about quantum chemistry and python are expected ; this notebook assumes for the larger part completion of the coupled-cluster hands-on session."
   ]
  },
  {
   "cell_type": "markdown",
   "metadata": {},
   "source": [
    "Make sure that you have the following installed:\n",
    "\n",
    "* Python 2 (this notebook **will not work** with Python 3)\n",
    "* IPython/Jupyter"
   ]
  },
  {
   "cell_type": "markdown",
   "metadata": {},
   "source": [
    "Misc imports to add at the beginning of a script:"
   ]
  },
  {
   "cell_type": "code",
   "execution_count": 1,
   "metadata": {},
   "outputs": [],
   "source": [
    "import warnings\n",
    "warnings.filterwarnings('ignore')"
   ]
  },
  {
   "cell_type": "markdown",
   "metadata": {},
   "source": [
    "***"
   ]
  },
  {
   "cell_type": "markdown",
   "metadata": {},
   "source": [
    "## Background"
   ]
  },
  {
   "cell_type": "markdown",
   "metadata": {},
   "source": [
    " (Note that we use Einstein's notation: the summations of repeated indexes are implicit, i.e. $A_{ab}=\\sum_{cd} B_{abcd}$ is just written $A_{ab}=B_{abcd}$.)"
   ]
  },
  {
   "cell_type": "markdown",
   "metadata": {},
   "source": [
    "### Multireference perturbation theory equations and notations"
   ]
  },
  {
   "cell_type": "markdown",
   "metadata": {},
   "source": [
    "We wish to obtain the second and third order correction to the energy:\n",
    "$$\n",
    "\\begin{array}{rl}\n",
    "E_2&=\\left\\langle \\Psi_0\\middle|\\;\\hat{V}\\;\\middle|\\Psi_1\\right\\rangle\n",
    "\\\\\n",
    "E_3&=\\left\\langle \\Psi_1\\middle|\\;\\hat{V}-E_1\\;\\middle|\\Psi_1\\right\\rangle\n",
    "\\end{array}\n",
    "$$"
   ]
  },
  {
   "cell_type": "markdown",
   "metadata": {},
   "source": [
    "where the Hamiltonian has been split as:\n",
    "$$\\hat{H}=\\hat{H}_0+\\hat{V}$$"
   ]
  },
  {
   "cell_type": "markdown",
   "metadata": {},
   "source": [
    "and where $\\left|\\Psi_0\\right\\rangle$ has been obtained by a zero-th order CAS-like scheme, and is composed of core, active and virtual orbitals."
   ]
  },
  {
   "cell_type": "markdown",
   "metadata": {},
   "source": [
    "The first-order correction to the wavefunction, $\\left|\\Psi_1\\right\\rangle$, is found as the minimum of the Hylleraas functional:\n",
    "$$\\left\\langle\\Psi_1\\middle|\\;\\hat{H}_0-E_0\\;\\middle|\\Psi_1\\right\\rangle\n",
    "+\\left\\langle\\Psi_1\\middle|\\;\\hat{V}\\;\\middle|\\Psi_0\\right\\rangle=0$$"
   ]
  },
  {
   "cell_type": "markdown",
   "metadata": {},
   "source": [
    "i.e. by solving:\n",
    "$$\\left(E_0-\\hat{H}_0\\right)\\left|\\Psi_1\\right\\rangle=\\hat{V}\\left|\\Psi_0\\right\\rangle\\qquad\\qquad(1)$$"
   ]
  },
  {
   "cell_type": "markdown",
   "metadata": {},
   "source": [
    "### Internally contracted MRPT"
   ]
  },
  {
   "cell_type": "markdown",
   "metadata": {},
   "source": [
    "In internally contracted MRPT, we are looking for the first-order correction to the wavefunction, $\\left|\\Psi_1\\right\\rangle$ expanded on a basis of perturber wavefunctions **that are connected to $\\left|\\Psi_0\\right\\rangle$, i.e. that are excitations of $\\left|\\Psi_0\\right\\rangle$:\n",
    "$$\\left|\\Psi_1\\right\\rangle=d_\\mu \\hat{E}_\\mu\\left|\\Psi_0\\right\\rangle$$"
   ]
  },
  {
   "cell_type": "markdown",
   "metadata": {},
   "source": [
    "Given that\n",
    "$$\\hat{V}\\left|\\Psi_0\\right\\rangle=w_\\tau\\hat{E}_\\tau\\left|\\Psi_0\\right\\rangle$$"
   ]
  },
  {
   "cell_type": "markdown",
   "metadata": {},
   "source": [
    "Equation (1) amounts to solving the following equation for the coefficients $d_\\mu$:\n",
    "$$\\left\\langle\\Psi_0\\middle|\\; \\hat{E}_\\mu \\left(E_0-\\hat{H}_0\\right) \\hat{E}_\\nu \\;\\middle|\\Psi_0\\right\\rangle d_\\nu\n",
    " =\\left\\langle\\Psi_0\\middle|\\; \\hat{E}_\\mu \\hat{E}_\\tau \\;\\middle|\\Psi_0\\right\\rangle w_\\tau\n",
    "$$"
   ]
  },
  {
   "cell_type": "markdown",
   "metadata": {},
   "source": [
    "At this point a trick is used: the realization that $\\left(E_0-\\hat{H}_0\\right)\\left|\\Psi_0\\right\\rangle=0$ allows the introduction of a commutator, and the equation becomes:\n",
    "$$\\left\\langle\\Psi_0\\middle|\\; \\hat{E}_\\mu \\left[\\left(E_0-\\hat{H}_0\\right),\\hat{E}_\\nu\\right] \\;\\middle|\\Psi_0\\right\\rangle d_\\nu\n",
    " =\\left\\langle\\Psi_0\\middle|\\; \\hat{E}_\\mu \\hat{E}_\\tau \\;\\middle|\\Psi_0\\right\\rangle w_\\tau\n",
    " \\quad \\iff \\quad A_{\\mu\\nu}d_\\nu=S_{\\mu\\tau}w_\\tau\n",
    " \\qquad\\qquad(2)$$"
   ]
  },
  {
   "cell_type": "markdown",
   "metadata": {},
   "source": [
    "Basically the terms to manipulate are long strings of creation/annihiltion operators,\n",
    "and one needs to use the Wick’s theorem to simplify the expectation values.\n",
    "The resulting expressions will be series of tensors involving one- and two-electron integrals, and RDMs up to four-order."
   ]
  },
  {
   "cell_type": "markdown",
   "metadata": {},
   "source": [
    "You can convince yourself (**ACTIVITY?**) that when dealing with a wavefunction having core, active and virtual orbitals there are 8 classes of exictations on $\\left|\\Psi_0\\right\\rangle$ that are connected to $\\left|\\Psi_0\\right\\rangle$. There are usually named after their pattern of change of occupation of the core, active and virtual spaces with respect to $\\left|\\Psi_0\\right\\rangle$:\n",
    "\n",
    "| #     | Name  | core| act | virt| operator |\n",
    "|-------|-------|-----|-----|-----|---|\n",
    "| I     | CCVV  | -2  |  0  |  2  | $\\hat{E}_i^a\\hat{E}_j^b$ |\n",
    "| II    | ACVV  | -1  | -1  |  2  | $\\hat{E}_i^a\\hat{E}_p^b$ |\n",
    "| III   | CCAV  | -2  |  1  |  1  | $\\hat{E}_i^a\\hat{E}_j^p$ |\n",
    "| IV    | AAVV  |  0  | -2  |  2  | $\\hat{E}_p^a\\hat{E}_q^b$ |\n",
    "| V     | CCAA  | -2  |  2  |  0  | $\\hat{E}_i^p\\hat{E}_j^q$ |\n",
    "| VI    | CAAV  | -1  |  0  |  1  | $\\hat{E}_i^a\\hat{E}_p^q, \\hat{E}_q^a\\hat{E}_i^p$ |\n",
    "| VII   | AAAC  | -1  |  1  |  0  | $\\hat{E}_p^q\\hat{E}_i^r$ |\n",
    "| VIII  | AAAV  |  0  | -1  |  1  | $\\hat{E}_p^q\\hat{E}_r^a$ |"
   ]
  },
  {
   "cell_type": "markdown",
   "metadata": {},
   "source": [
    "which is projected unto the HF and the excitated basis of the operator $\\hat{T}$:\n",
    "$$\\left\\{\n",
    "\\begin{array}{lr}\n",
    "&\\left\\langle 0\\middle|e^{-\\hat{T}}\\hat{H}e^{\\hat{T}}\\middle|0\\right\\rangle=E\n",
    "\\\\\n",
    "\\;\\forall\\mu\n",
    "&C_\\mu=\\left\\langle 0\\middle|\\hat{E}_\\mu \\; e^{-\\hat{T}}\\hat{H}e^{\\hat{T}}\\middle|0\\right\\rangle=0\n",
    "\\end{array}\n",
    "\\right.\\qquad\\qquad(1)$$"
   ]
  },
  {
   "cell_type": "markdown",
   "metadata": {},
   "source": [
    "The second equation is to be solved for the amplitudes $t_\\mu$ and the first equation gives the energy from those amplitudes."
   ]
  },
  {
   "cell_type": "markdown",
   "metadata": {},
   "source": [
    "### Tensors and excitation operators"
   ]
  },
  {
   "cell_type": "markdown",
   "metadata": {},
   "source": [
    "The Hamiltonian $\\hat{H}$ and the operator $\\hat{T}$ are composed of **tensors** and **excitation operators**:\n",
    "$$\\hat{H}=v_p^q \\hat{E}_p^q + \\frac{1}{2} v_{pq}^{rs} \\hat{E}_{pq}^{rs}\\qquad\\qquad(A)$$"
   ]
  },
  {
   "cell_type": "markdown",
   "metadata": {},
   "source": [
    "and for example in the case of CCD:\n",
    "$$\\hat{T}=t_{ij}^{ab}\\hat{E}_{ij}^{ab}\\qquad\\qquad(B)$$"
   ]
  },
  {
   "cell_type": "markdown",
   "metadata": {},
   "source": [
    "so that any expectation value seen in Equation (1) will reduce to contractions of integrals $v$, amplitudes $t$ and reduced density matrices $R$, as examplify in the mock expectation value below:\n",
    "$$\\left\\langle 0\\middle| \n",
    "\\left(v_{cd}^{kl} \\hat{E}_{cd}^{kl}\\right)\n",
    "\\left(t_{ij}^{ab} \\hat{E}_{ij}^{ab}\\right) \n",
    "\\middle|0\\right\\rangle\n",
    "=v_{cd}^{kl}t_{ij}^{ab}\\left\\langle 0\\middle| \\hat{E}_{cd}^{kl} \\hat{E}_{ij}^{ab} \\middle|0\\right\\rangle\n",
    "=v_{cd}^{kl}t_{ij}^{ab} R_{ijkl,abcd}$$"
   ]
  },
  {
   "cell_type": "markdown",
   "metadata": {},
   "source": [
    "In practice the reduced-density matrices will only yield delta functions on the indexes involved."
   ]
  },
  {
   "cell_type": "markdown",
   "metadata": {},
   "source": [
    "### Normal-ordering"
   ]
  },
  {
   "cell_type": "markdown",
   "metadata": {},
   "source": [
    ">**<span style=\"color:blue\">What is at stake here is the lenghtly derivation of the normal ordering (Wick's theorem) involved to transform the expectation values in Equation (1) into tractable and computable objects.</span>**"
   ]
  },
  {
   "cell_type": "markdown",
   "metadata": {},
   "source": [
    "In the mock expectation value shown above, we encounter the term\n",
    "$$\\left\\langle 0\\middle| \\hat{E}_{cd}^{kl} \\hat{E}_{ij}^{ab} \\middle|0\\right\\rangle\n",
    "=\\left\\langle 0\\middle| a^\\dagger_c a^\\dagger_d a_l a_k a^\\dagger_i a^\\dagger_j a_b a_a  \\middle|0\\right\\rangle\n",
    "$$"
   ]
  },
  {
   "cell_type": "markdown",
   "metadata": {},
   "source": [
    "which is not the optimal expression for this particular string of operators. If you instead transform it using the anticommutation relations into a string where all creation operators are on the left and all destruction operators are on the right, as in :\n",
    "$$\\left\\langle 0\\middle| a^\\dagger_c a^\\dagger_d a^\\dagger_i a^\\dagger_j a_l a_k a_b a_a  \\middle|0\\right\\rangle$$"
   ]
  },
  {
   "cell_type": "markdown",
   "metadata": {},
   "source": [
    "This particular expression is easy to analyze and compute because it easily leads to zeros and deltas (think about the applications of the creation and annihilation operators to $\\left|0\\right\\rangle$)."
   ]
  },
  {
   "cell_type": "markdown",
   "metadata": {},
   "source": [
    "Wick's theorem states that any arbitrary string of operators (a encountered when dealing with expectation values) can be written as a linear combination of normal-ordered strings. "
   ]
  },
  {
   "cell_type": "markdown",
   "metadata": {},
   "source": [
    "**Hence, applying Wick's theorem to a string of operators yields a sum of easy-to-compute terms.**"
   ]
  },
  {
   "cell_type": "markdown",
   "metadata": {},
   "source": [
    "Although lenghtly and prone to error, the derivation of the normal ordering of the operators is a very systematic task that can easily be done automatically. One only needs to teach a program the basics of the algebra (the anticommutation relations) to allow it to derive lenghly equations seamlessly. This is called **symbolic algebra**, and a good library to do that in **Second Quantization Algebra** (`sqa`)."
   ]
  },
  {
   "cell_type": "markdown",
   "metadata": {},
   "source": [
    "***"
   ]
  },
  {
   "cell_type": "markdown",
   "metadata": {},
   "source": [
    "## First steps in Second Quantization Algebra"
   ]
  },
  {
   "cell_type": "markdown",
   "metadata": {},
   "source": [
    "Let's import the `sqa` library (see installation instructions):"
   ]
  },
  {
   "cell_type": "code",
   "execution_count": 2,
   "metadata": {},
   "outputs": [],
   "source": [
    "import secondQuantizationAlgebra as sqa\n",
    "from tools_for_sqa import simplify_all, is_non_zero, list_indexes, list_tensors\n",
    "sqa.options.verbose = False"
   ]
  },
  {
   "cell_type": "markdown",
   "metadata": {},
   "source": [
    "The script needs to know what indexes refer to occupied or virtual orbitals, this is done by defining \"tags\":"
   ]
  },
  {
   "cell_type": "code",
   "execution_count": 3,
   "metadata": {},
   "outputs": [],
   "source": [
    "tag_occupied= sqa.options.core_type\n",
    "tag_virtual = sqa.options.virtual_type"
   ]
  },
  {
   "cell_type": "markdown",
   "metadata": {},
   "source": [
    "Then we will define objects that `sqa` is going to manipulate. Those are:\n",
    "* indexes (occupied or virtual)\n",
    "* tensors ($v$ and $t$)\n",
    "* excitation operators ($\\hat{E}$)\n",
    "* `terms`: in `sqa`, a term is a constant + a tensor + an excitation operator"
   ]
  },
  {
   "cell_type": "markdown",
   "metadata": {},
   "source": [
    "Note that `sqa` does not have documentation, but the code is well commented, so this notebook sometimes refer to lines of code that are comments (this assumes the use of the fork from `github.com/mussard`)."
   ]
  },
  {
   "cell_type": "markdown",
   "metadata": {},
   "source": [
    "***"
   ]
  },
  {
   "cell_type": "markdown",
   "metadata": {},
   "source": [
    "## Define the Hamiltonian (A)"
   ]
  },
  {
   "cell_type": "markdown",
   "metadata": {},
   "source": [
    "Remember that the Hamiltonian is defined as:\n",
    "$$\\hat{H}=v_p^q \\hat{E}_p^q + \\frac{1}{2} v_{pq}^{rs} \\hat{E}_{pq}^{rs}\\qquad\\qquad(A)$$"
   ]
  },
  {
   "cell_type": "markdown",
   "metadata": {},
   "source": [
    "### A\\ First, let's define a bunch of indexes"
   ]
  },
  {
   "cell_type": "markdown",
   "metadata": {},
   "source": [
    "The librairy `sqa` is going to need to distinguish between indexes of occupied and of virtual orbitals (this will impact the anticommutation relations and will allow simplification in the expressions, since for example application of a creation operator on an occupied index yields a zero, etc...)."
   ]
  },
  {
   "cell_type": "markdown",
   "metadata": {},
   "source": [
    "The **indexes** in `sqa` are defined as follow:"
   ]
  },
  {
   "cell_type": "code",
   "execution_count": 4,
   "metadata": {},
   "outputs": [],
   "source": [
    "iH  = sqa.index('iH', [tag_occupied], True)\n",
    "jH  = sqa.index('jH', [tag_occupied], True)\n",
    "kH  = sqa.index('kH', [tag_occupied], True)\n",
    "lH  = sqa.index('lH', [tag_occupied], True)\n",
    "aH  = sqa.index('aH', [tag_virtual],  True)\n",
    "bH  = sqa.index('bH', [tag_virtual],  True)\n",
    "cH  = sqa.index('cH', [tag_virtual],  True)\n",
    "dH  = sqa.index('dH', [tag_virtual],  True)"
   ]
  },
  {
   "cell_type": "markdown",
   "metadata": {},
   "source": [
    "This is nothing more than a human-readable name (a string) and a tag that specifies the occupied or virtual nature of the index (there is also a dummy attribute)."
   ]
  },
  {
   "cell_type": "markdown",
   "metadata": {},
   "source": [
    "### B\\ Then, we define the Hamiltonian tensors"
   ]
  },
  {
   "cell_type": "markdown",
   "metadata": {},
   "source": [
    "The **tensors** in `sqa` have again a human-readable name (a string) and a list of indexes (they also have symmetry property that we overlook for now):"
   ]
  },
  {
   "cell_type": "code",
   "execution_count": 5,
   "metadata": {},
   "outputs": [],
   "source": [
    "Voo  =sqa.tensor('Voo',   [iH,jH]      , []) # this is Voo(i,j)\n",
    "Vov  =sqa.tensor('Vov',   [iH,aH]      , [])\n",
    "Vvo  =sqa.tensor('Vvo',   [aH,iH]      , [])\n",
    "Vvv  =sqa.tensor('Vvv',   [aH,bH]      , [])\n",
    "Voooo=sqa.tensor('Voooo', [iH,jH,kH,lH], []) # this is Voooo(i,j,k,l)\n",
    "Vooov=sqa.tensor('Vooov', [iH,jH,kH,aH], [])\n",
    "Voovo=sqa.tensor('Voovo', [iH,jH,aH,kH], [])\n",
    "Voovv=sqa.tensor('Voovv', [iH,jH,aH,bH], [])\n",
    "Vovoo=sqa.tensor('Vovoo', [iH,aH,jH,kH], [])\n",
    "Vovov=sqa.tensor('Vovov', [iH,aH,jH,bH], [])\n",
    "Vovvo=sqa.tensor('Vovvo', [iH,aH,bH,jH], [])\n",
    "Vovvv=sqa.tensor('Vovvv', [iH,aH,bH,cH], [])\n",
    "Vvooo=sqa.tensor('Vvooo', [aH,iH,jH,kH], [])\n",
    "Vvoov=sqa.tensor('Vvoov', [aH,iH,jH,bH], [])\n",
    "Vvovo=sqa.tensor('Vvovo', [aH,iH,bH,jH], [])\n",
    "Vvovv=sqa.tensor('Vvovv', [aH,iH,bH,cH], [])\n",
    "Vvvoo=sqa.tensor('Vvvoo', [aH,bH,iH,jH], [])\n",
    "Vvvov=sqa.tensor('Vvvov', [aH,bH,iH,cH], [])\n",
    "Vvvvo=sqa.tensor('Vvvvo', [aH,bH,cH,iH], [])\n",
    "Vvvvv=sqa.tensor('Vvvvv', [aH,bH,cH,dH], [])"
   ]
  },
  {
   "cell_type": "markdown",
   "metadata": {},
   "source": [
    "(See for example lines 23-42 of the `sqaTensor.py` file for more context.)"
   ]
  },
  {
   "cell_type": "markdown",
   "metadata": {},
   "source": [
    "### C\\ We need to define And the excitation operators for the Hamiltonian"
   ]
  },
  {
   "cell_type": "markdown",
   "metadata": {},
   "source": [
    "The **excitation operators** in `sqa` are just a list of indexes that are creation and annihilation operators:"
   ]
  },
  {
   "cell_type": "code",
   "execution_count": 6,
   "metadata": {},
   "outputs": [],
   "source": [
    "Eoo  =sqa.sfExOp([iH,jH]      ) # this is a^dagger_i(1) a_j(2)\n",
    "Eov  =sqa.sfExOp([iH,aH]      )\n",
    "Evo  =sqa.sfExOp([aH,iH]      )\n",
    "Evv  =sqa.sfExOp([aH,bH]      )\n",
    "Eoooo=sqa.sfExOp([iH,jH,kH,lH]) # this is a^dagger_i(1) a^dagger_j(2) a_l(1) a_k(2)\n",
    "Eooov=sqa.sfExOp([iH,jH,kH,aH])\n",
    "Eoovo=sqa.sfExOp([iH,jH,aH,kH])\n",
    "Eoovv=sqa.sfExOp([iH,jH,aH,bH])\n",
    "Eovoo=sqa.sfExOp([iH,aH,jH,kH])\n",
    "Eovov=sqa.sfExOp([iH,aH,jH,bH])\n",
    "Eovvo=sqa.sfExOp([iH,aH,bH,jH])\n",
    "Eovvv=sqa.sfExOp([iH,aH,bH,cH])\n",
    "Evooo=sqa.sfExOp([aH,iH,jH,kH])\n",
    "Evoov=sqa.sfExOp([aH,iH,jH,bH])\n",
    "Evovo=sqa.sfExOp([aH,iH,bH,jH])\n",
    "Evovv=sqa.sfExOp([aH,iH,bH,cH])\n",
    "Evvoo=sqa.sfExOp([aH,bH,iH,jH])\n",
    "Evvov=sqa.sfExOp([aH,bH,iH,cH])\n",
    "Evvvo=sqa.sfExOp([aH,bH,cH,iH])\n",
    "Evvvv=sqa.sfExOp([aH,bH,cH,dH])"
   ]
  },
  {
   "cell_type": "markdown",
   "metadata": {},
   "source": [
    "(The object `sqa.sfExOp` is a child of the tensor object : see for example lines 346-348 of the `sqaTensor.py` file for more context.)"
   ]
  },
  {
   "cell_type": "markdown",
   "metadata": {},
   "source": [
    "### D\\ Finally, we define the terms of the Hamiltonian"
   ]
  },
  {
   "cell_type": "markdown",
   "metadata": {},
   "source": [
    "Remember again that the Hamiltonian is defined as:\n",
    "$$\\hat{H}=v_p^q \\hat{E}_p^q + \\frac{1}{2} v_{pq}^{rs} \\hat{E}_{pq}^{rs}\\qquad\\qquad(A)$$"
   ]
  },
  {
   "cell_type": "markdown",
   "metadata": {},
   "source": [
    "We define the hamiltonian as a list of **terms**, which in `sqa` have a numerical constant (here 1 or 1/2), something else that is not important here, and a list of tensors and excitation operators:"
   ]
  },
  {
   "cell_type": "code",
   "execution_count": 7,
   "metadata": {},
   "outputs": [],
   "source": [
    "H=[\n",
    "    sqa.term(1.0, [''], [Voo   ,Eoo  ]), # this is Voo(i,j) E_j^i\n",
    "    sqa.term(1.0, [''], [Vov   ,Eov  ]),\n",
    "    sqa.term(1.0, [''], [Vvo   ,Evo  ]),\n",
    "    sqa.term(1.0, [''], [Vvv   ,Evv  ]),\n",
    "    sqa.term(0.5, [''], [Voooo ,Eoooo]), # this is 1/2 Voooo(ijkl) E_{kl}^{ij}\n",
    "    sqa.term(0.5, [''], [Vooov ,Eooov]),\n",
    "    sqa.term(0.5, [''], [Voovo ,Eoovo]),\n",
    "    sqa.term(0.5, [''], [Voovv ,Eoovv]),\n",
    "    sqa.term(0.5, [''], [Vovoo ,Eovoo]),\n",
    "    sqa.term(0.5, [''], [Vovov ,Eovov]),\n",
    "    sqa.term(0.5, [''], [Vovvo ,Eovvo]),\n",
    "    sqa.term(0.5, [''], [Vovvv ,Eovvv]),\n",
    "    sqa.term(0.5, [''], [Vvooo ,Evooo]),\n",
    "    sqa.term(0.5, [''], [Vvoov ,Evoov]),\n",
    "    sqa.term(0.5, [''], [Vvovo ,Evovo]),\n",
    "    sqa.term(0.5, [''], [Vvovv ,Evovv]),\n",
    "    sqa.term(0.5, [''], [Vvvoo ,Evvoo]),\n",
    "    sqa.term(0.5, [''], [Vvvov ,Evvov]),\n",
    "    sqa.term(0.5, [''], [Vvvvo ,Evvvo]),\n",
    "    sqa.term(0.5, [''], [Vvvvv ,Evvvv])\n",
    "]"
   ]
  },
  {
   "cell_type": "code",
   "execution_count": 8,
   "metadata": {},
   "outputs": [
    {
     "name": "stdout",
     "output_type": "stream",
     "text": [
      "20\n",
      " (   1.00000)  Voo[iH,jH] E1[iH,jH] \n",
      " (   1.00000)  Vov[iH,aH] E1[iH,aH] \n",
      " (   1.00000)  Vvo[aH,iH] E1[aH,iH] \n",
      " (   1.00000)  Vvv[aH,bH] E1[aH,bH] \n",
      " (   0.50000)  Voooo[iH,jH,kH,lH] E2[iH,jH,kH,lH] \n",
      " (   0.50000)  Vooov[iH,jH,kH,aH] E2[iH,jH,kH,aH] \n",
      " (   0.50000)  Voovo[iH,jH,aH,kH] E2[iH,jH,aH,kH] \n",
      " (   0.50000)  Voovv[iH,jH,aH,bH] E2[iH,jH,aH,bH] \n",
      " (   0.50000)  Vovoo[iH,aH,jH,kH] E2[iH,aH,jH,kH] \n",
      " (   0.50000)  Vovov[iH,aH,jH,bH] E2[iH,aH,jH,bH] \n",
      " (   0.50000)  Vovvo[iH,aH,bH,jH] E2[iH,aH,bH,jH] \n",
      " (   0.50000)  Vovvv[iH,aH,bH,cH] E2[iH,aH,bH,cH] \n",
      " (   0.50000)  Vvooo[aH,iH,jH,kH] E2[aH,iH,jH,kH] \n",
      " (   0.50000)  Vvoov[aH,iH,jH,bH] E2[aH,iH,jH,bH] \n",
      " (   0.50000)  Vvovo[aH,iH,bH,jH] E2[aH,iH,bH,jH] \n",
      " (   0.50000)  Vvovv[aH,iH,bH,cH] E2[aH,iH,bH,cH] \n",
      " (   0.50000)  Vvvoo[aH,bH,iH,jH] E2[aH,bH,iH,jH] \n",
      " (   0.50000)  Vvvov[aH,bH,iH,cH] E2[aH,bH,iH,cH] \n",
      " (   0.50000)  Vvvvo[aH,bH,cH,iH] E2[aH,bH,cH,iH] \n",
      " (   0.50000)  Vvvvv[aH,bH,cH,dH] E2[aH,bH,cH,dH] \n"
     ]
    }
   ],
   "source": [
    "print(len(H))\n",
    "for elt in H:\n",
    "    print(elt)"
   ]
  },
  {
   "cell_type": "markdown",
   "metadata": {},
   "source": [
    "(See for example lines 26-31 of the `sqaTerm.py` file for more (limited) context.)"
   ]
  },
  {
   "cell_type": "markdown",
   "metadata": {},
   "source": [
    "***"
   ]
  },
  {
   "cell_type": "markdown",
   "metadata": {},
   "source": [
    "## Define the $\\hat{T}$ operators (B)"
   ]
  },
  {
   "cell_type": "markdown",
   "metadata": {},
   "source": [
    "Remember the definition of the $\\hat{T}$ operator in the case of CCD:\n",
    "$$\\hat{T}=t_{ij}^{ab}\\hat{E}_{ij}^{ab}\\qquad\\qquad(B)$$"
   ]
  },
  {
   "cell_type": "markdown",
   "metadata": {},
   "source": [
    "We are going to follow the same steps as for the Hamiltonian"
   ]
  },
  {
   "cell_type": "markdown",
   "metadata": {},
   "source": [
    "### We define the indexes, tensor, operator, and term for $\\hat{T}$ and $\\hat{T}^2$"
   ]
  },
  {
   "cell_type": "markdown",
   "metadata": {},
   "source": [
    "We need new indexes (note the \"T\" where before there was \"H\" in the variable name):"
   ]
  },
  {
   "cell_type": "code",
   "execution_count": 9,
   "metadata": {},
   "outputs": [],
   "source": [
    "iT = sqa.index('iT', [tag_occupied], True)\n",
    "jT = sqa.index('jT', [tag_occupied], True)\n",
    "kT = sqa.index('kT', [tag_occupied], True)\n",
    "lT = sqa.index('lT', [tag_occupied], True)\n",
    "aT = sqa.index('aT', [tag_virtual],  True)\n",
    "bT = sqa.index('bT', [tag_virtual],  True)\n",
    "cT = sqa.index('cT', [tag_virtual],  True)\n",
    "dT = sqa.index('dT', [tag_virtual],  True)"
   ]
  },
  {
   "cell_type": "markdown",
   "metadata": {},
   "source": [
    "As for the Hamiltonian:"
   ]
  },
  {
   "cell_type": "code",
   "execution_count": 10,
   "metadata": {},
   "outputs": [],
   "source": [
    "tensor   =sqa.tensor('Tijab', [aT,bT,iT,jT], [])\n",
    "operator =sqa.sfExOp([aT,bT,iT,jT])\n",
    "T        =sqa.term(  1.0, [''], [tensor, operator])\n",
    "\n",
    "tensor2  =sqa.tensor('Tijab', [cT,dT,kT,lT], [])\n",
    "operator2=sqa.sfExOp([cT,dT,kT,lT])\n",
    "T2       =sqa.term(  0.5, [''], [tensor, operator, tensor2, operator2])"
   ]
  },
  {
   "cell_type": "markdown",
   "metadata": {},
   "source": [
    "### We define the indexes, tensor, operator, and term for $\\hat{T}^\\dagger$ and ${\\hat{T}^\\dagger}^2$"
   ]
  },
  {
   "cell_type": "markdown",
   "metadata": {},
   "source": [
    "We need to define a term that contains an operator acting on the left (on the bra):\n",
    "$$\\left(\\hat{E}_{ij}^{ab}\\right)^\\dagger\n",
    "=\\left(a^\\dagger_a a^\\dagger_b a_j a_i\\right)^\\dagger=a^\\dagger_i a^\\dagger_j a_b a_a=\\hat{E}_{ab}^{ij}$$"
   ]
  },
  {
   "cell_type": "markdown",
   "metadata": {},
   "source": [
    "We need new indexes (note the \"T\" where before there was \"H\" in the variable name):"
   ]
  },
  {
   "cell_type": "code",
   "execution_count": 11,
   "metadata": {},
   "outputs": [],
   "source": [
    "iTd= sqa.index('iTd', [tag_occupied], True)\n",
    "jTd= sqa.index('jTd', [tag_occupied], True)\n",
    "kTd= sqa.index('kTd', [tag_occupied], True)\n",
    "lTd= sqa.index('lTd', [tag_occupied], True)\n",
    "aTd= sqa.index('aTd', [tag_virtual],  True)\n",
    "bTd= sqa.index('bTd', [tag_virtual],  True)\n",
    "cTd= sqa.index('cTd', [tag_virtual],  True)\n",
    "dTd= sqa.index('dTd', [tag_virtual],  True)"
   ]
  },
  {
   "cell_type": "code",
   "execution_count": 12,
   "metadata": {},
   "outputs": [],
   "source": [
    "tensor   =sqa.tensor('Tijab', [aTd,bTd,iTd,jTd], [])\n",
    "operator =sqa.sfExOp([iTd,jTd,aTd,bTd])\n",
    "Tdagger  =sqa.term( -1.0, [''], [tensor, operator])\n",
    "\n",
    "tensor2  =sqa.tensor('Tijab', [cTd,dTd,kTd,lTd], [])\n",
    "operator2=sqa.sfExOp([kTd,lTd,cTd,dTd])\n",
    "Tdagger2 =sqa.term(  0.5, [''], [tensor, operator, tensor2, operator2])"
   ]
  },
  {
   "cell_type": "code",
   "execution_count": 13,
   "metadata": {},
   "outputs": [
    {
     "name": "stdout",
     "output_type": "stream",
     "text": [
      " (   1.00000)  Tijab[aT,bT,iT,jT] E2[aT,bT,iT,jT] \n",
      " (   0.50000)  Tijab[aT,bT,iT,jT] E2[aT,bT,iT,jT] Tijab[cT,dT,kT,lT] E2[cT,dT,kT,lT] \n",
      " (  -1.00000)  Tijab[aTd,bTd,iTd,jTd] E2[iTd,jTd,aTd,bTd] \n",
      " (   0.50000)  Tijab[aTd,bTd,iTd,jTd] E2[iTd,jTd,aTd,bTd] Tijab[cTd,dTd,kTd,lTd] E2[kTd,lTd,cTd,dTd] \n"
     ]
    }
   ],
   "source": [
    "print(T)\n",
    "print(T2)\n",
    "print(Tdagger)\n",
    "print(Tdagger2)"
   ]
  },
  {
   "cell_type": "markdown",
   "metadata": {},
   "source": [
    "***"
   ]
  },
  {
   "cell_type": "markdown",
   "metadata": {},
   "source": [
    "## Define the similarity transformed Hamitonian"
   ]
  },
  {
   "cell_type": "markdown",
   "metadata": {},
   "source": [
    "Remember that the similarity transform Hamiltonian is used (since $\\hat{T}$ and $\\hat{H}$ are two-body operator, we can truncate the Taylor expansion to second-order):\n",
    "$$\\begin{array}{rl}\n",
    "e^{-\\hat{T}}\\hat{H}e^{\\hat{T}}\n",
    "&=\\left(1-\\hat{T}^\\dagger+\\frac{1}{2}{\\hat{T}^\\dagger}^2\\right)\n",
    "\\hat{H}\n",
    "\\left(1+\\hat{T}+\\frac{1}{2}\\hat{T}^2\\right)\n",
    "\\\\&=\n",
    "\\hat{H}\n",
    "+\\hat{H}\\hat{T}\n",
    "+\\frac{1}{2}\\hat{H}\\hat{T}^2\n",
    "-\\hat{T}^\\dagger\\hat{H}\n",
    "-\\hat{T}^\\dagger\\hat{H}\\hat{T}\n",
    "-\\frac{1}{2}\\hat{T}^\\dagger\\hat{H}\\hat{T}^2\n",
    "+\\frac{1}{2}{\\hat{T}^\\dagger}^2\\hat{H}\n",
    "+\\frac{1}{2}{\\hat{T}^\\dagger}^2\\hat{H}\\hat{T}\n",
    "+\\frac{1}{4}{\\hat{T}^\\dagger}^2\\hat{H}\\hat{T}^2\n",
    "\\end{array}\n",
    "\\qquad\\qquad(C)$$"
   ]
  },
  {
   "cell_type": "markdown",
   "metadata": {},
   "source": [
    "We define a unit operator (this is not strictly necessary, but we do this to later be able to track down where different terms arose from):"
   ]
  },
  {
   "cell_type": "code",
   "execution_count": 14,
   "metadata": {},
   "outputs": [],
   "source": [
    "oneleft =sqa.term( 1.0, [''], [sqa.tensor('ONEleft' ,[],[])])\n",
    "oneright=sqa.term( 1.0, [''], [sqa.tensor('ONEright',[],[])])"
   ]
  },
  {
   "cell_type": "code",
   "execution_count": 15,
   "metadata": {},
   "outputs": [
    {
     "name": "stdout",
     "output_type": "stream",
     "text": [
      " (   1.00000)  ONEleft[] \n",
      " (   1.00000)  ONEright[] \n"
     ]
    }
   ],
   "source": [
    "print(oneleft)\n",
    "print(oneright)"
   ]
  },
  {
   "cell_type": "markdown",
   "metadata": {},
   "source": [
    "We now define the similarity-transformed Hamiltonian (we will organize the similarity-transformed terms in a list of length 9 for each term of the expansion in equation (C)):"
   ]
  },
  {
   "cell_type": "code",
   "execution_count": 16,
   "metadata": {},
   "outputs": [],
   "source": [
    "similH=[]\n",
    "dict=[]\n",
    "for left in [oneleft,Tdagger,Tdagger2]:\n",
    "  for right in [oneright,T,T2]:\n",
    "    similH.append([])\n",
    "    dict.append([left,right])\n",
    "    for elt in H:\n",
    "      similH[-1]+=[sqa.multiplyTerms(sqa.multiplyTerms(left, elt),right)]\n",
    "  #break"
   ]
  },
  {
   "cell_type": "markdown",
   "metadata": {},
   "source": [
    "Each element of the list is a list of length 20 corresponding to the 20 terms of the Hamiltonian:"
   ]
  },
  {
   "cell_type": "code",
   "execution_count": 17,
   "metadata": {},
   "outputs": [
    {
     "name": "stdout",
     "output_type": "stream",
     "text": [
      "(9, [20, 20, 20, 20, 20, 20, 20, 20, 20])\n"
     ]
    }
   ],
   "source": [
    "print(len(similH),[len(elt) for elt in similH])"
   ]
  },
  {
   "cell_type": "markdown",
   "metadata": {},
   "source": [
    "***"
   ]
  },
  {
   "cell_type": "markdown",
   "metadata": {},
   "source": [
    "## Normal-ordered CC equations"
   ]
  },
  {
   "cell_type": "markdown",
   "metadata": {},
   "source": [
    "Remember that we wish to manipulate\n",
    "$$C_\\mu=\\left\\langle 0\\middle| \\hat{E}_\\mu \\; e^{-\\hat{T}}\\hat{H}e^{\\hat{T}} \\middle| 0\\right\\rangle$$"
   ]
  },
  {
   "cell_type": "markdown",
   "metadata": {},
   "source": [
    "We define the excitation operator $\\hat{E}_\\mu$ on which the CC equations are projected. Notice that we give it a tensor $C_\\mu$: this is a container that will hold the results of the eventual tensor contraction arising from the manipulation $\\left\\langle 0\\middle| \\hat{E}_\\mu \\; e^{-\\hat{T}}\\hat{H}e^{\\hat{T}} \\middle| 0\\right\\rangle$, so that what needs to be solved is $C_\\mu=0$:"
   ]
  },
  {
   "cell_type": "code",
   "execution_count": 18,
   "metadata": {},
   "outputs": [],
   "source": [
    "iE = sqa.index('iT', [tag_occupied], True)\n",
    "jE = sqa.index('jT', [tag_occupied], True)\n",
    "aE = sqa.index('aT', [tag_virtual],  True)\n",
    "bE = sqa.index('bT', [tag_virtual],  True)\n",
    "tensor  =sqa.tensor('Cmu', [aE,bE,iE,jE], [])\n",
    "operator=sqa.sfExOp([iE,jE,aE,bE])\n",
    "Eijab = sqa.term(1.0, [''], [tensor,operator])"
   ]
  },
  {
   "cell_type": "markdown",
   "metadata": {},
   "source": [
    "We can observe the expectation value $\\left\\langle 0\\middle| \\hat{E}_\\mu \\; e^{-\\hat{T}}\\hat{H}e^{\\hat{T}} \\middle| 0\\right\\rangle$, for each of the 9x20 terms. Most of them do not survive between the HF determinants $\\left\\langle 0 \\middle|...\\middle|0\\right\\rangle$ : the string of destruction and creation operator mustn't change the occupation pattern of occupied and virtual orbitals."
   ]
  },
  {
   "cell_type": "markdown",
   "metadata": {},
   "source": [
    "Let's consider for example the term of the expansion $\\left\\langle 0\\middle| \\hat{E}_{ab}^{ij} \\; 1.\\hat{H}.1 \\middle| 0\\right\\rangle$. The operator on which the equation is projected destroys two virtual orbitals and creates two occupied orbitals (let's write: +2o-2v). To have a non-zero expectation value $\\left\\langle 0\\middle| ... \\middle| 0\\right\\rangle$, the surviving Hamiltonian terms must create two virtual orbitals and destroy two occupied orbitals (i.e.: -2o+2v). Hence only one term, containing $Vvvoo[a,b,i,j]$, survives."
   ]
  },
  {
   "cell_type": "code",
   "execution_count": 19,
   "metadata": {},
   "outputs": [
    {
     "name": "stdout",
     "output_type": "stream",
     "text": [
      "i <.......expectation value.......> list_of_operators        non_zero\n",
      "---------------------------------------------------------------------\n",
      "1 <Tijab.ONEleft    .H.ONEright   > oovvoo                   False\n",
      "1 <Tijab.ONEleft    .H.ONEright   > oovvov                   False\n",
      "1 <Tijab.ONEleft    .H.ONEright   > oovvvo                   False\n",
      "1 <Tijab.ONEleft    .H.ONEright   > oovvvv                   False\n",
      "1 <Tijab.ONEleft    .H.ONEright   > oovvoooo                 False\n",
      "1 <Tijab.ONEleft    .H.ONEright   > oovvooov                 False\n",
      "1 <Tijab.ONEleft    .H.ONEright   > oovvoovo                 False\n",
      "1 <Tijab.ONEleft    .H.ONEright   > oovvoovv                 False\n",
      "1 <Tijab.ONEleft    .H.ONEright   > oovvovoo                 False\n",
      "1 <Tijab.ONEleft    .H.ONEright   > oovvovov                 False\n",
      "1 <Tijab.ONEleft    .H.ONEright   > oovvovvo                 False\n",
      "1 <Tijab.ONEleft    .H.ONEright   > oovvovvv                 False\n",
      "1 <Tijab.ONEleft    .H.ONEright   > oovvvooo                 False\n",
      "1 <Tijab.ONEleft    .H.ONEright   > oovvvoov                 False\n",
      "1 <Tijab.ONEleft    .H.ONEright   > oovvvovo                 False\n",
      "1 <Tijab.ONEleft    .H.ONEright   > oovvvovv                 False\n",
      "1 <Tijab.ONEleft    .H.ONEright   > oovvvvoo                 True \n",
      "1 <Tijab.ONEleft    .H.ONEright   > oovvvvov                 False\n",
      "1 <Tijab.ONEleft    .H.ONEright   > oovvvvvo                 False\n",
      "1 <Tijab.ONEleft    .H.ONEright   > oovvvvvv                 False\n",
      "2 <Tijab.ONEleft    .H.Tijab      > oovvoovvoo               True \n",
      "2 <Tijab.ONEleft    .H.Tijab      > oovvovvvoo               False\n",
      "2 <Tijab.ONEleft    .H.Tijab      > oovvvovvoo               False\n",
      "2 <Tijab.ONEleft    .H.Tijab      > oovvvvvvoo               True \n",
      "2 <Tijab.ONEleft    .H.Tijab      > oovvoooovvoo             True \n",
      "2 <Tijab.ONEleft    .H.Tijab      > oovvooovvvoo             False\n",
      "2 <Tijab.ONEleft    .H.Tijab      > oovvoovovvoo             False\n",
      "2 <Tijab.ONEleft    .H.Tijab      > oovvoovvvvoo             False\n",
      "2 <Tijab.ONEleft    .H.Tijab      > oovvovoovvoo             False\n",
      "2 <Tijab.ONEleft    .H.Tijab      > oovvovovvvoo             True \n",
      "2 <Tijab.ONEleft    .H.Tijab      > oovvovvovvoo             True \n",
      "2 <Tijab.ONEleft    .H.Tijab      > oovvovvvvvoo             False\n",
      "2 <Tijab.ONEleft    .H.Tijab      > oovvvooovvoo             False\n",
      "2 <Tijab.ONEleft    .H.Tijab      > oovvvoovvvoo             True \n",
      "2 <Tijab.ONEleft    .H.Tijab      > oovvvovovvoo             True \n",
      "2 <Tijab.ONEleft    .H.Tijab      > oovvvovvvvoo             False\n",
      "2 <Tijab.ONEleft    .H.Tijab      > oovvvvoovvoo             False\n",
      "2 <Tijab.ONEleft    .H.Tijab      > oovvvvovvvoo             False\n",
      "2 <Tijab.ONEleft    .H.Tijab      > oovvvvvovvoo             False\n",
      "2 <Tijab.ONEleft    .H.Tijab      > oovvvvvvvvoo             True \n",
      "3 <Tijab.ONEleft    .H.Tijab.Tijab> oovvoovvoovvoo           False\n",
      "3 <Tijab.ONEleft    .H.Tijab.Tijab> oovvovvvoovvoo           False\n",
      "3 <Tijab.ONEleft    .H.Tijab.Tijab> oovvvovvoovvoo           False\n",
      "3 <Tijab.ONEleft    .H.Tijab.Tijab> oovvvvvvoovvoo           False\n",
      "3 <Tijab.ONEleft    .H.Tijab.Tijab> oovvoooovvoovvoo         False\n",
      "3 <Tijab.ONEleft    .H.Tijab.Tijab> oovvooovvvoovvoo         False\n",
      "3 <Tijab.ONEleft    .H.Tijab.Tijab> oovvoovovvoovvoo         False\n",
      "3 <Tijab.ONEleft    .H.Tijab.Tijab> oovvoovvvvoovvoo         True \n",
      "3 <Tijab.ONEleft    .H.Tijab.Tijab> oovvovoovvoovvoo         False\n",
      "3 <Tijab.ONEleft    .H.Tijab.Tijab> oovvovovvvoovvoo         False\n",
      "3 <Tijab.ONEleft    .H.Tijab.Tijab> oovvovvovvoovvoo         False\n",
      "3 <Tijab.ONEleft    .H.Tijab.Tijab> oovvovvvvvoovvoo         False\n",
      "3 <Tijab.ONEleft    .H.Tijab.Tijab> oovvvooovvoovvoo         False\n",
      "3 <Tijab.ONEleft    .H.Tijab.Tijab> oovvvoovvvoovvoo         False\n",
      "3 <Tijab.ONEleft    .H.Tijab.Tijab> oovvvovovvoovvoo         False\n",
      "3 <Tijab.ONEleft    .H.Tijab.Tijab> oovvvovvvvoovvoo         False\n",
      "3 <Tijab.ONEleft    .H.Tijab.Tijab> oovvvvoovvoovvoo         False\n",
      "3 <Tijab.ONEleft    .H.Tijab.Tijab> oovvvvovvvoovvoo         False\n",
      "3 <Tijab.ONEleft    .H.Tijab.Tijab> oovvvvvovvoovvoo         False\n",
      "3 <Tijab.ONEleft    .H.Tijab.Tijab> oovvvvvvvvoovvoo         False\n",
      "4 <Tijab.Tijab      .H.ONEright   > oovvoovvoo               False\n",
      "4 <Tijab.Tijab      .H.ONEright   > oovvoovvov               False\n",
      "4 <Tijab.Tijab      .H.ONEright   > oovvoovvvo               False\n",
      "4 <Tijab.Tijab      .H.ONEright   > oovvoovvvv               False\n",
      "4 <Tijab.Tijab      .H.ONEright   > oovvoovvoooo             False\n",
      "4 <Tijab.Tijab      .H.ONEright   > oovvoovvooov             False\n",
      "4 <Tijab.Tijab      .H.ONEright   > oovvoovvoovo             False\n",
      "4 <Tijab.Tijab      .H.ONEright   > oovvoovvoovv             False\n",
      "4 <Tijab.Tijab      .H.ONEright   > oovvoovvovoo             False\n",
      "4 <Tijab.Tijab      .H.ONEright   > oovvoovvovov             False\n",
      "4 <Tijab.Tijab      .H.ONEright   > oovvoovvovvo             False\n",
      "4 <Tijab.Tijab      .H.ONEright   > oovvoovvovvv             False\n",
      "4 <Tijab.Tijab      .H.ONEright   > oovvoovvvooo             False\n",
      "4 <Tijab.Tijab      .H.ONEright   > oovvoovvvoov             False\n",
      "4 <Tijab.Tijab      .H.ONEright   > oovvoovvvovo             False\n",
      "4 <Tijab.Tijab      .H.ONEright   > oovvoovvvovv             False\n",
      "4 <Tijab.Tijab      .H.ONEright   > oovvoovvvvoo             False\n",
      "4 <Tijab.Tijab      .H.ONEright   > oovvoovvvvov             False\n",
      "4 <Tijab.Tijab      .H.ONEright   > oovvoovvvvvo             False\n",
      "4 <Tijab.Tijab      .H.ONEright   > oovvoovvvvvv             False\n",
      "5 <Tijab.Tijab      .H.Tijab      > oovvoovvoovvoo           False\n",
      "5 <Tijab.Tijab      .H.Tijab      > oovvoovvovvvoo           False\n",
      "5 <Tijab.Tijab      .H.Tijab      > oovvoovvvovvoo           False\n",
      "5 <Tijab.Tijab      .H.Tijab      > oovvoovvvvvvoo           False\n",
      "5 <Tijab.Tijab      .H.Tijab      > oovvoovvoooovvoo         False\n",
      "5 <Tijab.Tijab      .H.Tijab      > oovvoovvooovvvoo         False\n",
      "5 <Tijab.Tijab      .H.Tijab      > oovvoovvoovovvoo         False\n",
      "5 <Tijab.Tijab      .H.Tijab      > oovvoovvoovvvvoo         False\n",
      "5 <Tijab.Tijab      .H.Tijab      > oovvoovvovoovvoo         False\n",
      "5 <Tijab.Tijab      .H.Tijab      > oovvoovvovovvvoo         False\n",
      "5 <Tijab.Tijab      .H.Tijab      > oovvoovvovvovvoo         False\n",
      "5 <Tijab.Tijab      .H.Tijab      > oovvoovvovvvvvoo         False\n",
      "5 <Tijab.Tijab      .H.Tijab      > oovvoovvvooovvoo         False\n",
      "5 <Tijab.Tijab      .H.Tijab      > oovvoovvvoovvvoo         False\n",
      "5 <Tijab.Tijab      .H.Tijab      > oovvoovvvovovvoo         False\n",
      "5 <Tijab.Tijab      .H.Tijab      > oovvoovvvovvvvoo         False\n",
      "5 <Tijab.Tijab      .H.Tijab      > oovvoovvvvoovvoo         True \n",
      "5 <Tijab.Tijab      .H.Tijab      > oovvoovvvvovvvoo         False\n",
      "5 <Tijab.Tijab      .H.Tijab      > oovvoovvvvvovvoo         False\n",
      "5 <Tijab.Tijab      .H.Tijab      > oovvoovvvvvvvvoo         False\n",
      "6 <Tijab.Tijab      .H.Tijab.Tijab> oovvoovvoovvoovvoo       True \n",
      "6 <Tijab.Tijab      .H.Tijab.Tijab> oovvoovvovvvoovvoo       False\n",
      "6 <Tijab.Tijab      .H.Tijab.Tijab> oovvoovvvovvoovvoo       False\n",
      "6 <Tijab.Tijab      .H.Tijab.Tijab> oovvoovvvvvvoovvoo       True \n",
      "6 <Tijab.Tijab      .H.Tijab.Tijab> oovvoovvoooovvoovvoo     True \n",
      "6 <Tijab.Tijab      .H.Tijab.Tijab> oovvoovvooovvvoovvoo     False\n",
      "6 <Tijab.Tijab      .H.Tijab.Tijab> oovvoovvoovovvoovvoo     False\n",
      "6 <Tijab.Tijab      .H.Tijab.Tijab> oovvoovvoovvvvoovvoo     False\n",
      "6 <Tijab.Tijab      .H.Tijab.Tijab> oovvoovvovoovvoovvoo     False\n",
      "6 <Tijab.Tijab      .H.Tijab.Tijab> oovvoovvovovvvoovvoo     True \n",
      "6 <Tijab.Tijab      .H.Tijab.Tijab> oovvoovvovvovvoovvoo     True \n",
      "6 <Tijab.Tijab      .H.Tijab.Tijab> oovvoovvovvvvvoovvoo     False\n",
      "6 <Tijab.Tijab      .H.Tijab.Tijab> oovvoovvvooovvoovvoo     False\n",
      "6 <Tijab.Tijab      .H.Tijab.Tijab> oovvoovvvoovvvoovvoo     True \n",
      "6 <Tijab.Tijab      .H.Tijab.Tijab> oovvoovvvovovvoovvoo     True \n",
      "6 <Tijab.Tijab      .H.Tijab.Tijab> oovvoovvvovvvvoovvoo     False\n",
      "6 <Tijab.Tijab      .H.Tijab.Tijab> oovvoovvvvoovvoovvoo     False\n",
      "6 <Tijab.Tijab      .H.Tijab.Tijab> oovvoovvvvovvvoovvoo     False\n",
      "6 <Tijab.Tijab      .H.Tijab.Tijab> oovvoovvvvvovvoovvoo     False\n",
      "6 <Tijab.Tijab      .H.Tijab.Tijab> oovvoovvvvvvvvoovvoo     True \n",
      "7 <Tijab.Tijab.Tijab.H.ONEright   > oovvoovvoovvoo           False\n",
      "7 <Tijab.Tijab.Tijab.H.ONEright   > oovvoovvoovvov           False\n",
      "7 <Tijab.Tijab.Tijab.H.ONEright   > oovvoovvoovvvo           False\n",
      "7 <Tijab.Tijab.Tijab.H.ONEright   > oovvoovvoovvvv           False\n",
      "7 <Tijab.Tijab.Tijab.H.ONEright   > oovvoovvoovvoooo         False\n",
      "7 <Tijab.Tijab.Tijab.H.ONEright   > oovvoovvoovvooov         False\n",
      "7 <Tijab.Tijab.Tijab.H.ONEright   > oovvoovvoovvoovo         False\n",
      "7 <Tijab.Tijab.Tijab.H.ONEright   > oovvoovvoovvoovv         False\n",
      "7 <Tijab.Tijab.Tijab.H.ONEright   > oovvoovvoovvovoo         False\n",
      "7 <Tijab.Tijab.Tijab.H.ONEright   > oovvoovvoovvovov         False\n",
      "7 <Tijab.Tijab.Tijab.H.ONEright   > oovvoovvoovvovvo         False\n",
      "7 <Tijab.Tijab.Tijab.H.ONEright   > oovvoovvoovvovvv         False\n",
      "7 <Tijab.Tijab.Tijab.H.ONEright   > oovvoovvoovvvooo         False\n",
      "7 <Tijab.Tijab.Tijab.H.ONEright   > oovvoovvoovvvoov         False\n",
      "7 <Tijab.Tijab.Tijab.H.ONEright   > oovvoovvoovvvovo         False\n",
      "7 <Tijab.Tijab.Tijab.H.ONEright   > oovvoovvoovvvovv         False\n",
      "7 <Tijab.Tijab.Tijab.H.ONEright   > oovvoovvoovvvvoo         False\n",
      "7 <Tijab.Tijab.Tijab.H.ONEright   > oovvoovvoovvvvov         False\n",
      "7 <Tijab.Tijab.Tijab.H.ONEright   > oovvoovvoovvvvvo         False\n",
      "7 <Tijab.Tijab.Tijab.H.ONEright   > oovvoovvoovvvvvv         False\n",
      "8 <Tijab.Tijab.Tijab.H.Tijab      > oovvoovvoovvoovvoo       False\n",
      "8 <Tijab.Tijab.Tijab.H.Tijab      > oovvoovvoovvovvvoo       False\n",
      "8 <Tijab.Tijab.Tijab.H.Tijab      > oovvoovvoovvvovvoo       False\n",
      "8 <Tijab.Tijab.Tijab.H.Tijab      > oovvoovvoovvvvvvoo       False\n",
      "8 <Tijab.Tijab.Tijab.H.Tijab      > oovvoovvoovvoooovvoo     False\n",
      "8 <Tijab.Tijab.Tijab.H.Tijab      > oovvoovvoovvooovvvoo     False\n",
      "8 <Tijab.Tijab.Tijab.H.Tijab      > oovvoovvoovvoovovvoo     False\n",
      "8 <Tijab.Tijab.Tijab.H.Tijab      > oovvoovvoovvoovvvvoo     False\n",
      "8 <Tijab.Tijab.Tijab.H.Tijab      > oovvoovvoovvovoovvoo     False\n",
      "8 <Tijab.Tijab.Tijab.H.Tijab      > oovvoovvoovvovovvvoo     False\n",
      "8 <Tijab.Tijab.Tijab.H.Tijab      > oovvoovvoovvovvovvoo     False\n",
      "8 <Tijab.Tijab.Tijab.H.Tijab      > oovvoovvoovvovvvvvoo     False\n",
      "8 <Tijab.Tijab.Tijab.H.Tijab      > oovvoovvoovvvooovvoo     False\n",
      "8 <Tijab.Tijab.Tijab.H.Tijab      > oovvoovvoovvvoovvvoo     False\n",
      "8 <Tijab.Tijab.Tijab.H.Tijab      > oovvoovvoovvvovovvoo     False\n",
      "8 <Tijab.Tijab.Tijab.H.Tijab      > oovvoovvoovvvovvvvoo     False\n",
      "8 <Tijab.Tijab.Tijab.H.Tijab      > oovvoovvoovvvvoovvoo     False\n",
      "8 <Tijab.Tijab.Tijab.H.Tijab      > oovvoovvoovvvvovvvoo     False\n",
      "8 <Tijab.Tijab.Tijab.H.Tijab      > oovvoovvoovvvvvovvoo     False\n",
      "8 <Tijab.Tijab.Tijab.H.Tijab      > oovvoovvoovvvvvvvvoo     False\n",
      "9 <Tijab.Tijab.Tijab.H.Tijab.Tijab> oovvoovvoovvoovvoovvoo   False\n",
      "9 <Tijab.Tijab.Tijab.H.Tijab.Tijab> oovvoovvoovvovvvoovvoo   False\n",
      "9 <Tijab.Tijab.Tijab.H.Tijab.Tijab> oovvoovvoovvvovvoovvoo   False\n",
      "9 <Tijab.Tijab.Tijab.H.Tijab.Tijab> oovvoovvoovvvvvvoovvoo   False\n",
      "9 <Tijab.Tijab.Tijab.H.Tijab.Tijab> oovvoovvoovvoooovvoovvoo False\n",
      "9 <Tijab.Tijab.Tijab.H.Tijab.Tijab> oovvoovvoovvooovvvoovvoo False\n",
      "9 <Tijab.Tijab.Tijab.H.Tijab.Tijab> oovvoovvoovvoovovvoovvoo False\n",
      "9 <Tijab.Tijab.Tijab.H.Tijab.Tijab> oovvoovvoovvoovvvvoovvoo False\n",
      "9 <Tijab.Tijab.Tijab.H.Tijab.Tijab> oovvoovvoovvovoovvoovvoo False\n",
      "9 <Tijab.Tijab.Tijab.H.Tijab.Tijab> oovvoovvoovvovovvvoovvoo False\n",
      "9 <Tijab.Tijab.Tijab.H.Tijab.Tijab> oovvoovvoovvovvovvoovvoo False\n",
      "9 <Tijab.Tijab.Tijab.H.Tijab.Tijab> oovvoovvoovvovvvvvoovvoo False\n",
      "9 <Tijab.Tijab.Tijab.H.Tijab.Tijab> oovvoovvoovvvooovvoovvoo False\n",
      "9 <Tijab.Tijab.Tijab.H.Tijab.Tijab> oovvoovvoovvvoovvvoovvoo False\n",
      "9 <Tijab.Tijab.Tijab.H.Tijab.Tijab> oovvoovvoovvvovovvoovvoo False\n",
      "9 <Tijab.Tijab.Tijab.H.Tijab.Tijab> oovvoovvoovvvovvvvoovvoo False\n",
      "9 <Tijab.Tijab.Tijab.H.Tijab.Tijab> oovvoovvoovvvvoovvoovvoo True \n",
      "9 <Tijab.Tijab.Tijab.H.Tijab.Tijab> oovvoovvoovvvvovvvoovvoo False\n",
      "9 <Tijab.Tijab.Tijab.H.Tijab.Tijab> oovvoovvoovvvvvovvoovvoo False\n",
      "9 <Tijab.Tijab.Tijab.H.Tijab.Tijab> oovvoovvoovvvvvvvvoovvoo False\n"
     ]
    }
   ],
   "source": [
    "print 'i <.......expectation value.......> list_of_operators        non_zero'\n",
    "print '---------------------------------------------------------------------'\n",
    "for i in range(9):\n",
    "  for elt in similH[i]:\n",
    "    print '%1i <Tijab.%-11s.H.%-11s> %-24s %-5s'\\\n",
    "      %(i+1,list_tensors(dict[i][0]),\\\n",
    "            list_tensors(dict[i][1]),\\\n",
    "            list_indexes([Eijab,elt]),\\\n",
    "            is_non_zero([Eijab,elt]))"
   ]
  },
  {
   "cell_type": "markdown",
   "metadata": {},
   "source": [
    "And then, as said before, we normal-order surviving terms of the expectation value $\\left\\langle 0\\middle| \\hat{E}_\\mu \\; e^{-\\hat{T}}\\hat{H}e^{\\hat{T}} \\middle| 0\\right\\rangle$:"
   ]
  },
  {
   "cell_type": "markdown",
   "metadata": {},
   "source": [
    "**This may take some time, so we'll skip the 5th of 8th element of the `similH` list, which are the most time-consuming**"
   ]
  },
  {
   "cell_type": "code",
   "execution_count": 20,
   "metadata": {},
   "outputs": [
    {
     "name": "stdout",
     "output_type": "stream",
     "text": [
      "(8, [7, 576, 1657, 0, 1657, 0, 0, 0])\n"
     ]
    }
   ],
   "source": [
    "equ=[]\n",
    "for i in range(8):\n",
    "  equ.append([])\n",
    "  if i!=5 and i!=8: # This is how we skip some terms of the expansion\n",
    "   for elt in similH[i]:\n",
    "    if is_non_zero([Eijab,elt]):\n",
    "      equ[-1]+=sqa.normalOrder(sqa.multiplyTerms(Eijab,elt))\n",
    "print(len(equ),[len(elt) for elt in equ])"
   ]
  },
  {
   "cell_type": "markdown",
   "metadata": {},
   "source": [
    "This list of tensor contractions is huge and contains a lot of redundancies and delta function that could be resolved, we hence run the `simplify_all` routine, that basically just ensures there is the least amount of redundancies in the terms (see below for some step-by-step explanations of some terms):"
   ]
  },
  {
   "cell_type": "code",
   "execution_count": 21,
   "metadata": {},
   "outputs": [
    {
     "name": "stdout",
     "output_type": "stream",
     "text": [
      "928\n"
     ]
    }
   ],
   "source": [
    "iD  = sqa.index('iD', [tag_occupied], True)\n",
    "jD  = sqa.index('jD', [tag_occupied], True)\n",
    "aD  = sqa.index('aD', [tag_virtual],  True)\n",
    "bD  = sqa.index('bD', [tag_virtual],  True)\n",
    "deltaO = sqa.tensor('deltaO', [iD,jD], [])\n",
    "deltaV = sqa.tensor('deltaV', [aD,bD], [])\n",
    "flatten_equ=[inner for outer in equ for inner in outer]\n",
    "equ=simplify_all(flatten_equ, [deltaO, deltaO,deltaV])\n",
    "print(len(equ))"
   ]
  },
  {
   "cell_type": "markdown",
   "metadata": {},
   "source": [
    "Without using symmetry (see next section), this is still too large a number of tensor contraction to _look at_, but it's manageable for a tensor contraction program."
   ]
  },
  {
   "cell_type": "markdown",
   "metadata": {},
   "source": [
    "Here is a little script to format the results of the manipulation in a somewhat human-readable format like \"$C_\\mu=\\text{[tensor contractions]}$\" :"
   ]
  },
  {
   "cell_type": "code",
   "execution_count": 22,
   "metadata": {},
   "outputs": [
    {
     "name": "stdout",
     "output_type": "stream",
     "text": [
      "Cmu[a,b,c,d] =  2.0 ONEleft[]     .ONEright[]    .Vvvoo[a,b,c,d]\n",
      "Cmu[a,b,c,d] = -1.0 ONEleft[]     .ONEright[]    .Vvvoo[a,b,d,c]\n",
      "Cmu[a,b,c,d] = -1.0 ONEleft[]     .ONEright[]    .Vvvoo[b,a,c,d]\n",
      "Cmu[a,b,c,d] =  2.0 ONEleft[]     .ONEright[]    .Vvvoo[b,a,d,c]\n",
      "Cmu[a,c,b,d] = -8.0 ONEleft[]     .Tijab[a,e,b,f].Voo[b,g]      .deltaV[c,a]   .deltaO[d,b]   .deltaV[e,a]   .deltaO[f,b]   .deltaO[g,b]   \n",
      "Cmu[a,d,b,e] =  8.0 ONEleft[]     .Tijab[a,f,b,g].Voo[c,h]      .deltaV[d,a]   .deltaO[e,b]   .deltaV[f,a]   .deltaO[g,b]   .deltaO[h,c]   \n",
      "Cmu[a,d,b,c] =  2.0 ONEleft[]     .Tijab[a,e,b,c].Voo[b,f]      .deltaV[d,a]   .deltaV[e,a]   .deltaO[f,b]   \n",
      "Cmu[a,d,b,c] =  2.0 ONEleft[]     .Tijab[a,e,b,c].Voo[c,f]      .deltaV[d,a]   .deltaV[e,a]   .deltaO[f,c]   \n",
      "Cmu[a,e,b,c] = -4.0 ONEleft[]     .Tijab[a,f,b,c].Voo[d,g]      .deltaV[e,a]   .deltaV[f,a]   .deltaO[g,d]   \n",
      "Cmu[a,b,c,d] =  4.0 ONEleft[]     .Tijab[a,b,c,e].Voo[c,f]      .deltaO[d,c]   .deltaO[e,c]   .deltaO[f,c]   \n",
      "Cmu[a,b,c,e] = -4.0 ONEleft[]     .Tijab[a,b,c,f].Voo[d,g]      .deltaO[e,c]   .deltaO[f,c]   .deltaO[g,d]   \n",
      "Cmu[a,b,c,d] = -4.0 ONEleft[]     .Tijab[a,b,c,d].Voo[c,e]      .deltaO[e,c]   \n",
      "Cmu[a,b,c,d] = -4.0 ONEleft[]     .Tijab[a,b,c,d].Voo[d,e]      .deltaO[e,d]   \n",
      "Cmu[a,b,c,d] =  8.0 ONEleft[]     .Tijab[a,b,c,d].Voo[e,f]      .deltaO[f,e]   \n",
      "Cmu[a,d,b,e] = -8.0 ONEleft[]     .Tijab[a,f,b,g].Voooo[b,c,h,i].deltaV[d,a]   .deltaO[e,b]   .deltaV[f,a]   .deltaO[g,b]   .deltaO[h,b]   .deltaO[i,c]   \n",
      "Cmu[a,d,b,e] =  4.0 ONEleft[]     .Tijab[a,f,b,g].Voooo[b,c,i,h].deltaV[d,a]   .deltaO[e,b]   .deltaV[f,a]   .deltaO[g,b]   .deltaO[h,b]   .deltaO[i,c]   \n",
      "Cmu[a,d,b,e] =  4.0 ONEleft[]     .Tijab[a,f,b,g].Voooo[c,b,h,i].deltaV[d,a]   .deltaO[e,b]   .deltaV[f,a]   .deltaO[g,b]   .deltaO[h,b]   .deltaO[i,c]   \n",
      "Cmu[a,d,b,e] = -8.0 ONEleft[]     .Tijab[a,f,b,g].Voooo[c,b,i,h].deltaV[d,a]   .deltaO[e,b]   .deltaV[f,a]   .deltaO[g,b]   .deltaO[h,b]   .deltaO[i,c]   \n",
      "Cmu[a,e,b,f] =  8.0 ONEleft[]     .Tijab[a,g,b,h].Voooo[c,d,i,j].deltaV[e,a]   .deltaO[f,b]   .deltaV[g,a]   .deltaO[h,b]   .deltaO[i,c]   .deltaO[j,d]   \n",
      "Cmu[a,e,b,f] = -4.0 ONEleft[]     .Tijab[a,g,b,h].Voooo[c,d,j,i].deltaV[e,a]   .deltaO[f,b]   .deltaV[g,a]   .deltaO[h,b]   .deltaO[i,c]   .deltaO[j,d]   \n",
      "Cmu[a,d,b,c] = -1.0 ONEleft[]     .Tijab[a,e,b,c].Voooo[b,c,f,g].deltaV[d,a]   .deltaV[e,a]   .deltaO[f,b]   .deltaO[g,c]   \n",
      "Cmu[a,d,b,c] =  2.0 ONEleft[]     .Tijab[a,e,b,c].Voooo[b,c,g,f].deltaV[d,a]   .deltaV[e,a]   .deltaO[f,b]   .deltaO[g,c]   \n",
      "Cmu[a,e,b,c] =  2.0 ONEleft[]     .Tijab[a,f,b,c].Voooo[b,d,g,h].deltaV[e,a]   .deltaV[f,a]   .deltaO[g,b]   .deltaO[h,d]   \n",
      "Cmu[a,e,b,c] = -1.0 ONEleft[]     .Tijab[a,f,b,c].Voooo[b,d,h,g].deltaV[e,a]   .deltaV[f,a]   .deltaO[g,b]   .deltaO[h,d]   \n",
      "Cmu[a,d,b,c] =  2.0 ONEleft[]     .Tijab[a,e,b,c].Voooo[c,b,f,g].deltaV[d,a]   .deltaV[e,a]   .deltaO[f,b]   .deltaO[g,c]   \n",
      "Cmu[a,d,b,c] = -1.0 ONEleft[]     .Tijab[a,e,b,c].Voooo[c,b,g,f].deltaV[d,a]   .deltaV[e,a]   .deltaO[f,b]   .deltaO[g,c]   \n",
      "Cmu[a,e,b,c] =  2.0 ONEleft[]     .Tijab[a,f,b,c].Voooo[c,d,g,h].deltaV[e,a]   .deltaV[f,a]   .deltaO[g,c]   .deltaO[h,d]   \n",
      "Cmu[a,e,b,c] = -1.0 ONEleft[]     .Tijab[a,f,b,c].Voooo[c,d,h,g].deltaV[e,a]   .deltaV[f,a]   .deltaO[g,c]   .deltaO[h,d]   \n",
      "Cmu[a,e,b,c] = -1.0 ONEleft[]     .Tijab[a,f,b,c].Voooo[d,b,g,h].deltaV[e,a]   .deltaV[f,a]   .deltaO[g,b]   .deltaO[h,d]   \n",
      "Cmu[a,e,b,c] =  2.0 ONEleft[]     .Tijab[a,f,b,c].Voooo[d,b,h,g].deltaV[e,a]   .deltaV[f,a]   .deltaO[g,b]   .deltaO[h,d]   \n",
      "Cmu[a,e,b,c] = -1.0 ONEleft[]     .Tijab[a,f,b,c].Voooo[d,c,g,h].deltaV[e,a]   .deltaV[f,a]   .deltaO[g,c]   .deltaO[h,d]   \n",
      "Cmu[a,e,b,c] =  2.0 ONEleft[]     .Tijab[a,f,b,c].Voooo[d,c,h,g].deltaV[e,a]   .deltaV[f,a]   .deltaO[g,c]   .deltaO[h,d]   \n",
      "Cmu[a,f,b,c] = -4.0 ONEleft[]     .Tijab[a,g,b,c].Voooo[d,e,h,i].deltaV[f,a]   .deltaV[g,a]   .deltaO[h,d]   .deltaO[i,e]   \n",
      "Cmu[a,f,b,c] =  2.0 ONEleft[]     .Tijab[a,g,b,c].Voooo[d,e,i,h].deltaV[f,a]   .deltaV[g,a]   .deltaO[h,d]   .deltaO[i,e]   \n",
      "Cmu[a,b,c,e] =  4.0 ONEleft[]     .Tijab[a,b,c,f].Voooo[c,d,g,h].deltaO[e,c]   .deltaO[f,c]   .deltaO[g,c]   .deltaO[h,d]   \n",
      "Cmu[a,b,c,e] = -2.0 ONEleft[]     .Tijab[a,b,c,f].Voooo[c,d,h,g].deltaO[e,c]   .deltaO[f,c]   .deltaO[g,c]   .deltaO[h,d]   \n",
      "Cmu[a,b,c,e] = -2.0 ONEleft[]     .Tijab[a,b,c,f].Voooo[d,c,g,h].deltaO[e,c]   .deltaO[f,c]   .deltaO[g,c]   .deltaO[h,d]   \n",
      "Cmu[a,b,c,e] =  4.0 ONEleft[]     .Tijab[a,b,c,f].Voooo[d,c,h,g].deltaO[e,c]   .deltaO[f,c]   .deltaO[g,c]   .deltaO[h,d]   \n",
      "Cmu[a,b,c,f] = -4.0 ONEleft[]     .Tijab[a,b,c,g].Voooo[d,e,h,i].deltaO[f,c]   .deltaO[g,c]   .deltaO[h,d]   .deltaO[i,e]   \n",
      "Cmu[a,b,c,f] =  2.0 ONEleft[]     .Tijab[a,b,c,g].Voooo[d,e,i,h].deltaO[f,c]   .deltaO[g,c]   .deltaO[h,d]   .deltaO[i,e]   \n",
      "Cmu[a,b,c,d] =  2.0 ONEleft[]     .Tijab[a,b,c,d].Voooo[c,d,e,f].deltaO[e,c]   .deltaO[f,d]   \n",
      "Cmu[a,b,c,d] = -1.0 ONEleft[]     .Tijab[a,b,c,d].Voooo[c,d,f,e].deltaO[e,c]   .deltaO[f,d]   \n",
      "Cmu[a,b,c,d] = -4.0 ONEleft[]     .Tijab[a,b,c,d].Voooo[c,e,f,g].deltaO[f,c]   .deltaO[g,e]   \n",
      "Cmu[a,b,c,d] =  2.0 ONEleft[]     .Tijab[a,b,c,d].Voooo[c,e,g,f].deltaO[f,c]   .deltaO[g,e]   \n",
      "Cmu[a,b,c,d] = -1.0 ONEleft[]     .Tijab[a,b,c,d].Voooo[d,c,e,f].deltaO[e,c]   .deltaO[f,d]   \n",
      "Cmu[a,b,c,d] =  2.0 ONEleft[]     .Tijab[a,b,c,d].Voooo[d,c,f,e].deltaO[e,c]   .deltaO[f,d]   \n",
      "Cmu[a,b,c,d] = -4.0 ONEleft[]     .Tijab[a,b,c,d].Voooo[d,e,f,g].deltaO[f,d]   .deltaO[g,e]   \n",
      "Cmu[a,b,c,d] =  2.0 ONEleft[]     .Tijab[a,b,c,d].Voooo[d,e,g,f].deltaO[f,d]   .deltaO[g,e]   \n",
      "Cmu[a,b,c,d] =  2.0 ONEleft[]     .Tijab[a,b,c,d].Voooo[e,c,f,g].deltaO[f,c]   .deltaO[g,e]   \n",
      "Cmu[a,b,c,d] = -4.0 ONEleft[]     .Tijab[a,b,c,d].Voooo[e,c,g,f].deltaO[f,c]   .deltaO[g,e]   \n",
      "Cmu[a,b,c,d] =  2.0 ONEleft[]     .Tijab[a,b,c,d].Voooo[e,d,f,g].deltaO[f,d]   .deltaO[g,e]   \n",
      "Cmu[a,b,c,d] = -4.0 ONEleft[]     .Tijab[a,b,c,d].Voooo[e,d,g,f].deltaO[f,d]   .deltaO[g,e]   \n",
      "etc...\n"
     ]
    }
   ],
   "source": [
    "for i in range(len(equ)):\n",
    "    elt=equ[i]\n",
    "    line=''\n",
    "    for t in elt.tensors:\n",
    "      if t.name=='Cmu':\n",
    "        header='%-11s = %4.1f '%(t,elt.numConstant)    \n",
    "      else:\n",
    "        line+='%-14s.'%(t)\n",
    "    print header+line[:-1]\n",
    "    if i>50:\n",
    "      print 'etc...'\n",
    "      break"
   ]
  },
  {
   "cell_type": "markdown",
   "metadata": {},
   "source": [
    "***"
   ]
  },
  {
   "cell_type": "markdown",
   "metadata": {},
   "source": [
    "## __(ACTIVITY)__ Using symmetry"
   ]
  },
  {
   "cell_type": "markdown",
   "metadata": {},
   "source": [
    "There is a lot of terms in the final list of tensor contraction operations, but we can reduce the number of terms by indicating the **symmetries** of the tensors provided to `sqa`. "
   ]
  },
  {
   "cell_type": "markdown",
   "metadata": {},
   "source": [
    "This is done by the `symmetry` object in `sqa`, which is a rule that takes a sequence of transformation of indexes and a factor for the permutation."
   ]
  },
  {
   "cell_type": "markdown",
   "metadata": {},
   "source": [
    "(See for example lines 21-33 of the `sqaSymmetry.py` file for more context.)"
   ]
  },
  {
   "cell_type": "markdown",
   "metadata": {},
   "source": [
    "This means that to ensure that `sqa` is aware that for example\n",
    "$$A[j,i]=1.0*A[i,j]$$\n",
    "the following symmetry object is given when defining the tensor (`twosym` sequence of transformation is `(1,0)`):"
   ]
  },
  {
   "cell_type": "code",
   "execution_count": 23,
   "metadata": {},
   "outputs": [],
   "source": [
    "tensor=sqa.tensor(\"A\",[iH,jH],[sqa.symmetry((1,0)     , 1)])"
   ]
  },
  {
   "cell_type": "markdown",
   "metadata": {},
   "source": [
    "Similarly to ensure that `sqa` is aware that for example\n",
    "$$B[b,a,d,c]=1.0*B[a,b,c,d]$$\n",
    "the following symmetry object is given when defining the tensor:"
   ]
  },
  {
   "cell_type": "code",
   "execution_count": 24,
   "metadata": {},
   "outputs": [],
   "source": [
    "tensor=sqa.tensor(\"B\",[aH,bH,cH,dH],[sqa.symmetry((1,0, 3,2), 1)])"
   ]
  },
  {
   "cell_type": "markdown",
   "metadata": {},
   "source": [
    "**(ACTIVITY)** Try to find out the symmetries of the two-body integral tensors."
   ]
  },
  {
   "cell_type": "markdown",
   "metadata": {},
   "source": [
    "**We can hence rerun the notebook** after having replace the tensor definitions by the following:"
   ]
  },
  {
   "cell_type": "code",
   "execution_count": 25,
   "metadata": {},
   "outputs": [],
   "source": [
    "twosym   = sqa.symmetry((1,0)     , 1)\n",
    "foursym_1= sqa.symmetry((1,0, 3,2), 1)\n",
    "foursym_2= sqa.symmetry((0,3, 2,1), 1)\n",
    "foursym_3= sqa.symmetry((2,1, 0,3), 1)"
   ]
  },
  {
   "cell_type": "code",
   "execution_count": 26,
   "metadata": {},
   "outputs": [],
   "source": [
    "Voo  =sqa.tensor('Voo',   [iH,jH]      , [twosym]) # this is Voo(i,j)\n",
    "Vov  =sqa.tensor('Vov',   [iH,aH]      , [      ])\n",
    "Vvo  =sqa.tensor('Vvo',   [aH,iH]      , [      ])\n",
    "Vvv  =sqa.tensor('Vvv',   [aH,bH]      , [twosym])\n",
    "Voooo=sqa.tensor('Voooo', [iH,jH,kH,lH], [foursym_1,foursym_2,foursym_3]) # this is Voooo(i,j,k,l)\n",
    "Vooov=sqa.tensor('Vooov', [iH,jH,kH,aH], [                    foursym_3])\n",
    "Voovo=sqa.tensor('Voovo', [iH,jH,aH,kH], [          foursym_2          ])\n",
    "Voovv=sqa.tensor('Voovv', [iH,jH,aH,bH], [foursym_1                    ])\n",
    "Vovoo=sqa.tensor('Vovoo', [iH,aH,jH,kH], [                    foursym_3])\n",
    "Vovov=sqa.tensor('Vovov', [iH,aH,jH,bH], [          foursym_2,foursym_3])\n",
    "Vovvo=sqa.tensor('Vovvo', [iH,aH,bH,jH], [                             ])\n",
    "Vovvv=sqa.tensor('Vovvv', [iH,aH,bH,cH], [          foursym_2          ])\n",
    "Vvooo=sqa.tensor('Vvooo', [aH,iH,jH,kH], [          foursym_2          ])\n",
    "Vvoov=sqa.tensor('Vvoov', [aH,iH,jH,bH], [                             ])\n",
    "Vvovo=sqa.tensor('Vvovo', [aH,iH,bH,jH], [          foursym_2,foursym_3])\n",
    "Vvovv=sqa.tensor('Vvovv', [aH,iH,bH,cH], [                    foursym_3])\n",
    "Vvvoo=sqa.tensor('Vvvoo', [aH,bH,iH,jH], [foursym_1                    ])\n",
    "Vvvov=sqa.tensor('Vvvov', [aH,bH,iH,cH], [          foursym_2          ])\n",
    "Vvvvo=sqa.tensor('Vvvvo', [aH,bH,cH,iH], [                    foursym_3])\n",
    "Vvvvv=sqa.tensor('Vvvvv', [aH,bH,cH,dH], [foursym_1,foursym_2,foursym_3])"
   ]
  },
  {
   "cell_type": "markdown",
   "metadata": {},
   "source": [
    "Think also about replacing the symmetry of the amplitudes, `Cmu` container and `delta` functions:"
   ]
  },
  {
   "cell_type": "code",
   "execution_count": 27,
   "metadata": {},
   "outputs": [],
   "source": [
    "tensor   =sqa.tensor('Tijab', [aT,bT,iT,jT], [foursym_1])\n",
    "operator =sqa.sfExOp([aT,bT,iT,jT])\n",
    "T        =sqa.term(  1.0, [''], [tensor, operator])\n",
    "\n",
    "tensor2  =sqa.tensor('Tijab', [cT,dT,kT,lT], [foursym_1])\n",
    "operator2=sqa.sfExOp([cT,dT,kT,lT])\n",
    "T2       =sqa.term(  0.5, [''], [tensor, operator, tensor2, operator2])"
   ]
  },
  {
   "cell_type": "code",
   "execution_count": 28,
   "metadata": {},
   "outputs": [],
   "source": [
    "tensor   =sqa.tensor('Tijab', [aTd,bTd,iTd,jTd], [foursym_1])\n",
    "operator =sqa.sfExOp([iTd,jTd,aTd,bTd])\n",
    "Tdagger  =sqa.term( -1.0, [''], [tensor, operator])\n",
    "\n",
    "tensor2  =sqa.tensor('Tijab', [cTd,dTd,kTd,lTd], [foursym_1])\n",
    "operator2=sqa.sfExOp([kTd,lTd,cTd,dTd])\n",
    "Tdagger2 =sqa.term(  0.5, [''], [tensor, operator, tensor2, operator2])"
   ]
  },
  {
   "cell_type": "code",
   "execution_count": 29,
   "metadata": {},
   "outputs": [],
   "source": [
    "tensor   =sqa.tensor('Cmu', [aE,bE,iE,jE], [foursym_1])\n",
    "operator =sqa.sfExOp([iE,jE,aE,bE])\n",
    "Eijab    = sqa.term( 1.0, [''], [tensor,operator])"
   ]
  },
  {
   "cell_type": "code",
   "execution_count": 30,
   "metadata": {},
   "outputs": [],
   "source": [
    "deltaO = sqa.tensor('deltaO', [iD,jD], [twosym])\n",
    "deltaV = sqa.tensor('deltaV', [aD,bD], [twosym])"
   ]
  },
  {
   "cell_type": "markdown",
   "metadata": {},
   "source": [
    "### RESERVOIR"
   ]
  },
  {
   "cell_type": "markdown",
   "metadata": {},
   "source": [
    "Here the key cells that would be modified when running the notebook with or without symmetry are repeated, so as to prevent loss of information"
   ]
  },
  {
   "cell_type": "markdown",
   "metadata": {},
   "source": [
    "#### WITHOUT SYMMETRY"
   ]
  },
  {
   "cell_type": "code",
   "execution_count": 31,
   "metadata": {},
   "outputs": [],
   "source": [
    "Voo  =sqa.tensor('Voo',   [iH,jH]      , []) # this is Voo(i,j)\n",
    "Vov  =sqa.tensor('Vov',   [iH,aH]      , [])\n",
    "Vvo  =sqa.tensor('Vvo',   [aH,iH]      , [])\n",
    "Vvv  =sqa.tensor('Vvv',   [aH,bH]      , [])\n",
    "Voooo=sqa.tensor('Voooo', [iH,jH,kH,lH], []) # this is Voooo(i,j,k,l)\n",
    "Vooov=sqa.tensor('Vooov', [iH,jH,kH,aH], [])\n",
    "Voovo=sqa.tensor('Voovo', [iH,jH,aH,kH], [])\n",
    "Voovv=sqa.tensor('Voovv', [iH,jH,aH,bH], [])\n",
    "Vovoo=sqa.tensor('Vovoo', [iH,aH,jH,kH], [])\n",
    "Vovov=sqa.tensor('Vovov', [iH,aH,jH,bH], [])\n",
    "Vovvo=sqa.tensor('Vovvo', [iH,aH,bH,jH], [])\n",
    "Vovvv=sqa.tensor('Vovvv', [iH,aH,bH,cH], [])\n",
    "Vvooo=sqa.tensor('Vvooo', [aH,iH,jH,kH], [])\n",
    "Vvoov=sqa.tensor('Vvoov', [aH,iH,jH,bH], [])\n",
    "Vvovo=sqa.tensor('Vvovo', [aH,iH,bH,jH], [])\n",
    "Vvovv=sqa.tensor('Vvovv', [aH,iH,bH,cH], [])\n",
    "Vvvoo=sqa.tensor('Vvvoo', [aH,bH,iH,jH], [])\n",
    "Vvvov=sqa.tensor('Vvvov', [aH,bH,iH,cH], [])\n",
    "Vvvvo=sqa.tensor('Vvvvo', [aH,bH,cH,iH], [])\n",
    "Vvvvv=sqa.tensor('Vvvvv', [aH,bH,cH,dH], [])"
   ]
  },
  {
   "cell_type": "code",
   "execution_count": 32,
   "metadata": {},
   "outputs": [],
   "source": [
    "tensor   =sqa.tensor('Tijab', [aT,bT,iT,jT], [])\n",
    "operator =sqa.sfExOp([aT,bT,iT,jT])\n",
    "T        =sqa.term(  1.0, [''], [tensor, operator])\n",
    "\n",
    "tensor2  =sqa.tensor('Tijab', [cT,dT,kT,lT], [])\n",
    "operator2=sqa.sfExOp([cT,dT,kT,lT])\n",
    "T2       =sqa.term(  0.5, [''], [tensor, operator, tensor2, operator2])"
   ]
  },
  {
   "cell_type": "code",
   "execution_count": 33,
   "metadata": {},
   "outputs": [],
   "source": [
    "tensor   =sqa.tensor('Tijab', [aTd,bTd,iTd,jTd], [])\n",
    "operator =sqa.sfExOp([iTd,jTd,aTd,bTd])\n",
    "Tdagger  =sqa.term( -1.0, [''], [tensor, operator])\n",
    "\n",
    "tensor2  =sqa.tensor('Tijab', [cTd,dTd,kTd,lTd], [])\n",
    "operator2=sqa.sfExOp([kTd,lTd,cTd,dTd])\n",
    "Tdagger2 =sqa.term(  0.5, [''], [tensor, operator, tensor2, operator2])"
   ]
  },
  {
   "cell_type": "code",
   "execution_count": 34,
   "metadata": {},
   "outputs": [],
   "source": [
    "iE = sqa.index('iT', [tag_occupied], True)\n",
    "jE = sqa.index('jT', [tag_occupied], True)\n",
    "aE = sqa.index('aT', [tag_virtual],  True)\n",
    "bE = sqa.index('bT', [tag_virtual],  True)\n",
    "tensor   =sqa.tensor('Cmu', [aE,bE,iE,jE], [])\n",
    "operator =sqa.sfExOp([iE,jE,aE,bE])\n",
    "Eijab    =sqa.term( 1.0, [''], [tensor,operator])"
   ]
  },
  {
   "cell_type": "code",
   "execution_count": 35,
   "metadata": {},
   "outputs": [],
   "source": [
    "iD  = sqa.index('iD', [tag_occupied], True)\n",
    "jD  = sqa.index('jD', [tag_occupied], True)\n",
    "aD  = sqa.index('aD', [tag_virtual],  True)\n",
    "bD  = sqa.index('bD', [tag_virtual],  True)\n",
    "deltaO = sqa.tensor('deltaO', [iD,jD], [])\n",
    "deltaV = sqa.tensor('deltaV', [aD,bD], [])\n",
    "#equ=simplify_all(equ,[deltaO, deltaO,deltaV])\n",
    "#print(len(equ))"
   ]
  },
  {
   "cell_type": "markdown",
   "metadata": {},
   "source": [
    "#### WITH SYMMETRY"
   ]
  },
  {
   "cell_type": "code",
   "execution_count": 36,
   "metadata": {},
   "outputs": [],
   "source": [
    "Voo  =sqa.tensor('Voo',   [iH,jH]      , [twosym]) # this is Voo(i,j)\n",
    "Vov  =sqa.tensor('Vov',   [iH,aH]      , [      ])\n",
    "Vvo  =sqa.tensor('Vvo',   [aH,iH]      , [      ])\n",
    "Vvv  =sqa.tensor('Vvv',   [aH,bH]      , [twosym])\n",
    "Voooo=sqa.tensor('Voooo', [iH,jH,kH,lH], [foursym_1,foursym_2,foursym_3]) # this is Voooo(i,j,k,l)\n",
    "Vooov=sqa.tensor('Vooov', [iH,jH,kH,aH], [                    foursym_3])\n",
    "Voovo=sqa.tensor('Voovo', [iH,jH,aH,kH], [          foursym_2          ])\n",
    "Voovv=sqa.tensor('Voovv', [iH,jH,aH,bH], [foursym_1                    ])\n",
    "Vovoo=sqa.tensor('Vovoo', [iH,aH,jH,kH], [                    foursym_3])\n",
    "Vovov=sqa.tensor('Vovov', [iH,aH,jH,bH], [          foursym_2,foursym_3])\n",
    "Vovvo=sqa.tensor('Vovvo', [iH,aH,bH,jH], [                             ])\n",
    "Vovvv=sqa.tensor('Vovvv', [iH,aH,bH,cH], [          foursym_2          ])\n",
    "Vvooo=sqa.tensor('Vvooo', [aH,iH,jH,kH], [          foursym_2          ])\n",
    "Vvoov=sqa.tensor('Vvoov', [aH,iH,jH,bH], [                             ])\n",
    "Vvovo=sqa.tensor('Vvovo', [aH,iH,bH,jH], [          foursym_2,foursym_3])\n",
    "Vvovv=sqa.tensor('Vvovv', [aH,iH,bH,cH], [                    foursym_3])\n",
    "Vvvoo=sqa.tensor('Vvvoo', [aH,bH,iH,jH], [foursym_1                    ])\n",
    "Vvvov=sqa.tensor('Vvvov', [aH,bH,iH,cH], [          foursym_2          ])\n",
    "Vvvvo=sqa.tensor('Vvvvo', [aH,bH,cH,iH], [                    foursym_3])\n",
    "Vvvvv=sqa.tensor('Vvvvv', [aH,bH,cH,dH], [foursym_1,foursym_2,foursym_3])"
   ]
  },
  {
   "cell_type": "code",
   "execution_count": 37,
   "metadata": {},
   "outputs": [],
   "source": [
    "tensor   =sqa.tensor('Tijab', [aT,bT,iT,jT], [foursym_1])\n",
    "operator =sqa.sfExOp([aT,bT,iT,jT])\n",
    "T        =sqa.term(  1.0, [''], [tensor, operator])\n",
    "\n",
    "tensor2  =sqa.tensor('Tijab', [cT,dT,kT,lT], [foursym_1])\n",
    "operator2=sqa.sfExOp([cT,dT,kT,lT])\n",
    "T2       =sqa.term(  0.5, [''], [tensor, operator, tensor2, operator2])"
   ]
  },
  {
   "cell_type": "code",
   "execution_count": 38,
   "metadata": {},
   "outputs": [],
   "source": [
    "tensor   =sqa.tensor('Tijab', [aTd,bTd,iTd,jTd], [])\n",
    "operator =sqa.sfExOp([iTd,jTd,aTd,bTd])\n",
    "Tdagger  =sqa.term( -1.0, [''], [tensor, operator])\n",
    "\n",
    "tensor2  =sqa.tensor('Tijab', [cTd,dTd,kTd,lTd], [])\n",
    "operator2=sqa.sfExOp([kTd,lTd,cTd,dTd])\n",
    "Tdagger2 =sqa.term(  0.5, [''], [tensor, operator, tensor2, operator2])"
   ]
  },
  {
   "cell_type": "raw",
   "metadata": {},
   "source": [
    "iE = sqa.index('iT', [tag_occupied], True)\n",
    "jE = sqa.index('jT', [tag_occupied], True)\n",
    "aE = sqa.index('aT', [tag_virtual],  True)\n",
    "bE = sqa.index('bT', [tag_virtual],  True)\n",
    "tensor  =sqa.tensor('Cmu', [aE,bE,iE,jE], [foursym_1])\n",
    "operator=sqa.sfExOp([iE,jE,aE,bE])\n",
    "Eijab   =sqa.term( 1.0, [''], [tensor,operator])"
   ]
  },
  {
   "cell_type": "code",
   "execution_count": 39,
   "metadata": {},
   "outputs": [],
   "source": [
    "iD  = sqa.index('iD', [tag_occupied], True)\n",
    "jD  = sqa.index('jD', [tag_occupied], True)\n",
    "aD  = sqa.index('aD', [tag_virtual],  True)\n",
    "bD  = sqa.index('bD', [tag_virtual],  True)\n",
    "deltaO = sqa.tensor('deltaO', [iD,jD], [twosym])\n",
    "deltaV = sqa.tensor('deltaV', [aD,bD], [twosym])\n",
    "#equ=simplify_all(equ,[deltaO, deltaO,deltaV])\n",
    "#print(len(equ))"
   ]
  },
  {
   "cell_type": "markdown",
   "metadata": {},
   "source": [
    "## **(ACTIVITY)** Redundancies"
   ]
  },
  {
   "cell_type": "markdown",
   "metadata": {},
   "source": [
    "There is a lot of redundancies built in this script (definition of the tensors, of the operators, etc...). For example the operators of the type $\\hat{E}_{cc}^{ca}$ and of the type $\\hat{E}_{cc}^{ac}$ are equivalent, etc..."
   ]
  },
  {
   "cell_type": "markdown",
   "metadata": {},
   "source": [
    "Find a way to construct the Hamiltonian that detects and prevents these redundancies."
   ]
  }
 ],
 "metadata": {
  "kernelspec": {
   "display_name": "Python 2",
   "language": "python",
   "name": "python2"
  },
  "language_info": {
   "codemirror_mode": {
    "name": "ipython",
    "version": 2
   },
   "file_extension": ".py",
   "mimetype": "text/x-python",
   "name": "python",
   "nbconvert_exporter": "python",
   "pygments_lexer": "ipython2",
   "version": "2.7.14"
  }
 },
 "nbformat": 4,
 "nbformat_minor": 2
}
