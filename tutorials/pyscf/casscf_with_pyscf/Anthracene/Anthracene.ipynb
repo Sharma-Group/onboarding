{
 "cells": [
  {
   "cell_type": "code",
   "execution_count": 1,
   "metadata": {
    "collapsed": false
   },
   "outputs": [
    {
     "data": {
      "text/plain": [
       "(47, 47)"
      ]
     },
     "execution_count": 1,
     "metadata": {},
     "output_type": "execute_result"
    }
   ],
   "source": [
    "# Author: James E T Smith <james.smith9113@gmail.com>\n",
    "# Date: May 15th, 2018\n",
    "\n",
    "# General\n",
    "import warnings\n",
    "warnings.filterwarnings('ignore')\n",
    "\n",
    "# Import PySCF modules and make molecule object\n",
    "from pyscf import gto, scf, mcscf\n",
    "\n",
    "\n",
    "mol = gto.Mole()\n",
    "mol.atom = '''\n",
    " C                 -5.62072154   -1.34165076   -0.01291600\n",
    " C                 -4.25609854   -1.34165076   -0.01291600\n",
    " C                 -3.52320754   -0.11042976   -0.01291600\n",
    " C                 -4.24720454    1.12131724   -0.01843400\n",
    " C                 -5.67944454    1.07982624   -0.01973400\n",
    " C                 -6.34322754   -0.11246676   -0.01636300\n",
    " C                 -2.12430654   -0.08754076   -0.00802000\n",
    " C                 -3.54682754    2.33248424   -0.02015500\n",
    " C                 -2.14788654    2.35536824   -0.01453000\n",
    " C                 -1.42391754    1.12366524   -0.00711000\n",
    " C                  0.00826446    1.16528924    0.00000000\n",
    " H                  0.55413446    0.20976224    0.00660100\n",
    " C                  0.67200146    2.35764424    0.00104200\n",
    " C                 -0.05048154    3.58675924   -0.00713000\n",
    " C                 -1.41512454    3.58661424   -0.01449700\n",
    " H                 -1.56660354   -1.03677776   -0.00370100\n",
    " H                 -6.18659354   -2.28492876   -0.01051200\n",
    " H                 -3.68677254   -2.28338476   -0.00981000\n",
    " H                 -6.22525754    2.03537224   -0.02433800\n",
    " H                 -7.44262554   -0.14863176   -0.01779400\n",
    " H                 -4.10496654    3.28146524   -0.02442300\n",
    " H                  1.77140746    2.39354824    0.00720200\n",
    " H                  0.51559846    4.52993624   -0.00603500\n",
    " H                 -1.98466754    4.52823124   -0.02076900'''\n",
    "mol.basis = 'ccpvdz'\n",
    "mol.symmetry = True\n",
    "mol.spin = 0\n",
    "mol.charge = 0\n",
    "mol.build()\n",
    "mol.nelec"
   ]
  },
  {
   "cell_type": "code",
   "execution_count": 2,
   "metadata": {
    "collapsed": false
   },
   "outputs": [
    {
     "name": "stdout",
     "output_type": "stream",
     "text": [
      "converged SCF energy = -536.035896340757\n"
     ]
    }
   ],
   "source": [
    "mf = scf.RHF(mol).run()"
   ]
  },
  {
   "cell_type": "code",
   "execution_count": 3,
   "metadata": {
    "collapsed": true
   },
   "outputs": [],
   "source": [
    "# Save orbitals so we can examine them with 3 party program (we use Jmol most often)\n",
    "from pyscf.tools import molden\n",
    "with open('anthracene.molden','w') as f:\n",
    "    molden.header(mol, f)\n",
    "    molden.orbital_coeff(mol, f, mf.mo_coeff, ene=mf.mo_energy, occ=mf.mo_occ)"
   ]
  },
  {
   "cell_type": "markdown",
   "metadata": {},
   "source": [
    "# Scripting with Jmol\n",
    "- It's fairly straight forward to script with Jmol\n",
    "- Below is a simple script used to take a snapshot of all the MOs that we've chosen to include in the active space\n",
    "\n",
    "```bash\n",
    "for (var i IN [36,39,43,44,45,46,47,48,49,50,52,57,63,65]){\n",
    "  mo @{i}\n",
    "  f = \"/home/james/MEGA/SharmaGroup/casscf_with_pyscf/3cene_mo_\" + i + \".png\"\n",
    "  write image @f\n",
    "}\n",
    "```"
   ]
  },
  {
   "cell_type": "markdown",
   "metadata": {
    "collapsed": true
   },
   "source": [
    "| | | |\n",
    "|:-------------------------:|:-------------------------:|:-------------------------:|\n",
    "|<img src=\"3cene_mo_36.png\" alt=\"mo_36\" title=\"MO_36\">|<img src=\"3cene_mo_39.png\" alt=\"mo_39\" title=\"MO_39\">|<img src=\"3cene_mo_43.png\" alt=\"mo_43\" title=\"MO_43\">|\n",
    "|<img src=\"3cene_mo_44.png\" alt=\"mo_44\" title=\"MO_44\">|<img src=\"3cene_mo_45.png\" alt=\"mo_45\" title=\"MO_45\">|<img src=\"3cene_mo_46.png\" alt=\"mo_46\" title=\"MO_46\">|\n",
    "|<img src=\"3cene_mo_47.png\" alt=\"mo_47\" title=\"MO_47\">|<img src=\"3cene_mo_48.png\" alt=\"mo_48\" title=\"MO_48\">|<img src=\"3cene_mo_49.png\" alt=\"mo_49\" title=\"MO_49\">|\n",
    "|<img src=\"3cene_mo_50.png\" alt=\"mo_50\" title=\"MO_50\">|<img src=\"3cene_mo_52.png\" alt=\"mo_52\" title=\"MO_52\">|<img src=\"3cene_mo_57.png\" alt=\"mo_57\" title=\"MO_57\">|\n",
    "|<img src=\"3cene_mo_63.png\" alt=\"mo_63\" title=\"MO_63\">|<img src=\"3cene_mo_65.png\" alt=\"mo_65\" title=\"MO_65\">| |"
   ]
  },
  {
   "cell_type": "code",
   "execution_count": 4,
   "metadata": {
    "collapsed": false
   },
   "outputs": [
    {
     "data": {
      "text/plain": [
       "'\\nncas = 14\\nnelecas = 14\\nmc = mcscf.CASSCF(mf, ncas, nelecas)\\nmo = mcscf.sort_mo( mc, mf.mo_coeff, [36,39,43,44,45,46,47,48,49,50,52,57,63,65])\\nmc.verbose = 4 # You can increase this to see more of the output from PySCF\\nmc.mc2step(mo)[0]\\n'"
      ]
     },
     "execution_count": 4,
     "metadata": {},
     "output_type": "execute_result"
    }
   ],
   "source": [
    "# If you computer has enough processing power, uncomment the code below and give it a try!\n",
    "'''\n",
    "ncas = 14\n",
    "nelecas = 14\n",
    "mc = mcscf.CASSCF(mf, ncas, nelecas)\n",
    "mo = mcscf.sort_mo( mc, mf.mo_coeff, [36,39,43,44,45,46,47,48,49,50,52,57,63,65])\n",
    "mc.verbose = 4 # You can increase this to see more of the output from PySCF\n",
    "mc.mc2step(mo)[0]\n",
    "'''"
   ]
  },
  {
   "cell_type": "code",
   "execution_count": null,
   "metadata": {
    "collapsed": true
   },
   "outputs": [],
   "source": []
  }
 ],
 "metadata": {
  "kernelspec": {
   "display_name": "Python 2",
   "language": "python",
   "name": "python2"
  },
  "language_info": {
   "codemirror_mode": {
    "name": "ipython",
    "version": 2
   },
   "file_extension": ".py",
   "mimetype": "text/x-python",
   "name": "python",
   "nbconvert_exporter": "python",
   "pygments_lexer": "ipython2",
   "version": "2.7.12"
  }
 },
 "nbformat": 4,
 "nbformat_minor": 2
}
