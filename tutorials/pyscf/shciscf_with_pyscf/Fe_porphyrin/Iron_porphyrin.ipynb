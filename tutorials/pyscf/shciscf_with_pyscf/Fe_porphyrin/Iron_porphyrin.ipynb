{
 "cells": [
  {
   "cell_type": "code",
   "execution_count": 1,
   "metadata": {
    "collapsed": false
   },
   "outputs": [
    {
     "data": {
      "text/plain": [
       "(94, 92)"
      ]
     },
     "execution_count": 1,
     "metadata": {},
     "output_type": "execute_result"
    }
   ],
   "source": [
    "# Author: James E T Smith <james.smith9113@gmail.com>\n",
    "# Date: May 15th, 2018\n",
    "\n",
    "# General\n",
    "import warnings\n",
    "warnings.filterwarnings('ignore')\n",
    "\n",
    "# Import PySCF modules and make molecule object\n",
    "from pyscf import gto, scf, mcscf\n",
    "from pyscf.shciscf import shci\n",
    "\n",
    "mol = gto.Mole()\n",
    "mol.atom = '''\n",
    "Fe 0.0000 0.0000 0.0000\n",
    "N 1.9761 0.0000 0.0000\n",
    "N 0.0000 1.9886 0.0000\n",
    "N -1.9761 0.0000 0.0001\n",
    "N 0.0000 -1.9886 0.0001\n",
    "C 2.8180 -1.0903 0.0000\n",
    "C 2.8180 1.0903 0.0000\n",
    "C 1.0918 2.8250 0.0000\n",
    "C -1.0918 2.8250 0.0000\n",
    "C -2.8180 1.0903 0.0001\n",
    "C -2.8180 -1.0903 0.0001\n",
    "C -1.0918 -2.8250 0.0001\n",
    "C 1.0918 -2.8250 0.0001\n",
    "C 4.1959 -0.6773 0.0000\n",
    "C 4.1959 0.6773 0.0000\n",
    "C 0.6825 4.1913 0.0000\n",
    "C -0.6825 4.1913 0.0000\n",
    "C -4.1959 0.6773 0.0001\n",
    "C -4.1959 -0.6773 0.0001\n",
    "C -0.6825 -4.1913 0.0001\n",
    "C 0.6825 -4.1913 0.0001\n",
    "H 5.0438 -1.3538 0.0000\n",
    "H 5.0438 1.3538 -0.0001\n",
    "H 1.3558 5.0418 -0.0001\n",
    "H -1.3558 5.0418 0.0000\n",
    "H -5.0438 1.3538 0.0001\n",
    "H -5.0438 -1.3538 0.0001\n",
    "H -1.3558 -5.0418 0.0001\n",
    "H 1.3558 -5.0418 0.0001\n",
    "C 2.4149 2.4083 0.0000\n",
    "C -2.4149 2.4083 0.0000\n",
    "C -2.4149 -2.4083 0.0001\n",
    "C 2.4149 -2.4083 0.0000\n",
    "H 3.1856 3.1750 -0.0001\n",
    "H -3.1856 3.1751 0.0000\n",
    "H -3.1856 -3.1750 0.0001\n",
    "H 3.1856 -3.1751 0.0000\n",
    "'''\n",
    "mol.basis = 'ccpvdz'\n",
    "mol.symmetry = True\n",
    "mol.spin = 2 # This is the difference in \\alpha and \\beta electrons so a value of 2 indicates a triplet.\n",
    "mol.charge = 0\n",
    "mol.build()\n",
    "mol.nelec"
   ]
  },
  {
   "cell_type": "code",
   "execution_count": null,
   "metadata": {
    "collapsed": false
   },
   "outputs": [],
   "source": [
    "mf = scf.RHF(mol).run()"
   ]
  },
  {
   "cell_type": "code",
   "execution_count": null,
   "metadata": {
    "collapsed": false
   },
   "outputs": [],
   "source": [
    "# Save orbitals so we can examine them with 3 party program (we use Jmol most often)\n",
    "from pyscf.tools import molden\n",
    "with open('fe_p.molden','w') as f:\n",
    "    molden.header(mol, f)\n",
    "    molden.orbital_coeff(mol, f, mf.mo_coeff, ene=mf.mo_energy, occ=mf.mo_occ)"
   ]
  },
  {
   "cell_type": "code",
   "execution_count": null,
   "metadata": {
    "collapsed": true
   },
   "outputs": [],
   "source": [
    "cas = [66, 68, 69, 75, 82, 83, 84, 85, 86, 87,88, 89, 90, 91, 92, 93, 94, 95, 96, 97, 99, 105, 111, 112, 114, 120,121, 122, 128]"
   ]
  },
  {
   "cell_type": "code",
   "execution_count": null,
   "metadata": {
    "collapsed": true
   },
   "outputs": [],
   "source": [
    "ncas = 44\n",
    "nelecas = 44\n",
    "mc = shci.SHCISCF(mf, ncas, nelecas)\n",
    "mo = mcscf.sort_mo( mc, mf.mo_coeff, cas)\n",
    "mc.verbose = 4 # You can increase this to see more of the output from PySCF\n",
    "mc.mc2step(mo)[0]"
   ]
  }
 ],
 "metadata": {
  "kernelspec": {
   "display_name": "Python 2",
   "language": "python",
   "name": "python2"
  },
  "language_info": {
   "codemirror_mode": {
    "name": "ipython",
    "version": 2
   },
   "file_extension": ".py",
   "mimetype": "text/x-python",
   "name": "python",
   "nbconvert_exporter": "python",
   "pygments_lexer": "ipython2",
   "version": "2.7.12"
  }
 },
 "nbformat": 4,
 "nbformat_minor": 2
}
