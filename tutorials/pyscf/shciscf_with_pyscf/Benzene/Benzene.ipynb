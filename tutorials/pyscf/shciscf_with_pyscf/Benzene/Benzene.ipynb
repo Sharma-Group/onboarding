{
 "cells": [
  {
   "cell_type": "code",
   "execution_count": 1,
   "metadata": {
    "collapsed": false
   },
   "outputs": [
    {
     "data": {
      "text/plain": [
       "(21, 21)"
      ]
     },
     "execution_count": 1,
     "metadata": {},
     "output_type": "execute_result"
    }
   ],
   "source": [
    "# Author: James E T Smith <james.smith9113@gmail.com>\n",
    "# Date: May 15th, 2018\n",
    "\n",
    "# General\n",
    "import warnings\n",
    "warnings.filterwarnings('ignore')\n",
    "\n",
    "# Import PySCF modules and make molecule object\n",
    "from pyscf import gto, scf, mcscf\n",
    "from pyscf.shciscf import shci\n",
    "\n",
    "mol = gto.Mole()\n",
    "mol.atom = '''\n",
    "  C        0.00000        1.40272        0.00000\n",
    "  H        0.00000        2.49029        0.00000\n",
    "  C       -1.21479        0.70136        0.00000\n",
    "  H       -2.15666        1.24515        0.00000\n",
    "  C       -1.21479       -0.70136        0.00000\n",
    "  H       -2.15666       -1.24515        0.00000\n",
    "  C        0.00000       -1.40272        0.00000\n",
    "  H        0.00000       -2.49029        0.00000\n",
    "  C        1.21479       -0.70136        0.00000\n",
    "  H        2.15666       -1.24515        0.00000\n",
    "  C        1.21479        0.70136        0.00000\n",
    "  H        2.15666        1.24515        0.00000'''\n",
    "mol.basis = 'ccpvdz'\n",
    "mol.symmetry = True\n",
    "mol.build()\n",
    "mol.nelec # Show the number of \\alpha and \\beta electrons"
   ]
  },
  {
   "cell_type": "code",
   "execution_count": 2,
   "metadata": {
    "collapsed": false
   },
   "outputs": [
    {
     "name": "stdout",
     "output_type": "stream",
     "text": [
      "converged SCF energy = -230.721010772091\n"
     ]
    }
   ],
   "source": [
    "# Make RHF Object and optimize orbitals\n",
    "mf = scf.RHF(mol).run()"
   ]
  },
  {
   "cell_type": "code",
   "execution_count": 3,
   "metadata": {
    "collapsed": true
   },
   "outputs": [],
   "source": [
    "# Save orbitals so we can examine them with 3 party program (we use Jmol most often)\n",
    "from pyscf.tools import molden\n",
    "with open('benzene.molden','w') as f:\n",
    "    molden.header(mol, f)\n",
    "    molden.orbital_coeff(mol, f, mf.mo_coeff, ene=mf.mo_energy, occ=mf.mo_occ)\n",
    "\n"
   ]
  },
  {
   "cell_type": "markdown",
   "metadata": {},
   "source": [
    "# Jmol Instructions:\n",
    "- Open 'benzene.molden' in Jmol\n",
    "- Go to File > Console to open the scripting console\n",
    "- Enter the following two commands:\n",
    "    1. `mo nomesh`\n",
    "    2. `mo fill`\n",
    "- Now you can enter `mo i` where is the number of the orbital, if you choose 21 (HOMO) then you should see something like the image below\n",
    "<img src=\"benzene_mo_first_look.jpg\" alt=\"benzene_mo_first_look\" title=\"benzene_mo_first_look\">\n",
    "- In Jmol we can see the symmetry and occupation which can be very helpful when picking an active space\n"
   ]
  },
  {
   "cell_type": "markdown",
   "metadata": {},
   "source": [
    "# Picking an Active Space\n",
    "- Picking the valence orbitals is a common tactic in MCSCF calculation\n",
    "- When aromatic systems are involved we often choose the conjugated 2p orbitals that contribute to the aromaticity\n",
    "- __Our goal here is to select the 6 bonding and anti-bonding 2pz orbitals__\n",
    "- See if you can find them all by visualizing the MOs in jmol\n"
   ]
  },
  {
   "cell_type": "markdown",
   "metadata": {},
   "source": [
    "| | | |\n",
    "|:-------------------------:|:-------------------------:|:-------------------------:|\n",
    "|<img src=\"benzene_mo_17.jpg\" alt=\"mo_17\" title=\"MO_17\">| <img src=\"benzene_mo_20.jpg\" alt=\"mo_20\" title=\"MO_20\"> | <img src=\"benzene_mo_21.jpg\" alt=\"mo_21\" title=\"MO_21\">|\n",
    "|<img src=\"benzene_mo_22.jpg\" alt=\"mo_22\" title=\"MO_22\">| <img src=\"benzene_mo_23.jpg\" alt=\"mo_23\" title=\"MO_23\"> | <img src=\"benzene_mo_30.jpg\" alt=\"mo_30\" title=\"MO_30\">|"
   ]
  },
  {
   "cell_type": "markdown",
   "metadata": {},
   "source": [
    "# Back to PySCF\n",
    "- Since we know number of the MOs we want to put in the active space we can specify it explicitly in PySCF\n",
    "- When running research level calculations we suggest that you increase the verbosity to at least 5, it can be critical in debugging and detecting errors in the calculation"
   ]
  },
  {
   "cell_type": "code",
   "execution_count": 4,
   "metadata": {
    "collapsed": false
   },
   "outputs": [
    {
     "name": "stdout",
     "output_type": "stream",
     "text": [
      "\n",
      "******** <class 'pyscf.mcscf.mc1step_symm.SymAdaptedCASSCF'> flags ********\n",
      "CAS (3e+3e, 6o), ncore = 18, nvir = 90\n",
      "max_cycle_macro = 50\n",
      "max_cycle_micro = 4\n",
      "conv_tol = 1e-07\n",
      "conv_tol_grad = None\n",
      "orbital rotation max_stepsize = 0.02\n",
      "augmented hessian ah_max_cycle = 30\n",
      "augmented hessian ah_conv_tol = 1e-12\n",
      "augmented hessian ah_linear dependence = 1e-14\n",
      "augmented hessian ah_level shift = 0\n",
      "augmented hessian ah_start_tol = 2.5\n",
      "augmented hessian ah_start_cycle = 3\n",
      "augmented hessian ah_grad_trust_region = 3\n",
      "kf_trust_region = 3\n",
      "kf_interval = 4\n",
      "ci_response_space = 4\n",
      "ci_grad_trust_region = 3\n",
      "with_dep4 0\n",
      "natorb = False\n",
      "canonicalization = True\n",
      "sorting_mo_energy = False\n",
      "chkfile = /tmp/tmpErxsYF\n",
      "max_memory 4000 MB (current use 258 MB)\n",
      "internal_rotation = False\n",
      "******** SHCI flags ********\n",
      "executable = /home/james/Documents/Apps/Dice/Dice\n",
      "mpiprefix = \n",
      "scratchDirectory = /tmp/\n",
      "integralFile = ./FCIDUMP\n",
      "configFile = ./input.dat\n",
      "outputFile = ./output.dat\n",
      "maxIter = 6\n",
      "nPTiter = 0\n",
      "Stochastic = True\n",
      "num_thrds = 1\n",
      "memory = None\n",
      "Active space CI wfn symmetry = Ag\n",
      "CASCI E = -230.776084873447  S^2 = 0.0000000\n",
      "Set conv_tol_grad to 0.000316228\n",
      "macro iter 1 (6 JK  0 micro), CASSCF E = -230.782736679199  dE = -0.0066518058  S^2 = 0.0000000\n",
      "               |grad[o]|=0.0452  |ddm|= 3.36\n",
      "macro iter 2 (6 JK  0 micro), CASSCF E = -230.788005480135  dE = -0.0052688009  S^2 = 0.0000000\n",
      "               |grad[o]|=0.039  |ddm|=0.0231\n",
      "macro iter 3 (6 JK  0 micro), CASSCF E = -230.791677388583  dE = -0.0036719084  S^2 = 0.0000000\n",
      "               |grad[o]|=0.0306  |ddm|=0.0169\n",
      "macro iter 4 (6 JK  0 micro), CASSCF E = -230.793679571846  dE = -0.0020021833  S^2 = 0.0000000\n",
      "               |grad[o]|=0.0203  |ddm|=0.00917\n",
      "macro iter 5 (4 JK  0 micro), CASSCF E = -230.794047937559  dE = -0.00036836571  S^2 = 0.0000000\n",
      "               |grad[o]|=0.00843  |ddm|=0.00195\n",
      "macro iter 6 (3 JK  0 micro), CASSCF E = -230.794075192313  dE = -2.7254753e-05  S^2 = 0.0000000\n",
      "               |grad[o]|=0.00202  |ddm|=0.00184\n",
      "macro iter 7 (3 JK  0 micro), CASSCF E = -230.794075239583  dE = -4.7270646e-08  S^2 = 0.0000000\n",
      "               |grad[o]|=0.000162  |ddm|=0.00109\n",
      "macro iter 8 (1 JK  0 micro), CASSCF E = -230.794075239583  dE = 0  S^2 = 0.0000000\n",
      "               |grad[o]|=1.38e-05  |ddm|=7.63e-05\n",
      "2-step CASSCF converged in 8 macro (35 JK 8 micro) steps\n",
      "CASSCF canonicalization\n",
      "Density matrix diagonal elements [1.95981665 1.89909992 1.89909933 0.10224752 0.10224705 0.03748949]\n",
      "CASSCF energy = -230.794075239583\n",
      "CASCI E = -230.794075239583  E(CI) = -6.44189606064649  S^2 = 0.0000000\n"
     ]
    },
    {
     "data": {
      "text/plain": [
       "-230.79407523958318"
      ]
     },
     "execution_count": 4,
     "metadata": {},
     "output_type": "execute_result"
    }
   ],
   "source": [
    "ncas = 6\n",
    "nelecas = 6\n",
    "mc = shci.SHCISCF(mf, ncas, nelecas)\n",
    "mo = mcscf.sort_mo( mc, mf.mo_coeff, [17,20,21,22,23,30])\n",
    "mc.verbose = 4 # You can increase this to see more of the output from PySCF\n",
    "mc.mc2step(mo)[0]"
   ]
  },
  {
   "cell_type": "markdown",
   "metadata": {
    "collapsed": true
   },
   "source": [
    "# What if we just you HOMO-2 up to LUMO+2?"
   ]
  },
  {
   "cell_type": "code",
   "execution_count": 5,
   "metadata": {
    "collapsed": false
   },
   "outputs": [
    {
     "name": "stdout",
     "output_type": "stream",
     "text": [
      "\n",
      "******** <class 'pyscf.mcscf.mc1step_symm.SymAdaptedCASSCF'> flags ********\n",
      "CAS (3e+3e, 6o), ncore = 18, nvir = 90\n",
      "max_cycle_macro = 50\n",
      "max_cycle_micro = 4\n",
      "conv_tol = 1e-07\n",
      "conv_tol_grad = None\n",
      "orbital rotation max_stepsize = 0.02\n",
      "augmented hessian ah_max_cycle = 30\n",
      "augmented hessian ah_conv_tol = 1e-12\n",
      "augmented hessian ah_linear dependence = 1e-14\n",
      "augmented hessian ah_level shift = 0\n",
      "augmented hessian ah_start_tol = 2.5\n",
      "augmented hessian ah_start_cycle = 3\n",
      "augmented hessian ah_grad_trust_region = 3\n",
      "kf_trust_region = 3\n",
      "kf_interval = 4\n",
      "ci_response_space = 4\n",
      "ci_grad_trust_region = 3\n",
      "with_dep4 0\n",
      "natorb = False\n",
      "canonicalization = True\n",
      "sorting_mo_energy = False\n",
      "chkfile = /tmp/tmpmUZwqe\n",
      "max_memory 4000 MB (current use 258 MB)\n",
      "internal_rotation = False\n",
      "******** SHCI flags ********\n",
      "executable = /home/james/Documents/Apps/Dice/Dice\n",
      "mpiprefix = \n",
      "scratchDirectory = /tmp/\n",
      "integralFile = ./FCIDUMP\n",
      "configFile = ./input.dat\n",
      "outputFile = ./output.dat\n",
      "maxIter = 6\n",
      "nPTiter = 0\n",
      "Stochastic = True\n",
      "num_thrds = 1\n",
      "memory = None\n",
      "Active space CI wfn symmetry = Ag\n",
      "CASCI E = -230.75546796068  S^2 = 0.0000000\n",
      "Set conv_tol_grad to 0.000316228\n",
      "macro iter 1 (6 JK  0 micro), CASSCF E = -230.759253617542  dE = -0.0037856569  S^2 = 0.0000000\n",
      "               |grad[o]|=0.0254  |ddm|=  3.4\n",
      "macro iter 2 (6 JK  0 micro), CASSCF E = -230.761199110955  dE = -0.0019454934  S^2 = 0.0000000\n",
      "               |grad[o]|=0.0175  |ddm|=0.0131\n",
      "macro iter 3 (6 JK  0 micro), CASSCF E = -230.761427746088  dE = -0.00022863513  S^2 = 0.0000000\n",
      "               |grad[o]|=0.00852  |ddm|=0.00443\n",
      "macro iter 4 (6 JK  0 micro), CASSCF E = -230.761516511737  dE = -8.8765649e-05  S^2 = 0.0000000\n",
      "               |grad[o]|=0.00685  |ddm|=0.000145\n",
      "macro iter 5 (6 JK  0 micro), CASSCF E = -230.761641873466  dE = -0.00012536173  S^2 = 0.0000000\n",
      "               |grad[o]|=0.00637  |ddm|=0.000102\n",
      "macro iter 6 (6 JK  0 micro), CASSCF E = -230.76179441452  dE = -0.00015254105  S^2 = 0.0000000\n",
      "               |grad[o]|=0.00585  |ddm|=0.000166\n",
      "macro iter 7 (6 JK  0 micro), CASSCF E = -230.761966554686  dE = -0.00017214017  S^2 = 0.0000000\n",
      "               |grad[o]|=0.00527  |ddm|=0.000185\n",
      "macro iter 8 (6 JK  0 micro), CASSCF E = -230.762151797533  dE = -0.00018524285  S^2 = 0.0000000\n",
      "               |grad[o]|=0.00462  |ddm|=0.000192\n",
      "macro iter 9 (6 JK  0 micro), CASSCF E = -230.762306592339  dE = -0.00015479481  S^2 = 0.0000000\n",
      "               |grad[o]|=0.00387  |ddm|=0.000189\n",
      "macro iter 10 (6 JK  0 micro), CASSCF E = -230.762422746323  dE = -0.00011615398  S^2 = 0.0000000\n",
      "               |grad[o]|=0.00309  |ddm|=0.000199\n",
      "macro iter 11 (6 JK  0 micro), CASSCF E = -230.762502300784  dE = -7.9554461e-05  S^2 = 0.0000000\n",
      "               |grad[o]|=0.0023  |ddm|=0.000225\n",
      "macro iter 12 (6 JK  0 micro), CASSCF E = -230.762547197075  dE = -4.4896291e-05  S^2 = 0.0000000\n",
      "               |grad[o]|=0.00149  |ddm|=0.000267\n",
      "macro iter 13 (5 JK  0 micro), CASSCF E = -230.762558736676  dE = -1.1539601e-05  S^2 = 0.0000000\n",
      "               |grad[o]|=0.00067  |ddm|=0.000319\n",
      "macro iter 14 (3 JK  0 micro), CASSCF E = -230.76255882363  dE = -8.6953889e-08  S^2 = 0.0000000\n",
      "               |grad[o]|=6.61e-05  |ddm|=0.000296\n",
      "2-step CASSCF converged in 14 macro (80 JK 14 micro) steps\n",
      "CASSCF canonicalization\n",
      "Density matrix diagonal elements [1.99910574e+00 1.93713647e+00 1.93715743e+00 6.29576014e-02\n",
      " 6.28813451e-02 7.61513516e-04]\n",
      "CASSCF energy = -230.76255882363\n",
      "CASCI E = -230.76255882363  E(CI) = -6.51939955342351  S^2 = 0.0000000\n"
     ]
    },
    {
     "data": {
      "text/plain": [
       "-230.76255882363014"
      ]
     },
     "execution_count": 5,
     "metadata": {},
     "output_type": "execute_result"
    }
   ],
   "source": [
    "ncas = 6\n",
    "nelecas = 6\n",
    "mc = shci.SHCISCF(mf, ncas, nelecas)\n",
    "mo = mcscf.sort_mo( mc, mf.mo_coeff, [19,20,21,22,23,24])\n",
    "mc.verbose = 4 # You can increase this to see more of the output from PySCF\n",
    "mc.mc2step(mo)[0]"
   ]
  },
  {
   "cell_type": "markdown",
   "metadata": {},
   "source": [
    "# Approximations Using the HF solution\n",
    "- We can approximate the ionization energy (IE) and electron affinity (EA) using [Koopman's theorem](https://en.wikipedia.org/wiki/Koopmans%27_theorem) (technically Koopman didn't mention EAs in his orin\n",
    "- We can check our answer for the IE against the one from [NIST](https://webbook.nist.gov/cgi/cbook.cgi?ID=C71432&Mask=20) (9.24378 eV) \n",
    "- We can check our answer for the EA against the one from [Jordan et al](https://pubs.acs.org/doi/pdf/10.1021/ja00439a014) (-1.15 eV)"
   ]
  },
  {
   "cell_type": "code",
   "execution_count": 6,
   "metadata": {
    "collapsed": false
   },
   "outputs": [
    {
     "name": "stdout",
     "output_type": "stream",
     "text": [
      "Ionization Energy Predicted by Koopman's Theorem = 9.0088 (eV)\n",
      "Error in Predicted Ionization Energy = 0.2350 (eV)\n",
      "\n",
      "\n",
      "Electron Affinity Predicted by Koopman's Theorem = -3.6651 (eV)\n",
      "Error in Predicted Electron Affinity = 2.5151 (eV)\n"
     ]
    }
   ],
   "source": [
    "ie_nist = 9.24378 # NIST value in eV\n",
    "ea_jordan = -1.15\n",
    "ha_to_ev = 27.114 # eV/hartrees\n",
    "\n",
    "print(\"Ionization Energy Predicted by Koopman's Theorem = %.4f (eV)\" % (-mf.mo_energy[20]*ha_to_ev))\n",
    "print(\"Error in Predicted Ionization Energy = %.4f (eV)\" % abs(ie_nist+mf.mo_energy[20]*ha_to_ev))\n",
    "print('\\n')\n",
    "print(\"Electron Affinity Predicted by Koopman's Theorem = %.4f (eV)\" % (-mf.mo_energy[21]*ha_to_ev))\n",
    "print(\"Error in Predicted Electron Affinity = %.4f (eV)\" % abs(ea_jordan+mf.mo_energy[21]*ha_to_ev))"
   ]
  },
  {
   "cell_type": "markdown",
   "metadata": {},
   "source": [
    "- We can see here that the IE is not a bad approximation, but the electron affinity is quite bad, even predicting the sign incorrectly."
   ]
  },
  {
   "cell_type": "code",
   "execution_count": 7,
   "metadata": {
    "collapsed": false
   },
   "outputs": [
    {
     "name": "stdout",
     "output_type": "stream",
     "text": [
      "HF Excitation Energy 12.6738\n",
      "(-0.33225489829901395, 0.13517214063329305)\n"
     ]
    }
   ],
   "source": [
    "print(\"HF Excitation Energy %.4f\" % ((mf.mo_energy[21]-mf.mo_energy[20])*ha_to_ev))\n",
    "print(mf.mo_energy[20], mf.mo_energy[21])"
   ]
  },
  {
   "cell_type": "code",
   "execution_count": 8,
   "metadata": {
    "collapsed": false
   },
   "outputs": [
    {
     "data": {
      "text/plain": [
       "0"
      ]
     },
     "execution_count": 8,
     "metadata": {},
     "output_type": "execute_result"
    }
   ],
   "source": [
    "# Cleanup Dice Files\n",
    "import os\n",
    "os.system('rm *bkp')\n",
    "os.system('rm *dat')\n",
    "os.system('rm *txt')\n",
    "os.system('rm shci.e')\n",
    "os.system('rm FCIDUMP')\n",
    "os.system('rm tmp*')\n"
   ]
  },
  {
   "cell_type": "code",
   "execution_count": null,
   "metadata": {
    "collapsed": true
   },
   "outputs": [],
   "source": []
  }
 ],
 "metadata": {
  "kernelspec": {
   "display_name": "Python 2",
   "language": "python",
   "name": "python2"
  },
  "language_info": {
   "codemirror_mode": {
    "name": "ipython",
    "version": 2
   },
   "file_extension": ".py",
   "mimetype": "text/x-python",
   "name": "python",
   "nbconvert_exporter": "python",
   "pygments_lexer": "ipython2",
   "version": "2.7.12"
  }
 },
 "nbformat": 4,
 "nbformat_minor": 2
}
