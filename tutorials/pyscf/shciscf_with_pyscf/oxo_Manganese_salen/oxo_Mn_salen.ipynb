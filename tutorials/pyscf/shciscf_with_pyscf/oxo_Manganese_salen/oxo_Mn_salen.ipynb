{
 "cells": [
  {
   "cell_type": "code",
   "execution_count": 1,
   "metadata": {
    "collapsed": false
   },
   "outputs": [
    {
     "data": {
      "text/plain": [
       "(69, 69)"
      ]
     },
     "execution_count": 1,
     "metadata": {},
     "output_type": "execute_result"
    }
   ],
   "source": [
    "# Author: James E T Smith <james.smith9113@gmail.com>\n",
    "# Date: May 15th, 2018\n",
    "\n",
    "# General\n",
    "import warnings\n",
    "warnings.filterwarnings('ignore')\n",
    "\n",
    "# Import PySCF modules and make molecule object\n",
    "from pyscf import gto, scf, mcscf\n",
    "from pyscf.shciscf import shci\n",
    "\n",
    "\n",
    "mol = gto.Mole()\n",
    "mol.atom ='''\n",
    "Mn    -.0128264866    -.0002779912   -.1091894544\n",
    "O    -1.1037647823    1.0246639195   -1.2821459116\n",
    "O    -.4319309790     -1.5910632792  -1.0423314985\n",
    "N    .7243918073      1.6205280457   .7709992473\n",
    "N    1.3008767173     -.9287768925   1.0635839133\n",
    "C    -1.2886186814    2.2834208702   -1.2181338272\n",
    "C    -.7050865946     3.1821062059   -.3604271375\n",
    "C    .3534920334      2.8195308082   .5207059889\n",
    "C    .2177419816      -2.6945497951  -.9662726987\n",
    "C    1.2181378357     -3.0250490115  -.0961995911\n",
    "C    1.7180430400     -2.1229929449  .8899899444\n",
    "C    1.9393113446     1.3525171542   1.5367699106\n",
    "C    1.8333722479     -.0604962603   2.1055467704\n",
    "H    .8908035853      3.6241374839   1.0039698993\n",
    "H    2.5024254412     -2.4854165868   1.5399007635\n",
    "H    2.7858100041     1.4098930461   .8661311665\n",
    "H    1.1490336627     -.0652673733   2.9502674019\n",
    "H    2.0638511115     2.0769335299   2.3353274192\n",
    "H    2.7993768711     -.4085469833   2.4534782102\n",
    "H    -1.9892347032    2.6686747336   -1.9454961675\n",
    "H    -.0986239324     -3.4441353556  -1.6764363233\n",
    "Cl   1.8821942342    .3098852687    -1.6599082362\n",
    "O    -1.1395010178    -.1703680057   .9263551082\n",
    "H    -.9312248148     4.2251864392   -.4696082573\n",
    "H    1.6695378989     -3.9953914470  -.1633815245'''\n",
    "\n",
    "mol.basis = 'sto-3g'\n",
    "mol.symmetry = False\n",
    "mol.build()\n",
    "mol.nelec\n"
   ]
  },
  {
   "cell_type": "code",
   "execution_count": 2,
   "metadata": {
    "collapsed": false
   },
   "outputs": [
    {
     "name": "stdout",
     "output_type": "stream",
     "text": [
      "converged SCF energy = -2226.21389155267\n"
     ]
    }
   ],
   "source": [
    "mf = scf.RHF(mol).run()"
   ]
  },
  {
   "cell_type": "code",
   "execution_count": 3,
   "metadata": {
    "collapsed": false
   },
   "outputs": [
    {
     "name": "stdout",
     "output_type": "stream",
     "text": [
      "\n",
      "******** <class 'pyscf.mcscf.mc1step.CASSCF'> flags ********\n",
      "CAS (6e+6e, 11o), ncore = 63, nvir = 28\n",
      "max_cycle_macro = 50\n",
      "max_cycle_micro = 4\n",
      "conv_tol = 1e-07\n",
      "conv_tol_grad = None\n",
      "orbital rotation max_stepsize = 0.02\n",
      "augmented hessian ah_max_cycle = 30\n",
      "augmented hessian ah_conv_tol = 1e-12\n",
      "augmented hessian ah_linear dependence = 1e-14\n",
      "augmented hessian ah_level shift = 0\n",
      "augmented hessian ah_start_tol = 2.5\n",
      "augmented hessian ah_start_cycle = 3\n",
      "augmented hessian ah_grad_trust_region = 3\n",
      "kf_trust_region = 3\n",
      "kf_interval = 4\n",
      "ci_response_space = 4\n",
      "ci_grad_trust_region = 3\n",
      "with_dep4 0\n",
      "natorb = False\n",
      "canonicalization = True\n",
      "sorting_mo_energy = False\n",
      "chkfile = /tmp/tmpAbyt7O\n",
      "max_memory 4000 MB (current use 196 MB)\n",
      "internal_rotation = False\n",
      "******** SHCI flags ********\n",
      "executable = /home/james/Documents/Apps/Dice/Dice\n",
      "mpiprefix = \n",
      "scratchDirectory = /tmp/\n",
      "integralFile = ./FCIDUMP\n",
      "configFile = ./input.dat\n",
      "outputFile = ./output.dat\n",
      "maxIter = 6\n",
      "nPTiter = 0\n",
      "Stochastic = True\n",
      "num_thrds = 1\n",
      "memory = None\n",
      "CASCI E = -2226.23456511093  S^2 = 0.0000000\n",
      "Set conv_tol_grad to 0.000316228\n",
      "macro iter 1 (6 JK  0 micro), CASSCF E = -2226.23898825565  dE = -0.0044231447  S^2 = 0.0000000\n",
      "               |grad[o]|=0.0372  |ddm|= 4.87\n",
      "macro iter 2 (6 JK  0 micro), CASSCF E = -2226.24719099927  dE = -0.0082027436  S^2 = 0.0000000\n",
      "               |grad[o]|=0.0393  |ddm|=0.0306\n",
      "macro iter 3 (6 JK  0 micro), CASSCF E = -2226.26210519497  dE = -0.014914196  S^2 = 0.0000000\n",
      "               |grad[o]|=0.0468  |ddm|=0.0284\n",
      "macro iter 4 (6 JK  0 micro), CASSCF E = -2226.28419927946  dE = -0.022094084  S^2 = 0.0000000\n",
      "               |grad[o]|=0.0614  |ddm|=0.0674\n",
      "macro iter 5 (6 JK  0 micro), CASSCF E = -2226.30852432588  dE = -0.024325046  S^2 = 0.0000000\n",
      "               |grad[o]|=0.0762  |ddm|=0.0849\n",
      "macro iter 6 (6 JK  0 micro), CASSCF E = -2226.32924753075  dE = -0.020723205  S^2 = 0.0000000\n",
      "               |grad[o]|=0.0849  |ddm|=0.0973\n",
      "macro iter 7 (6 JK  0 micro), CASSCF E = -2226.3505951719  dE = -0.021347641  S^2 = 0.0000000\n",
      "               |grad[o]|=0.0943  |ddm|=0.121\n",
      "macro iter 8 (6 JK  0 micro), CASSCF E = -2226.37333601107  dE = -0.022740839  S^2 = 0.0000000\n",
      "               |grad[o]|=0.105  |ddm|=0.141\n",
      "macro iter 9 (6 JK  0 micro), CASSCF E = -2226.39575793567  dE = -0.022421925  S^2 = 0.0000000\n",
      "               |grad[o]|=0.111  |ddm|=0.144\n",
      "macro iter 10 (6 JK  0 micro), CASSCF E = -2226.41583010708  dE = -0.020072171  S^2 = 0.0000000\n",
      "               |grad[o]|=0.104  |ddm|=0.128\n",
      "macro iter 11 (6 JK  0 micro), CASSCF E = -2226.42620052373  dE = -0.010370417  S^2 = 0.0000000\n",
      "               |grad[o]|=0.084  |ddm|=0.0983\n",
      "macro iter 12 (6 JK  0 micro), CASSCF E = -2226.43447559639  dE = -0.0082750727  S^2 = 0.0000000\n",
      "               |grad[o]|=0.0688  |ddm|=0.0412\n",
      "macro iter 13 (6 JK  0 micro), CASSCF E = -2226.44257357536  dE = -0.008097979  S^2 = 0.0000000\n",
      "               |grad[o]|=0.0592  |ddm|=0.0316\n",
      "macro iter 14 (6 JK  0 micro), CASSCF E = -2226.4520846709  dE = -0.0095110955  S^2 = 0.0000000\n",
      "               |grad[o]|=0.0539  |ddm|=0.0543\n",
      "macro iter 15 (6 JK  0 micro), CASSCF E = -2226.46297993665  dE = -0.010895266  S^2 = 0.0000000\n",
      "               |grad[o]|=0.0538  |ddm|=0.0712\n",
      "macro iter 16 (6 JK  0 micro), CASSCF E = -2226.4745896236  dE = -0.011609687  S^2 = 0.0000000\n",
      "               |grad[o]|=0.0584  |ddm|=0.0921\n",
      "macro iter 17 (6 JK  0 micro), CASSCF E = -2226.48734078492  dE = -0.012751161  S^2 = 0.0000000\n",
      "               |grad[o]|=0.0634  |ddm|=0.107\n",
      "macro iter 18 (6 JK  0 micro), CASSCF E = -2226.49861985286  dE = -0.011279068  S^2 = 0.0000000\n",
      "               |grad[o]|=0.065  |ddm|=0.118\n",
      "macro iter 19 (6 JK  0 micro), CASSCF E = -2226.50721027946  dE = -0.0085904266  S^2 = 0.0000000\n",
      "               |grad[o]|=0.0565  |ddm|=0.111\n",
      "macro iter 20 (5 JK  0 micro), CASSCF E = -2226.51034187924  dE = -0.0031315998  S^2 = 0.0000000\n",
      "               |grad[o]|=0.036  |ddm|=0.0954\n",
      "macro iter 21 (6 JK  0 micro), CASSCF E = -2226.51098171419  dE = -0.00063983495  S^2 = 0.0000000\n",
      "               |grad[o]|=0.0156  |ddm|=0.0543\n",
      "macro iter 22 (6 JK  0 micro), CASSCF E = -2226.51130784601  dE = -0.00032613182  S^2 = 0.0000000\n",
      "               |grad[o]|=0.0113  |ddm|=0.0384\n",
      "macro iter 23 (6 JK  0 micro), CASSCF E = -2226.51139075483  dE = -8.2908825e-05  S^2 = 0.0000000\n",
      "               |grad[o]|=0.00986  |ddm|=0.0072\n",
      "macro iter 24 (6 JK  0 micro), CASSCF E = -2226.51152234317  dE = -0.00013158834  S^2 = 0.0000000\n",
      "               |grad[o]|=0.0094  |ddm|=0.00325\n",
      "macro iter 25 (6 JK  0 micro), CASSCF E = -2226.51179601881  dE = -0.00027367564  S^2 = 0.0000000\n",
      "               |grad[o]|=0.0091  |ddm|=0.00182\n",
      "macro iter 26 (6 JK  0 micro), CASSCF E = -2226.51204237956  dE = -0.00024636075  S^2 = 0.0000000\n",
      "               |grad[o]|=0.00885  |ddm|=0.00156\n",
      "macro iter 27 (6 JK  0 micro), CASSCF E = -2226.51260969789  dE = -0.00056731832  S^2 = 0.0000000\n",
      "               |grad[o]|=0.0088  |ddm|=0.00205\n",
      "macro iter 28 (6 JK  0 micro), CASSCF E = -2226.51322442186  dE = -0.00061472397  S^2 = 0.0000000\n",
      "               |grad[o]|=0.00878  |ddm|=0.00213\n",
      "macro iter 29 (6 JK  0 micro), CASSCF E = -2226.51395914556  dE = -0.00073472371  S^2 = 0.0000000\n",
      "               |grad[o]|=0.0087  |ddm|=0.0017\n",
      "macro iter 30 (6 JK  0 micro), CASSCF E = -2226.5146908149  dE = -0.00073166933  S^2 = 0.0000000\n",
      "               |grad[o]|=0.00902  |ddm|=0.0029\n",
      "macro iter 31 (6 JK  0 micro), CASSCF E = -2226.51542724886  dE = -0.00073643396  S^2 = 0.0000000\n",
      "               |grad[o]|=0.00876  |ddm|=0.00162\n",
      "macro iter 32 (6 JK  0 micro), CASSCF E = -2226.51627073069  dE = -0.00084348183  S^2 = 0.0000000\n",
      "               |grad[o]|=0.0106  |ddm|=0.0186\n",
      "macro iter 33 (6 JK  0 micro), CASSCF E = -2226.51780379371  dE = -0.001533063  S^2 = 0.0000000\n",
      "               |grad[o]|=0.0108  |ddm|=0.0061\n",
      "macro iter 34 (6 JK  0 micro), CASSCF E = -2226.51889973895  dE = -0.0010959452  S^2 = 0.0000000\n",
      "               |grad[o]|=0.0139  |ddm|=0.017\n",
      "macro iter 35 (6 JK  0 micro), CASSCF E = -2226.52011074121  dE = -0.0012110023  S^2 = 0.0000000\n",
      "               |grad[o]|=0.0133  |ddm|=0.00571\n",
      "macro iter 36 (6 JK  0 micro), CASSCF E = -2226.52084736776  dE = -0.00073662655  S^2 = 0.0000000\n",
      "               |grad[o]|=0.013  |ddm|=0.00828\n",
      "macro iter 37 (6 JK  0 micro), CASSCF E = -2226.52148313808  dE = -0.00063577032  S^2 = 0.0000000\n",
      "               |grad[o]|=0.0119  |ddm|=0.00502\n",
      "macro iter 38 (6 JK  0 micro), CASSCF E = -2226.52218560336  dE = -0.00070246528  S^2 = 0.0000000\n",
      "               |grad[o]|=0.00954  |ddm|=0.00488\n",
      "macro iter 39 (6 JK  0 micro), CASSCF E = -2226.52251607766  dE = -0.00033047431  S^2 = 0.0000000\n",
      "               |grad[o]|=0.00862  |ddm|=0.008\n",
      "macro iter 40 (4 JK  0 micro), CASSCF E = -2226.52260894719  dE = -9.286952e-05  S^2 = 0.0000000\n",
      "               |grad[o]|=0.00702  |ddm|=0.0106\n",
      "macro iter 41 (5 JK  0 micro), CASSCF E = -2226.52280345616  dE = -0.00019450898  S^2 = 0.0000000\n",
      "               |grad[o]|=0.00501  |ddm|=0.00812\n",
      "macro iter 42 (3 JK  0 micro), CASSCF E = -2226.52286985334  dE = -6.639718e-05  S^2 = 0.0000000\n",
      "               |grad[o]|=0.00457  |ddm|=0.0115\n",
      "macro iter 43 (3 JK  0 micro), CASSCF E = -2226.52287435743  dE = -4.5040915e-06  S^2 = 0.0000000\n",
      "               |grad[o]|=0.00222  |ddm|=0.00431\n",
      "macro iter 44 (7 JK  0 micro), CASSCF E = -2226.52287586116  dE = -1.5037263e-06  S^2 = 0.0000000\n",
      "               |grad[o]|=0.000706  |ddm|=0.00186\n",
      "macro iter 45 (7 JK  0 micro), CASSCF E = -2226.52287707576  dE = -1.2146043e-06  S^2 = 0.0000000\n",
      "               |grad[o]|=0.000348  |ddm|=0.000685\n",
      "macro iter 46 (4 JK  0 micro), CASSCF E = -2226.52287712851  dE = -5.2746145e-08  S^2 = 0.0000000\n",
      "               |grad[o]|=0.000205  |ddm|=0.000184\n",
      "2-step CASSCF converged in 46 macro (266 JK 46 micro) steps\n",
      "CASSCF canonicalization\n",
      "Density matrix diagonal elements [1.81250526 1.85930501 1.76148597 1.99589433 1.95761924 1.9166295\n",
      " 0.15273232 0.16691789 0.24301729 0.03917705 0.09471606]\n",
      "CASSCF energy = -2226.52287712851\n",
      "CASCI E = -2226.52287712851  E(CI) = -33.8860750540807  S^2 = 0.0000000\n"
     ]
    },
    {
     "data": {
      "text/plain": [
       "-2226.5228771285106"
      ]
     },
     "execution_count": 3,
     "metadata": {},
     "output_type": "execute_result"
    }
   ],
   "source": [
    "ncas = 11\n",
    "nelecas = 12\n",
    "mc = shci.SHCISCF(mf, ncas, nelecas)\n",
    "mc.verbose = 4 # You can increase this to see more of the output from PySCF\n",
    "mc.mc2step()[0]"
   ]
  },
  {
   "cell_type": "markdown",
   "metadata": {},
   "source": [
    "# Analysis of MCSCF Calculation\n",
    "- Do you think that this choice of the active space was good? Why or why not?\n",
    "- Is there any way we could improve convergence?"
   ]
  },
  {
   "cell_type": "code",
   "execution_count": 4,
   "metadata": {
    "collapsed": false
   },
   "outputs": [
    {
     "data": {
      "image/png": "[encoded data removed]",
      "text/plain": [
       "<matplotlib.figure.Figure at 0x2ae56b9c70d0>"
      ]
     },
     "metadata": {},
     "output_type": "display_data"
    }
   ],
   "source": [
    "import matplotlib.pyplot as plt\n",
    "import numpy as np\n",
    "%matplotlib inline\n",
    "\n",
    "convergence_data = np.array([[-2226.23898825565,   -0.0044231447],  \n",
    "[-2226.24719099928,   -0.0082027436],  \n",
    "[-2226.26210519497,   -0.014914196],  \n",
    "[-2226.28419927946,   -0.022094084],  \n",
    "[-2226.30852432587,   -0.024325046],  \n",
    "[-2226.32924753074,   -0.020723205],  \n",
    "[-2226.35059517191,   -0.021347641],  \n",
    "[-2226.37333601107,   -0.022740839],  \n",
    "[-2226.39575793566,   -0.022421925],  \n",
    "[-2226.41583010707,   -0.020072171],  \n",
    "[-2226.42620052372,   -0.010370417],  \n",
    "[-2226.43447559639,   -0.0082750727],  \n",
    "[-2226.44257357536,   -0.008097979],  \n",
    "[-2226.4520846709,   -0.0095110955],  \n",
    "[-2226.46297993665,   -0.010895266],  \n",
    "[-2226.47458962359,   -0.011609687],  \n",
    "[-2226.48734078491,   -0.012751161],  \n",
    "[-2226.49861985287,   -0.011279068],  \n",
    "[-2226.50721027947,   -0.0085904266],  \n",
    "[-2226.51034187922,   -0.0031315998],  \n",
    "[-2226.5109817142,   -0.00063983497],  \n",
    "[-2226.51130784601,   -0.00032613182],  \n",
    "[-2226.51139075483,   -8.290882e-05],  \n",
    "[-2226.51152234317,   -0.00013158834],  \n",
    "[-2226.51179601882,   -0.00027367564],  \n",
    "[-2226.51204237955,   -0.00024636073],  \n",
    "[-2226.51260969789,   -0.00056731834],  \n",
    "[-2226.51322442185,   -0.00061472397],  \n",
    "[-2226.51395914555,   -0.0007347237],  \n",
    "[-2226.5146908149,   -0.00073166935],  \n",
    "[-2226.51542724883,   -0.00073643392],  \n",
    "[-2226.51627073066,   -0.00084348183],  \n",
    "[-2226.5178037937,   -0.001533063],  \n",
    "[-2226.51889973904,   -0.0010959453],  \n",
    "[-2226.52011074124,   -0.0012110022],  \n",
    "[-2226.5208473678,   -0.00073662655],  \n",
    "[-2226.52148313809,   -0.00063577029],  \n",
    "[-2226.52218560337,   -0.00070246528],  \n",
    "[-2226.52251607767,   -0.0003304743],  \n",
    "[-2226.52260894713,   -9.2869467e-05],  \n",
    "[-2226.52280345616,   -0.00019450902],  \n",
    "[-2226.52286985333,   -6.6397171e-05],  \n",
    "[-2226.52287435744,   -4.5041088e-06],  \n",
    "[-2226.52287586114,   -1.5037062e-06],  \n",
    "[-2226.52287707577,   -1.2146238e-06],  \n",
    "[-2226.52287712851,   -5.2748419e-08]])  \n",
    "\n",
    "plt.figure()\n",
    "plt.subplot(1,2,1)\n",
    "plt.plot(convergence_data[:,0], )\n",
    "plt.xlabel('SHCISCF Iteration')\n",
    "plt.ylabel('Energy (Ha)')\n",
    "\n",
    "plt.subplot(1,2,2)\n",
    "plt.plot(convergence_data[:,1], )\n",
    "plt.xlabel('SHCISCF Iteration')\n",
    "plt.ylabel('$\\Delta$Energy (Ha)')\n",
    "plt.tight_layout()\n"
   ]
  },
  {
   "cell_type": "markdown",
   "metadata": {},
   "source": [
    "# Pick an active space like we did for benzene\n",
    "- Select orbitals that represent the d orbitals on the Mn and some of the $\\pi$ orbitals on the chelating carbons\n",
    "- Make sure that you select 11 orbitals that contain 12 electrons!"
   ]
  },
  {
   "cell_type": "code",
   "execution_count": 10,
   "metadata": {
    "collapsed": true
   },
   "outputs": [],
   "source": [
    "# Save orbitals so we can examine them with 3 party program (we use Jmol most often)\n",
    "from pyscf.tools import molden\n",
    "with open('oxo_Mn_salen.molden','w') as f:\n",
    "    molden.header(mol, f)\n",
    "    molden.orbital_coeff(mol, f, mf.mo_coeff, ene=mf.mo_energy, occ=mf.mo_occ)"
   ]
  },
  {
   "cell_type": "code",
   "execution_count": 6,
   "metadata": {
    "collapsed": false
   },
   "outputs": [
    {
     "name": "stdout",
     "output_type": "stream",
     "text": [
      "\n",
      "******** <class 'pyscf.mcscf.mc1step.CASSCF'> flags ********\n",
      "CAS (6e+6e, 11o), ncore = 63, nvir = 28\n",
      "max_cycle_macro = 50\n",
      "max_cycle_micro = 4\n",
      "conv_tol = 1e-07\n",
      "conv_tol_grad = None\n",
      "orbital rotation max_stepsize = 0.02\n",
      "augmented hessian ah_max_cycle = 30\n",
      "augmented hessian ah_conv_tol = 1e-12\n",
      "augmented hessian ah_linear dependence = 1e-14\n",
      "augmented hessian ah_level shift = 0\n",
      "augmented hessian ah_start_tol = 2.5\n",
      "augmented hessian ah_start_cycle = 3\n",
      "augmented hessian ah_grad_trust_region = 3\n",
      "kf_trust_region = 3\n",
      "kf_interval = 4\n",
      "ci_response_space = 4\n",
      "ci_grad_trust_region = 3\n",
      "with_dep4 0\n",
      "natorb = False\n",
      "canonicalization = True\n",
      "sorting_mo_energy = False\n",
      "chkfile = /tmp/tmpn3nFkC\n",
      "max_memory 4000 MB (current use 213 MB)\n",
      "internal_rotation = False\n",
      "******** SHCI flags ********\n",
      "executable = /home/james/Documents/Apps/Dice/Dice\n",
      "mpiprefix = \n",
      "scratchDirectory = /tmp/\n",
      "integralFile = ./FCIDUMP\n",
      "configFile = ./input.dat\n",
      "outputFile = ./output.dat\n",
      "maxIter = 6\n",
      "nPTiter = 0\n",
      "Stochastic = True\n",
      "num_thrds = 1\n",
      "memory = None\n",
      "CASCI E = -2226.23878366206  S^2 = 0.0000000\n",
      "Set conv_tol_grad to 0.000316228\n",
      "macro iter 1 (6 JK  0 micro), CASSCF E = -2226.26194598896  dE = -0.023162327  S^2 = 0.0000000\n",
      "               |grad[o]|=0.0785  |ddm|= 4.88\n",
      "macro iter 2 (6 JK  0 micro), CASSCF E = -2226.2977964949  dE = -0.035850506  S^2 = 0.0000000\n",
      "               |grad[o]|=0.123  |ddm|=0.132\n",
      "macro iter 3 (6 JK  0 micro), CASSCF E = -2226.34140602882  dE = -0.043609534  S^2 = 0.0000000\n",
      "               |grad[o]|=0.157  |ddm|=0.187\n",
      "macro iter 4 (6 JK  0 micro), CASSCF E = -2226.38480766074  dE = -0.043401632  S^2 = 0.0000000\n",
      "               |grad[o]|=0.168  |ddm|=0.186\n",
      "macro iter 5 (6 JK  0 micro), CASSCF E = -2226.42308911864  dE = -0.038281458  S^2 = 0.0000000\n",
      "               |grad[o]|=0.158  |ddm|=0.122\n",
      "macro iter 6 (6 JK  0 micro), CASSCF E = -2226.45353411925  dE = -0.030445001  S^2 = 0.0000000\n",
      "               |grad[o]|=0.139  |ddm|=0.0906\n",
      "macro iter 7 (6 JK  0 micro), CASSCF E = -2226.47359700833  dE = -0.020062889  S^2 = 0.0000000\n",
      "               |grad[o]|= 0.11  |ddm|=0.0709\n",
      "macro iter 8 (6 JK  0 micro), CASSCF E = -2226.48335441322  dE = -0.0097574049  S^2 = 0.0000000\n",
      "               |grad[o]|=0.0738  |ddm|=0.0504\n",
      "macro iter 9 (6 JK  0 micro), CASSCF E = -2226.48599006626  dE = -0.002635653  S^2 = 0.0000000\n",
      "               |grad[o]|=0.0407  |ddm|=0.0339\n",
      "macro iter 10 (6 JK  0 micro), CASSCF E = -2226.48795422364  dE = -0.0019641574  S^2 = 0.0000000\n",
      "               |grad[o]|=0.0297  |ddm|=0.0125\n",
      "macro iter 11 (6 JK  0 micro), CASSCF E = -2226.48997397846  dE = -0.0020197548  S^2 = 0.0000000\n",
      "               |grad[o]|=0.0247  |ddm|=0.00849\n",
      "macro iter 12 (6 JK  0 micro), CASSCF E = -2226.4919060776  dE = -0.0019320991  S^2 = 0.0000000\n",
      "               |grad[o]|=0.0221  |ddm|=0.0116\n",
      "macro iter 13 (6 JK  0 micro), CASSCF E = -2226.49422085886  dE = -0.0023147813  S^2 = 0.0000000\n",
      "               |grad[o]|=0.021  |ddm|=0.00712\n",
      "macro iter 14 (6 JK  0 micro), CASSCF E = -2226.4973358924  dE = -0.0031150335  S^2 = 0.0000000\n",
      "               |grad[o]|=0.0192  |ddm|=0.00766\n",
      "macro iter 15 (6 JK  0 micro), CASSCF E = -2226.50010987395  dE = -0.0027739815  S^2 = 0.0000000\n",
      "               |grad[o]|=0.0162  |ddm|=0.0139\n",
      "macro iter 16 (6 JK  0 micro), CASSCF E = -2226.5025585456  dE = -0.0024486717  S^2 = 0.0000000\n",
      "               |grad[o]|=0.0158  |ddm|=0.0197\n",
      "macro iter 17 (6 JK  0 micro), CASSCF E = -2226.5050818935  dE = -0.0025233479  S^2 = 0.0000000\n",
      "               |grad[o]|=0.0153  |ddm|=0.013\n",
      "macro iter 18 (6 JK  0 micro), CASSCF E = -2226.50767100271  dE = -0.0025891092  S^2 = 0.0000000\n",
      "               |grad[o]|=0.015  |ddm|=0.0121\n",
      "macro iter 19 (6 JK  0 micro), CASSCF E = -2226.51025395869  dE = -0.002582956  S^2 = 0.0000000\n",
      "               |grad[o]|=0.0149  |ddm|=0.0114\n",
      "macro iter 20 (6 JK  0 micro), CASSCF E = -2226.51227353116  dE = -0.0020195725  S^2 = 0.0000000\n",
      "               |grad[o]|=0.0149  |ddm|=0.0123\n",
      "macro iter 21 (6 JK  0 micro), CASSCF E = -2226.51365055775  dE = -0.0013770266  S^2 = 0.0000000\n",
      "               |grad[o]|=0.0134  |ddm|=0.0112\n",
      "macro iter 22 (5 JK  0 micro), CASSCF E = -2226.51428656112  dE = -0.00063600337  S^2 = 0.0000000\n",
      "               |grad[o]|=0.0109  |ddm|=0.0145\n",
      "macro iter 23 (6 JK  0 micro), CASSCF E = -2226.51465406276  dE = -0.00036750164  S^2 = 0.0000000\n",
      "               |grad[o]|=0.00724  |ddm|=0.0152\n",
      "macro iter 24 (6 JK  0 micro), CASSCF E = -2226.51478494723  dE = -0.00013088446  S^2 = 0.0000000\n",
      "               |grad[o]|=0.00589  |ddm|=0.0159\n",
      "macro iter 25 (6 JK  0 micro), CASSCF E = -2226.51555236197  dE = -0.00076741474  S^2 = 0.0000000\n",
      "               |grad[o]|=0.00554  |ddm|=0.0174\n",
      "macro iter 26 (6 JK  0 micro), CASSCF E = -2226.51677463665  dE = -0.0012222747  S^2 = 0.0000000\n",
      "               |grad[o]|=0.00889  |ddm|=0.0225\n",
      "macro iter 27 (6 JK  0 micro), CASSCF E = -2226.51858178782  dE = -0.0018071512  S^2 = 0.0000000\n",
      "               |grad[o]|=0.0125  |ddm|=0.0177\n",
      "macro iter 28 (6 JK  0 micro), CASSCF E = -2226.52137454705  dE = -0.0027927592  S^2 = 0.0000000\n",
      "               |grad[o]|=0.0151  |ddm|=0.0161\n",
      "macro iter 29 (6 JK  0 micro), CASSCF E = -2226.52452332687  dE = -0.0031487798  S^2 = 0.0000000\n",
      "               |grad[o]|=0.0157  |ddm|=0.0124\n",
      "macro iter 30 (6 JK  0 micro), CASSCF E = -2226.52675658009  dE = -0.0022332532  S^2 = 0.0000000\n",
      "               |grad[o]|=0.0141  |ddm|=0.0119\n",
      "macro iter 31 (6 JK  0 micro), CASSCF E = -2226.52769878063  dE = -0.00094220053  S^2 = 0.0000000\n",
      "               |grad[o]|=0.0109  |ddm|=0.0106\n",
      "macro iter 32 (6 JK  0 micro), CASSCF E = -2226.52850769814  dE = -0.00080891751  S^2 = 0.0000000\n",
      "               |grad[o]|=0.00936  |ddm|=0.00386\n",
      "macro iter 33 (6 JK  0 micro), CASSCF E = -2226.52917417225  dE = -0.00066647411  S^2 = 0.0000000\n",
      "               |grad[o]|=0.00849  |ddm|=0.00425\n",
      "macro iter 34 (6 JK  0 micro), CASSCF E = -2226.52980103467  dE = -0.00062686242  S^2 = 0.0000000\n",
      "               |grad[o]|=0.00777  |ddm|=0.00279\n",
      "macro iter 35 (6 JK  0 micro), CASSCF E = -2226.53062233317  dE = -0.0008212985  S^2 = 0.0000000\n",
      "               |grad[o]|=0.00716  |ddm|=0.00287\n",
      "macro iter 36 (6 JK  0 micro), CASSCF E = -2226.53165382913  dE = -0.001031496  S^2 = 0.0000000\n",
      "               |grad[o]|=0.00674  |ddm|=0.00325\n",
      "macro iter 37 (6 JK  0 micro), CASSCF E = -2226.5326524122  dE = -0.00099858307  S^2 = 0.0000000\n",
      "               |grad[o]|=0.00643  |ddm|=0.00598\n",
      "macro iter 38 (6 JK  0 micro), CASSCF E = -2226.53359981319  dE = -0.00094740098  S^2 = 0.0000000\n",
      "               |grad[o]|=0.00614  |ddm|=0.0059\n",
      "macro iter 39 (6 JK  0 micro), CASSCF E = -2226.53469960837  dE = -0.0010997952  S^2 = 0.0000000\n",
      "               |grad[o]|=0.00583  |ddm|=0.0105\n",
      "macro iter 40 (6 JK  0 micro), CASSCF E = -2226.53514127962  dE = -0.00044167124  S^2 = 0.0000000\n",
      "               |grad[o]|=0.00484  |ddm|=0.0085\n",
      "macro iter 41 (4 JK  0 micro), CASSCF E = -2226.53536017526  dE = -0.00021889565  S^2 = 0.0000000\n",
      "               |grad[o]|=0.00343  |ddm|=0.012\n",
      "macro iter 42 (4 JK  0 micro), CASSCF E = -2226.53538149785  dE = -2.1322583e-05  S^2 = 0.0000000\n",
      "               |grad[o]|=0.0014  |ddm|=0.00433\n",
      "macro iter 43 (3 JK  0 micro), CASSCF E = -2226.53548775379  dE = -0.00010625594  S^2 = 0.0000000\n",
      "               |grad[o]|=0.000586  |ddm|=0.00351\n",
      "macro iter 44 (4 JK  0 micro), CASSCF E = -2226.53550039828  dE = -1.2644495e-05  S^2 = 0.0000000\n",
      "               |grad[o]|=0.000424  |ddm|=0.00279\n",
      "macro iter 45 (5 JK  0 micro), CASSCF E = -2226.5355047577  dE = -4.3594177e-06  S^2 = 0.0000000\n",
      "               |grad[o]|=0.000164  |ddm|=0.000744\n",
      "macro iter 46 (4 JK  0 micro), CASSCF E = -2226.53550480628  dE = -4.8584752e-08  S^2 = 0.0000000\n",
      "               |grad[o]|=9.68e-05  |ddm|=0.000382\n",
      "2-step CASSCF converged in 46 macro (263 JK 46 micro) steps\n",
      "CASSCF canonicalization\n",
      "Density matrix diagonal elements [1.97002351 1.85238687 1.80838329 1.80439289 1.95334674 1.95939567\n",
      " 0.16462622 0.15842879 0.20008628 0.10752882 0.021401  ]\n",
      "CASSCF energy = -2226.53550480628\n",
      "CASCI E = -2226.53550480628  E(CI) = -33.0854535711487  S^2 = 0.0000000\n"
     ]
    },
    {
     "data": {
      "text/plain": [
       "-2226.535504806283"
      ]
     },
     "execution_count": 6,
     "metadata": {},
     "output_type": "execute_result"
    }
   ],
   "source": [
    "ncas = 11\n",
    "nelecas = 12\n",
    "mc = shci.SHCISCF(mf, ncas, nelecas)\n",
    "mo = mcscf.sort_mo( mc, mf.mo_coeff, [40,56,61,62,68,69,70,71,72,74,75])\n",
    "mc.verbose = 4 # You can increase this to see more of the output from PySCF\n",
    "mc.mc2step(mo)[0]"
   ]
  },
  {
   "cell_type": "markdown",
   "metadata": {},
   "source": [
    "# Did the \"hand-picked\" active space improve our result?\n",
    "- Although this \"hand-picked\" active space hasn't reduced the total number of steps to convergence, the final answer is substantially lower in energy than the one calculated with the most naive choice.\n",
    "- In addition, we see that the initial decrease in energy during the SHCISCF calculation is much sharper with our new active space.\n",
    "- The example above is a quick and dirty choice for the active space, see if you can do better by examining the molden file and viewing the orbitals.\n",
    "- Uncomment the code below and test your active space!"
   ]
  },
  {
   "cell_type": "code",
   "execution_count": 7,
   "metadata": {
    "collapsed": false
   },
   "outputs": [
    {
     "data": {
      "image/png": "[encoded data removed]",
      "text/plain": [
       "<matplotlib.figure.Figure at 0x2ae5784357d0>"
      ]
     },
     "metadata": {},
     "output_type": "display_data"
    }
   ],
   "source": [
    "new_convergence_data = np.array([[-2226.26194598895, -0.023162327],\n",
    "[-2226.29779649489, -0.035850506],\n",
    "[-2226.34140602882, -0.043609534],\n",
    "[-2226.38480766073, -0.043401632],\n",
    "[-2226.42308911865, -0.038281458],\n",
    "[-2226.45353411924, -0.030445001],\n",
    "[-2226.47359700832, -0.020062889],\n",
    "[-2226.48335441324, -0.0097574049],\n",
    "[-2226.48599006626, -0.002635653],\n",
    "[-2226.48795422363, -0.0019641574],\n",
    "[-2226.48997397845, -0.0020197548],\n",
    "[-2226.49190607761, -0.0019320992],\n",
    "[-2226.49422085888, -0.0023147813],\n",
    "[-2226.4973358924, -0.0031150335],\n",
    "[-2226.50010987397, -0.0027739816],\n",
    "[-2226.5025585456, -0.0024486716],\n",
    "[-2226.50508189358, -0.002523348],\n",
    "[-2226.50767100271, -0.0025891091],\n",
    "[-2226.51025395867, -0.002582956],\n",
    "[-2226.51227353118, -0.0020195725],\n",
    "[-2226.51365055779, -0.0013770266],\n",
    "[-2226.51428656119, -0.0006360034],\n",
    "[-2226.51465406264, -0.00036750145],\n",
    "[-2226.51478494636, -0.00013088372],\n",
    "[-2226.51555235995, -0.00076741358],\n",
    "[-2226.51677463236, -0.0012222724],\n",
    "[-2226.51858178178, -0.0018071494],\n",
    "[-2226.52137453947, -0.0027927577],\n",
    "[-2226.5245233101, -0.0031487706],\n",
    "[-2226.52675659857, -0.0022332885],\n",
    "[-2226.52769881183, -0.00094221326],\n",
    "[-2226.5285077201, -0.00080890828],\n",
    "[-2226.52917418982, -0.00066646971],\n",
    "[-2226.52980104854, -0.00062685872],\n",
    "[-2226.53062234499, -0.00082129645],\n",
    "[-2226.53165383927, -0.0010314943],\n",
    "[-2226.53265242154, -0.00099858227],\n",
    "[-2226.53359982233, -0.00094740078],\n",
    "[-2226.53469961717, -0.0010997948],\n",
    "[-2226.53514128522, -0.00044166805],\n",
    "[-2226.53536017867, -0.00021889346],\n",
    "[-2226.53538149993, -2.1321255e-05],\n",
    "[-2226.53548775581, -0.00010625589],\n",
    "[-2226.53550040029, -1.2644479e-05],\n",
    "[-2226.53550475973, -4.3594359e-06],\n",
    "[-2226.53550480831, -4.8583388e-08]])\n",
    "\n",
    "plt.figure()\n",
    "plt.subplot(1,2,1)\n",
    "plt.plot(new_convergence_data[:,0], )\n",
    "plt.xlabel('SHCISCF Iteration')\n",
    "plt.ylabel('Energy (Ha)')\n",
    "\n",
    "plt.subplot(1,2,2)\n",
    "plt.plot(new_convergence_data[:,1], )\n",
    "plt.xlabel('SHCISCF Iteration')\n",
    "plt.ylabel('$\\Delta$Energy (Ha)')\n",
    "plt.tight_layout()"
   ]
  },
  {
   "cell_type": "code",
   "execution_count": 8,
   "metadata": {
    "collapsed": false
   },
   "outputs": [
    {
     "data": {
      "text/plain": [
       "'\\nncas = 11\\nnelecas = 12\\nmc = shci.SHCISCF(mf, ncas, nelecas)\\nmo = mcscf.sort_mo( mc, mf.mo_coeff, [YOUR ACTIVE SPACE])\\nmc.verbose = 4 # You can increase this to see more of the output from PySCF\\nmc.mc2step(mo)[0]\\n'"
      ]
     },
     "execution_count": 8,
     "metadata": {},
     "output_type": "execute_result"
    }
   ],
   "source": [
    "# Uncomment the code below and try your own active space\n",
    "'''\n",
    "ncas = 11\n",
    "nelecas = 12\n",
    "mc = shci.SHCISCF(mf, ncas, nelecas)\n",
    "mo = mcscf.sort_mo( mc, mf.mo_coeff, [YOUR ACTIVE SPACE])\n",
    "mc.verbose = 4 # You can increase this to see more of the output from PySCF\n",
    "mc.mc2step(mo)[0]\n",
    "'''"
   ]
  },
  {
   "cell_type": "code",
   "execution_count": 9,
   "metadata": {
    "collapsed": false
   },
   "outputs": [
    {
     "data": {
      "text/plain": [
       "0"
      ]
     },
     "execution_count": 9,
     "metadata": {},
     "output_type": "execute_result"
    }
   ],
   "source": [
    "# Cleanup Dice Files\n",
    "import os\n",
    "os.system('rm *bkp')\n",
    "os.system('rm *dat')\n",
    "os.system('rm *txt')\n",
    "os.system('rm shci.e')\n",
    "os.system('rm FCIDUMP')\n",
    "os.system('rm tmp*')"
   ]
  },
  {
   "cell_type": "code",
   "execution_count": null,
   "metadata": {
    "collapsed": true
   },
   "outputs": [],
   "source": []
  }
 ],
 "metadata": {
  "kernelspec": {
   "display_name": "Python 2",
   "language": "python",
   "name": "python2"
  },
  "language_info": {
   "codemirror_mode": {
    "name": "ipython",
    "version": 2
   },
   "file_extension": ".py",
   "mimetype": "text/x-python",
   "name": "python",
   "nbconvert_exporter": "python",
   "pygments_lexer": "ipython2",
   "version": "2.7.12"
  }
 },
 "nbformat": 4,
 "nbformat_minor": 2
}
