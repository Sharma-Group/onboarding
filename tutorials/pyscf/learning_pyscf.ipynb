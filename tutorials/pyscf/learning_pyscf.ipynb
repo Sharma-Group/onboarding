{
 "cells": [
  {
   "cell_type": "markdown",
   "metadata": {},
   "source": [
    "# Getting Started with PySCF"
   ]
  },
  {
   "cell_type": "markdown",
   "metadata": {},
   "source": [
    "This notebook is meant as an introduction to the PySCF package for those with at least some exposure to Python."
   ]
  },
  {
   "cell_type": "markdown",
   "metadata": {},
   "source": [
    "Make sure that you have the following installed:\n",
    "\n",
    "* Python 2 or 3 (this notebook should work with both)\n",
    "* IPython/Jupyter\n",
    "* PySCF (and it's dependencies)"
   ]
  },
  {
   "cell_type": "markdown",
   "metadata": {},
   "source": [
    "Misc imports to add at the beginning of a script:"
   ]
  },
  {
   "cell_type": "code",
   "execution_count": 1,
   "metadata": {},
   "outputs": [],
   "source": [
    "# Get rid of the pesky warnings\n",
    "# If you see capture at the top of a cell it's used to suppress the output of that cell to keep the notebook neat.\n",
    "import warnings\n",
    "warnings.filterwarnings('ignore')"
   ]
  },
  {
   "cell_type": "code",
   "execution_count": 2,
   "metadata": {},
   "outputs": [
    {
     "ename": "OSError",
     "evalue": "dlopen(/Users/jets/apps/pyscf/pyscf/lib/libcgto.dylib, 6): Library not loaded: libcint.3.0.dylib\n  Referenced from: /Users/jets/apps/pyscf/pyscf/lib/libcgto.dylib\n  Reason: image not found",
     "output_type": "error",
     "traceback": [
      "\u001b[0;31m---------------------------------------------------------------------------\u001b[0m",
      "\u001b[0;31mOSError\u001b[0m                                   Traceback (most recent call last)",
      "\u001b[0;32m<ipython-input-2-82b8cc904a47>\u001b[0m in \u001b[0;36m<module>\u001b[0;34m()\u001b[0m\n\u001b[1;32m      1\u001b[0m \u001b[0;31m# Here we import two modules from PySCF the gto (gaussian type orbital) and scf (self consistent field) modules.\u001b[0m\u001b[0;34m\u001b[0m\u001b[0;34m\u001b[0m\u001b[0m\n\u001b[0;32m----> 2\u001b[0;31m \u001b[0;32mfrom\u001b[0m \u001b[0mpyscf\u001b[0m \u001b[0;32mimport\u001b[0m \u001b[0mgto\u001b[0m\u001b[0;34m,\u001b[0m \u001b[0mscf\u001b[0m\u001b[0;34m,\u001b[0m \u001b[0mmolden\u001b[0m\u001b[0;34m\u001b[0m\u001b[0m\n\u001b[0m\u001b[1;32m      3\u001b[0m \u001b[0;32mimport\u001b[0m \u001b[0mmatplotlib\u001b[0m\u001b[0;34m.\u001b[0m\u001b[0mpyplot\u001b[0m \u001b[0;32mas\u001b[0m \u001b[0mplt\u001b[0m\u001b[0;34m\u001b[0m\u001b[0m\n\u001b[1;32m      4\u001b[0m \u001b[0;32mfrom\u001b[0m \u001b[0mmpl_toolkits\u001b[0m\u001b[0;34m.\u001b[0m\u001b[0mmplot3d\u001b[0m \u001b[0;32mimport\u001b[0m \u001b[0maxes3d\u001b[0m\u001b[0;34m\u001b[0m\u001b[0m\n\u001b[1;32m      5\u001b[0m \u001b[0;34m\u001b[0m\u001b[0m\n",
      "\u001b[0;32m~/apps/pyscf/pyscf/__init__.py\u001b[0m in \u001b[0;36m<module>\u001b[0;34m()\u001b[0m\n\u001b[1;32m     90\u001b[0m \u001b[0;32mfrom\u001b[0m \u001b[0mpyscf\u001b[0m \u001b[0;32mimport\u001b[0m \u001b[0m__config__\u001b[0m\u001b[0;34m\u001b[0m\u001b[0m\n\u001b[1;32m     91\u001b[0m \u001b[0;32mfrom\u001b[0m \u001b[0mpyscf\u001b[0m \u001b[0;32mimport\u001b[0m \u001b[0mlib\u001b[0m\u001b[0;34m\u001b[0m\u001b[0m\n\u001b[0;32m---> 92\u001b[0;31m \u001b[0;32mfrom\u001b[0m \u001b[0mpyscf\u001b[0m \u001b[0;32mimport\u001b[0m \u001b[0mgto\u001b[0m\u001b[0;34m\u001b[0m\u001b[0m\n\u001b[0m\u001b[1;32m     93\u001b[0m \u001b[0;32mfrom\u001b[0m \u001b[0mpyscf\u001b[0m \u001b[0;32mimport\u001b[0m \u001b[0mscf\u001b[0m\u001b[0;34m\u001b[0m\u001b[0m\n\u001b[1;32m     94\u001b[0m \u001b[0;32mfrom\u001b[0m \u001b[0mpyscf\u001b[0m \u001b[0;32mimport\u001b[0m \u001b[0mao2mo\u001b[0m\u001b[0;34m\u001b[0m\u001b[0m\n",
      "\u001b[0;32m~/apps/pyscf/pyscf/gto/__init__.py\u001b[0m in \u001b[0;36m<module>\u001b[0;34m()\u001b[0m\n\u001b[1;32m     17\u001b[0m \u001b[0;31m#\u001b[0m\u001b[0;34m\u001b[0m\u001b[0;34m\u001b[0m\u001b[0m\n\u001b[1;32m     18\u001b[0m \u001b[0;34m\u001b[0m\u001b[0m\n\u001b[0;32m---> 19\u001b[0;31m \u001b[0;32mfrom\u001b[0m \u001b[0mpyscf\u001b[0m\u001b[0;34m.\u001b[0m\u001b[0mgto\u001b[0m \u001b[0;32mimport\u001b[0m \u001b[0mmole\u001b[0m\u001b[0;34m\u001b[0m\u001b[0m\n\u001b[0m\u001b[1;32m     20\u001b[0m \u001b[0;32mfrom\u001b[0m \u001b[0mpyscf\u001b[0m\u001b[0;34m.\u001b[0m\u001b[0mgto\u001b[0m \u001b[0;32mimport\u001b[0m \u001b[0mbasis\u001b[0m\u001b[0;34m\u001b[0m\u001b[0m\n\u001b[1;32m     21\u001b[0m \u001b[0;32mfrom\u001b[0m \u001b[0mpyscf\u001b[0m\u001b[0;34m.\u001b[0m\u001b[0mgto\u001b[0m\u001b[0;34m.\u001b[0m\u001b[0mbasis\u001b[0m \u001b[0;32mimport\u001b[0m \u001b[0mparse\u001b[0m\u001b[0;34m,\u001b[0m \u001b[0mload\u001b[0m\u001b[0;34m,\u001b[0m \u001b[0mparse_ecp\u001b[0m\u001b[0;34m,\u001b[0m \u001b[0mload_ecp\u001b[0m\u001b[0;34m\u001b[0m\u001b[0m\n",
      "\u001b[0;32m~/apps/pyscf/pyscf/gto/mole.py\u001b[0m in \u001b[0;36m<module>\u001b[0;34m()\u001b[0m\n\u001b[1;32m     34\u001b[0m \u001b[0;32mfrom\u001b[0m \u001b[0mpyscf\u001b[0m\u001b[0;34m.\u001b[0m\u001b[0mgto\u001b[0m \u001b[0;32mimport\u001b[0m \u001b[0mcmd_args\u001b[0m\u001b[0;34m\u001b[0m\u001b[0m\n\u001b[1;32m     35\u001b[0m \u001b[0;32mfrom\u001b[0m \u001b[0mpyscf\u001b[0m\u001b[0;34m.\u001b[0m\u001b[0mgto\u001b[0m \u001b[0;32mimport\u001b[0m \u001b[0mbasis\u001b[0m\u001b[0;34m\u001b[0m\u001b[0m\n\u001b[0;32m---> 36\u001b[0;31m \u001b[0;32mfrom\u001b[0m \u001b[0mpyscf\u001b[0m\u001b[0;34m.\u001b[0m\u001b[0mgto\u001b[0m \u001b[0;32mimport\u001b[0m \u001b[0mmoleintor\u001b[0m\u001b[0;34m\u001b[0m\u001b[0m\n\u001b[0m\u001b[1;32m     37\u001b[0m \u001b[0;32mfrom\u001b[0m \u001b[0mpyscf\u001b[0m\u001b[0;34m.\u001b[0m\u001b[0mgto\u001b[0m\u001b[0;34m.\u001b[0m\u001b[0meval_gto\u001b[0m \u001b[0;32mimport\u001b[0m \u001b[0meval_gto\u001b[0m\u001b[0;34m\u001b[0m\u001b[0m\n\u001b[1;32m     38\u001b[0m \u001b[0;32mfrom\u001b[0m \u001b[0mpyscf\u001b[0m\u001b[0;34m.\u001b[0m\u001b[0mgto\u001b[0m \u001b[0;32mimport\u001b[0m \u001b[0mecp\u001b[0m\u001b[0;34m\u001b[0m\u001b[0m\n",
      "\u001b[0;32m~/apps/pyscf/pyscf/gto/moleintor.py\u001b[0m in \u001b[0;36m<module>\u001b[0;34m()\u001b[0m\n\u001b[1;32m     22\u001b[0m \u001b[0;32mfrom\u001b[0m \u001b[0mpyscf\u001b[0m \u001b[0;32mimport\u001b[0m \u001b[0mlib\u001b[0m\u001b[0;34m\u001b[0m\u001b[0m\n\u001b[1;32m     23\u001b[0m \u001b[0;34m\u001b[0m\u001b[0m\n\u001b[0;32m---> 24\u001b[0;31m \u001b[0mlibcgto\u001b[0m \u001b[0;34m=\u001b[0m \u001b[0mlib\u001b[0m\u001b[0;34m.\u001b[0m\u001b[0mload_library\u001b[0m\u001b[0;34m(\u001b[0m\u001b[0;34m'libcgto'\u001b[0m\u001b[0;34m)\u001b[0m\u001b[0;34m\u001b[0m\u001b[0m\n\u001b[0m\u001b[1;32m     25\u001b[0m \u001b[0;34m\u001b[0m\u001b[0m\n\u001b[1;32m     26\u001b[0m \u001b[0mANG_OF\u001b[0m     \u001b[0;34m=\u001b[0m \u001b[0;36m1\u001b[0m\u001b[0;34m\u001b[0m\u001b[0m\n",
      "\u001b[0;32m~/apps/pyscf/pyscf/lib/misc.py\u001b[0m in \u001b[0;36mload_library\u001b[0;34m(libname)\u001b[0m\n\u001b[1;32m     61\u001b[0m     \u001b[0;32melse\u001b[0m\u001b[0;34m:\u001b[0m\u001b[0;34m\u001b[0m\u001b[0m\n\u001b[1;32m     62\u001b[0m         \u001b[0m_loaderpath\u001b[0m \u001b[0;34m=\u001b[0m \u001b[0mos\u001b[0m\u001b[0;34m.\u001b[0m\u001b[0mpath\u001b[0m\u001b[0;34m.\u001b[0m\u001b[0mdirname\u001b[0m\u001b[0;34m(\u001b[0m\u001b[0m__file__\u001b[0m\u001b[0;34m)\u001b[0m\u001b[0;34m\u001b[0m\u001b[0m\n\u001b[0;32m---> 63\u001b[0;31m         \u001b[0;32mreturn\u001b[0m \u001b[0mnumpy\u001b[0m\u001b[0;34m.\u001b[0m\u001b[0mctypeslib\u001b[0m\u001b[0;34m.\u001b[0m\u001b[0mload_library\u001b[0m\u001b[0;34m(\u001b[0m\u001b[0mlibname\u001b[0m\u001b[0;34m,\u001b[0m \u001b[0m_loaderpath\u001b[0m\u001b[0;34m)\u001b[0m\u001b[0;34m\u001b[0m\u001b[0m\n\u001b[0m\u001b[1;32m     64\u001b[0m \u001b[0;34m\u001b[0m\u001b[0m\n\u001b[1;32m     65\u001b[0m \u001b[0;31m#Fixme, the standard resouce module gives wrong number when objects are released\u001b[0m\u001b[0;34m\u001b[0m\u001b[0;34m\u001b[0m\u001b[0m\n",
      "\u001b[0;32m~/miniconda3/lib/python3.6/site-packages/numpy/ctypeslib.py\u001b[0m in \u001b[0;36mload_library\u001b[0;34m(libname, loader_path)\u001b[0m\n\u001b[1;32m    148\u001b[0m             \u001b[0;32mif\u001b[0m \u001b[0mos\u001b[0m\u001b[0;34m.\u001b[0m\u001b[0mpath\u001b[0m\u001b[0;34m.\u001b[0m\u001b[0mexists\u001b[0m\u001b[0;34m(\u001b[0m\u001b[0mlibpath\u001b[0m\u001b[0;34m)\u001b[0m\u001b[0;34m:\u001b[0m\u001b[0;34m\u001b[0m\u001b[0m\n\u001b[1;32m    149\u001b[0m                 \u001b[0;32mtry\u001b[0m\u001b[0;34m:\u001b[0m\u001b[0;34m\u001b[0m\u001b[0m\n\u001b[0;32m--> 150\u001b[0;31m                     \u001b[0;32mreturn\u001b[0m \u001b[0mctypes\u001b[0m\u001b[0;34m.\u001b[0m\u001b[0mcdll\u001b[0m\u001b[0;34m[\u001b[0m\u001b[0mlibpath\u001b[0m\u001b[0;34m]\u001b[0m\u001b[0;34m\u001b[0m\u001b[0m\n\u001b[0m\u001b[1;32m    151\u001b[0m                 \u001b[0;32mexcept\u001b[0m \u001b[0mOSError\u001b[0m\u001b[0;34m:\u001b[0m\u001b[0;34m\u001b[0m\u001b[0m\n\u001b[1;32m    152\u001b[0m                     \u001b[0;31m## defective lib file\u001b[0m\u001b[0;34m\u001b[0m\u001b[0;34m\u001b[0m\u001b[0m\n",
      "\u001b[0;32m~/miniconda3/lib/python3.6/ctypes/__init__.py\u001b[0m in \u001b[0;36m__getitem__\u001b[0;34m(self, name)\u001b[0m\n\u001b[1;32m    421\u001b[0m \u001b[0;34m\u001b[0m\u001b[0m\n\u001b[1;32m    422\u001b[0m     \u001b[0;32mdef\u001b[0m \u001b[0m__getitem__\u001b[0m\u001b[0;34m(\u001b[0m\u001b[0mself\u001b[0m\u001b[0;34m,\u001b[0m \u001b[0mname\u001b[0m\u001b[0;34m)\u001b[0m\u001b[0;34m:\u001b[0m\u001b[0;34m\u001b[0m\u001b[0m\n\u001b[0;32m--> 423\u001b[0;31m         \u001b[0;32mreturn\u001b[0m \u001b[0mgetattr\u001b[0m\u001b[0;34m(\u001b[0m\u001b[0mself\u001b[0m\u001b[0;34m,\u001b[0m \u001b[0mname\u001b[0m\u001b[0;34m)\u001b[0m\u001b[0;34m\u001b[0m\u001b[0m\n\u001b[0m\u001b[1;32m    424\u001b[0m \u001b[0;34m\u001b[0m\u001b[0m\n\u001b[1;32m    425\u001b[0m     \u001b[0;32mdef\u001b[0m \u001b[0mLoadLibrary\u001b[0m\u001b[0;34m(\u001b[0m\u001b[0mself\u001b[0m\u001b[0;34m,\u001b[0m \u001b[0mname\u001b[0m\u001b[0;34m)\u001b[0m\u001b[0;34m:\u001b[0m\u001b[0;34m\u001b[0m\u001b[0m\n",
      "\u001b[0;32m~/miniconda3/lib/python3.6/ctypes/__init__.py\u001b[0m in \u001b[0;36m__getattr__\u001b[0;34m(self, name)\u001b[0m\n\u001b[1;32m    416\u001b[0m         \u001b[0;32mif\u001b[0m \u001b[0mname\u001b[0m\u001b[0;34m[\u001b[0m\u001b[0;36m0\u001b[0m\u001b[0;34m]\u001b[0m \u001b[0;34m==\u001b[0m \u001b[0;34m'_'\u001b[0m\u001b[0;34m:\u001b[0m\u001b[0;34m\u001b[0m\u001b[0m\n\u001b[1;32m    417\u001b[0m             \u001b[0;32mraise\u001b[0m \u001b[0mAttributeError\u001b[0m\u001b[0;34m(\u001b[0m\u001b[0mname\u001b[0m\u001b[0;34m)\u001b[0m\u001b[0;34m\u001b[0m\u001b[0m\n\u001b[0;32m--> 418\u001b[0;31m         \u001b[0mdll\u001b[0m \u001b[0;34m=\u001b[0m \u001b[0mself\u001b[0m\u001b[0;34m.\u001b[0m\u001b[0m_dlltype\u001b[0m\u001b[0;34m(\u001b[0m\u001b[0mname\u001b[0m\u001b[0;34m)\u001b[0m\u001b[0;34m\u001b[0m\u001b[0m\n\u001b[0m\u001b[1;32m    419\u001b[0m         \u001b[0msetattr\u001b[0m\u001b[0;34m(\u001b[0m\u001b[0mself\u001b[0m\u001b[0;34m,\u001b[0m \u001b[0mname\u001b[0m\u001b[0;34m,\u001b[0m \u001b[0mdll\u001b[0m\u001b[0;34m)\u001b[0m\u001b[0;34m\u001b[0m\u001b[0m\n\u001b[1;32m    420\u001b[0m         \u001b[0;32mreturn\u001b[0m \u001b[0mdll\u001b[0m\u001b[0;34m\u001b[0m\u001b[0m\n",
      "\u001b[0;32m~/miniconda3/lib/python3.6/ctypes/__init__.py\u001b[0m in \u001b[0;36m__init__\u001b[0;34m(self, name, mode, handle, use_errno, use_last_error)\u001b[0m\n\u001b[1;32m    346\u001b[0m \u001b[0;34m\u001b[0m\u001b[0m\n\u001b[1;32m    347\u001b[0m         \u001b[0;32mif\u001b[0m \u001b[0mhandle\u001b[0m \u001b[0;32mis\u001b[0m \u001b[0;32mNone\u001b[0m\u001b[0;34m:\u001b[0m\u001b[0;34m\u001b[0m\u001b[0m\n\u001b[0;32m--> 348\u001b[0;31m             \u001b[0mself\u001b[0m\u001b[0;34m.\u001b[0m\u001b[0m_handle\u001b[0m \u001b[0;34m=\u001b[0m \u001b[0m_dlopen\u001b[0m\u001b[0;34m(\u001b[0m\u001b[0mself\u001b[0m\u001b[0;34m.\u001b[0m\u001b[0m_name\u001b[0m\u001b[0;34m,\u001b[0m \u001b[0mmode\u001b[0m\u001b[0;34m)\u001b[0m\u001b[0;34m\u001b[0m\u001b[0m\n\u001b[0m\u001b[1;32m    349\u001b[0m         \u001b[0;32melse\u001b[0m\u001b[0;34m:\u001b[0m\u001b[0;34m\u001b[0m\u001b[0m\n\u001b[1;32m    350\u001b[0m             \u001b[0mself\u001b[0m\u001b[0;34m.\u001b[0m\u001b[0m_handle\u001b[0m \u001b[0;34m=\u001b[0m \u001b[0mhandle\u001b[0m\u001b[0;34m\u001b[0m\u001b[0m\n",
      "\u001b[0;31mOSError\u001b[0m: dlopen(/Users/jets/apps/pyscf/pyscf/lib/libcgto.dylib, 6): Library not loaded: libcint.3.0.dylib\n  Referenced from: /Users/jets/apps/pyscf/pyscf/lib/libcgto.dylib\n  Reason: image not found"
     ]
    }
   ],
   "source": [
    "# Here we import two modules from PySCF the gto (gaussian type orbital) and scf (self consistent field) modules.\n",
    "from pyscf import gto, scf, molden\n",
    "import matplotlib.pyplot as plt\n",
    "from mpl_toolkits.mplot3d import axes3d\n",
    "\n",
    "%matplotlib notebook"
   ]
  },
  {
   "cell_type": "markdown",
   "metadata": {},
   "source": [
    "# Molecule Input"
   ]
  },
  {
   "cell_type": "markdown",
   "metadata": {},
   "source": [
    "There are a few different ways that we can input molecules into PySCF.\n",
    "\n",
    "* First, we can intialize a molecule (`Mole`) object, add properties to it individually, *and then* build the molecule with the `build` function."
   ]
  },
  {
   "cell_type": "code",
   "execution_count": null,
   "metadata": {},
   "outputs": [],
   "source": [
    "mol = gto.Mole()\n",
    "mol.atom = '''O 0 0 0; H  0 1 0; H 0 0 1'''\n",
    "mol.basis = 'sto-3g'\n",
    "mol.build()"
   ]
  },
  {
   "cell_type": "markdown",
   "metadata": {},
   "source": [
    "* Second, we can combine the last two steps by passing the properties like `atom` to the `build` command."
   ]
  },
  {
   "cell_type": "code",
   "execution_count": null,
   "metadata": {},
   "outputs": [],
   "source": [
    "mol = gto.Mole()\n",
    "mol.build(\n",
    "    atom = '''O 0 0 0; H  0 1 0; H 0 0 1''',\n",
    "    basis = 'sto-3g',\n",
    ")"
   ]
  },
  {
   "cell_type": "markdown",
   "metadata": {},
   "source": [
    "* Finally, we can combine all three steps by using the `M` function."
   ]
  },
  {
   "cell_type": "code",
   "execution_count": null,
   "metadata": {},
   "outputs": [],
   "source": [
    "mol = gto.M(\n",
    "    atom = '''O 0 0 0; H  0 1 0; H 0 0 1''',\n",
    "    basis = 'sto-3g',\n",
    ")"
   ]
  },
  {
   "cell_type": "markdown",
   "metadata": {},
   "source": [
    "Now that we know the basics of building a molecule in PySCF, let's dig a little deeper into the `atom` property (i.e. the coordinates of the atoms in our system).\n",
    "\n",
    "If you've worked with quantum chemistry packages before, then you are probably also familiar with the frustration that inputting geometries bring. PySCF makes this as simple as cutting and pasting the coordinates from an XYZ file. In the example below, I simply paste the XYZ coordinates for ethane into the triple-quotes and then set my `atom` equal to the `xyz` variable when I build my molecule."
   ]
  },
  {
   "cell_type": "code",
   "execution_count": null,
   "metadata": {},
   "outputs": [],
   "source": [
    "mol = None # Clear the variable\n",
    "xyz = '''\n",
    "  C     -0.7516      0.0225      0.0209\n",
    "  C      0.7516     -0.0225     -0.0209\n",
    "  H      1.1669      0.8330     -0.5693\n",
    "  H      1.1155     -0.9329     -0.5145\n",
    "  H      1.1851     -0.0039      0.9875\n",
    "  H     -1.1669     -0.8334      0.5687\n",
    "  H     -1.1157      0.9326      0.5151\n",
    "  H     -1.1850      0.0044     -0.9875'''\n",
    "\n",
    "mol = gto.Mole()\n",
    "mol.atom = xyz"
   ]
  },
  {
   "cell_type": "markdown",
   "metadata": {},
   "source": [
    "The `mol` object also allows to input the basis for the calculation. In the earlier examples I chose the `sto-3g` basis, but in practice you will probably use other basis. For a full list of the basis sets see [this link](https://github.com/sunqm/pyscf/blob/master/pyscf/gto/basis/__init__.py)."
   ]
  },
  {
   "cell_type": "code",
   "execution_count": null,
   "metadata": {},
   "outputs": [],
   "source": [
    "mol.basis = 'ccpvdz' # We usually use this basis set for initial calculations on a system\n",
    "mol.build()"
   ]
  },
  {
   "cell_type": "markdown",
   "metadata": {},
   "source": [
    "The molecule object have a few other important attributes which can similarly be set by `mol.property = value` or adding `property = value` to the `build` or `M` functions.\n",
    "For example we can set the charge, spin, and symmetry of the system as well as the verbosity of the output. The properties I've mentioned here are just the ones that we use commonly in research. For more details about the symmetry see [this link](http://sunqm.github.io/pyscf/symm.html?highlight=symmetry) (this will become important if you need to specify the number of electrons in orbitals of a particular symmetry)."
   ]
  },
  {
   "cell_type": "code",
   "execution_count": null,
   "metadata": {},
   "outputs": [],
   "source": [
    "mol.charge =0\n",
    "mol.spin = 0 # (number of alpha elec) - (number of beta elec) i.e. for doublets spin = 1\n",
    "mol.symmetry = True # Allows PySCF to use highest possible symmetry for molecule"
   ]
  },
  {
   "cell_type": "markdown",
   "metadata": {},
   "source": [
    "# First calculation"
   ]
  },
  {
   "cell_type": "markdown",
   "metadata": {},
   "source": [
    "For the first calculation we will perform a simple restricted Hartree-Fock calculation on our ethane molecule. First we create our Hartree-Fock object, and by convention we call it `mf` (since DFT is based on a modified Fock operator it is also called `mf` by convention)."
   ]
  },
  {
   "cell_type": "code",
   "execution_count": null,
   "metadata": {},
   "outputs": [],
   "source": [
    "mf = scf.RHF(mol)"
   ]
  },
  {
   "cell_type": "markdown",
   "metadata": {},
   "source": [
    "The `kernel` function is used to actually launch the calculation of an object (here: minimizes the energy by performing iterative unitary transformations on the molecular orbitals)."
   ]
  },
  {
   "cell_type": "code",
   "execution_count": null,
   "metadata": {},
   "outputs": [],
   "source": [
    "mf.kernel() # Should print -79.2346189538153"
   ]
  },
  {
   "cell_type": "markdown",
   "metadata": {},
   "source": [
    "We can capture the output of the kernel to save the energy to a variable, or access it at a later time with `mf.e_tot`. Once the optimization is complete our `mf` object also stores the MO energies, occupancy, and coefficients (the columns of the `mf.mo_coeff` array are the MO orbitals)."
   ]
  },
  {
   "cell_type": "code",
   "execution_count": null,
   "metadata": {},
   "outputs": [],
   "source": [
    "print(\"Optimized energy = %f\" % mf.e_tot)\n",
    "print(\"Shape of MO coefficient matrix = \", mf.mo_coeff.shape)"
   ]
  },
  {
   "cell_type": "markdown",
   "metadata": {},
   "source": [
    "By saving the orbital coefficients to a `molden` file, we can view the orbitals with viewers like `Jmol`, `GaussView`, `Avogadro`, etc. This is crucial when picking an active space where we might want to pick all atomic orbitals of a certain type (e.g. `C 2pz`)."
   ]
  },
  {
   "cell_type": "code",
   "execution_count": null,
   "metadata": {},
   "outputs": [],
   "source": [
    "with open('C2H6mo.molden', 'w') as f1:\n",
    "    molden.header(mol, f1)\n",
    "    # If you don't specify the ene and occ options, the orbitals will be assigned integral energies and won't show\n",
    "    # any occupation.\n",
    "    molden.orbital_coeff(mol, f1, mf.mo_coeff, ene=mf.mo_energy, occ=mf.mo_occ)"
   ]
  },
  {
   "cell_type": "markdown",
   "metadata": {},
   "source": [
    "# Note: Molecule Drawing in Python"
   ]
  },
  {
   "cell_type": "code",
   "execution_count": null,
   "metadata": {},
   "outputs": [],
   "source": [
    "# Just a sketch to illustrate how you can roughly plot the molecules within python (w/ only matplotlib)\n",
    "# You should be able to move/rotate the figure with your mouse, if you can't try running this cell again\n",
    "cxs = [-0.7516, 0.7516]\n",
    "hxs = [1.1669, 1.1155, 1.1851, -1.1669, -1.1157, -1.1850]\n",
    "cys = [ 0.0225, -0.0225]\n",
    "hys = [0.8330, -0.9329, -0.0039, -0.8334,  0.9326,  0.0044]\n",
    "czs = [ 0.0209, -0.0209]\n",
    "hzs = [-0.5693,-0.5145, 0.9875, 0.5687, 0.5151,-0.9875]\n",
    "\n",
    "# Figure\n",
    "fig = plt.figure()\n",
    "ax = fig.add_subplot(111, projection='3d')\n",
    "\n",
    "# Add Atoms\n",
    "ax.scatter(cxs,cys,czs, c='#6f6f6f', s=300, depthshade=False)\n",
    "ax.scatter(hxs,hys,hzs, c='#eaeaea', s=150, depthshade=False)\n",
    "\n",
    "# Change background color\n",
    "ax.set_facecolor('#8bd9ff')\n",
    "\n",
    "plt.show()"
   ]
  }
 ],
 "metadata": {
  "kernelspec": {
   "display_name": "Python 3",
   "language": "python",
   "name": "python3"
  },
  "language_info": {
   "codemirror_mode": {
    "name": "ipython",
    "version": 3
   },
   "file_extension": ".py",
   "mimetype": "text/x-python",
   "name": "python",
   "nbconvert_exporter": "python",
   "pygments_lexer": "ipython3",
   "version": "3.6.3"
  }
 },
 "nbformat": 4,
 "nbformat_minor": 2
}
